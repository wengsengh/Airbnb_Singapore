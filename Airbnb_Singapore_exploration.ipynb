{
  "nbformat": 4,
  "nbformat_minor": 0,
  "metadata": {
    "kernelspec": {
      "display_name": "Python 3",
      "language": "python",
      "name": "python3"
    },
    "language_info": {
      "codemirror_mode": {
        "name": "ipython",
        "version": 3
      },
      "file_extension": ".py",
      "mimetype": "text/x-python",
      "name": "python",
      "nbconvert_exporter": "python",
      "pygments_lexer": "ipython3",
      "version": "3.7.3"
    },
    "colab": {
      "name": "Airbnb_Singapore_exploration.ipynb",
      "provenance": [],
      "collapsed_sections": []
    }
  },
  "cells": [
    {
      "cell_type": "markdown",
      "metadata": {
        "id": "TyjqvZmkGtV8",
        "colab_type": "text"
      },
      "source": [
        "# Singapore Airbnb Exploration\n",
        "In this project, we are required to analysis data with CRISP-DM process. The CRISP-DM process is below"
      ]
    },
    {
      "cell_type": "markdown",
      "metadata": {
        "id": "Rg2GcNz4GtV9",
        "colab_type": "text"
      },
      "source": [
        "# Introduction\n",
        "The data explored in this notebook was obtained from the [Airbnb Open Data site](http://insideairbnb.com/get-the-data.html). The data contains information about the availability of the listings, the characteristics of the listing and reviews provided by guests for 2019.\n",
        "\n",
        "### Cross-Industry Standard Process for Data Mining (CRISP-DM) \n",
        "### Business Understanding\n",
        "Understand the business drivers of the analysis to ensure value is provided in the correct focus areas. This involves understanding the business context and domain.\n",
        "### Data Understanding\n",
        "Collect data, describe data and explore data. Usually includes checking for data quality issues and getting clarity around what data is available and what is not available.\n",
        "### Data Preparation\n",
        "Select data, clean data, dervie/generate new data fields, and integrate data. The output will be data sets ready for use in analysis and modelling.\n",
        "### Modeling\n",
        "Select modelling technique (simple or complex), build model and assess model.\n",
        "### Evaluation\n",
        "Evaluate degree to which the model meets business aims and answers the business questions posed. Ideally, we want to draw conclusions related to the questions posed. Plan for potential future steps.\n",
        "### Deployment\n",
        "Determine a strategy for deployment. Goes into the realms of operationalising models for the business."
      ]
    },
    {
      "cell_type": "markdown",
      "metadata": {
        "id": "SMRAZzeKGtV-",
        "colab_type": "text"
      },
      "source": [
        "# Business Understanding\n",
        "Airbnb is an online platform that connects travellers looking for accommodation to hosts of spaces available for rent.\n",
        "In this exploration, we try find out the pattern of property through Airbnb and maximise the revenue returns from rental income. Here few question we are interested with:\n",
        "### 1. When in the year 2019 give the higher revenues in Singapore with Airbnb?\n",
        "### 2. Which locations give the higher revenue in Singapore with Airbnb?\n",
        "### 3. What are the property characteristics give higher revenues in Singapore with Airbnb?"
      ]
    },
    {
      "cell_type": "markdown",
      "metadata": {
        "id": "oCA9kxe0GtV_",
        "colab_type": "text"
      },
      "source": [
        "# Data Understanding\n",
        "Here we got 3 dataset which is:<p><p>\n",
        "listings: Descriptions and average review score <p>\n",
        "calendar: Price and availability for particular day<p>\n",
        "reviews: Unique ID for each reviewer and individual comments"
      ]
    },
    {
      "cell_type": "code",
      "metadata": {
        "id": "CM7nCT3JGtWA",
        "colab_type": "code",
        "colab": {}
      },
      "source": [
        "import numpy as np\n",
        "import pandas as pd \n",
        "from datetime import datetime\n",
        "import calendar\n",
        "import matplotlib.pyplot as plt\n",
        "%matplotlib inline\n",
        "import seaborn as sns\n",
        "import matplotlib.ticker as ticker\n",
        "\n",
        "from sklearn import preprocessing\n",
        "from time import time\n",
        "from sklearn.metrics import accuracy_score, mean_squared_error, median_absolute_error, r2_score\n",
        "from sklearn.model_selection import train_test_split\n",
        "from sklearn.linear_model import LinearRegression, RidgeCV, Lasso\n",
        "from sklearn.compose import TransformedTargetRegressor\n",
        "from sklearn.tree import DecisionTreeRegressor\n",
        "from sklearn.ensemble import RandomForestClassifier, GradientBoostingClassifier\n",
        "from sklearn.metrics import fbeta_score, confusion_matrix, make_scorer, accuracy_score"
      ],
      "execution_count": 0,
      "outputs": []
    },
    {
      "cell_type": "code",
      "metadata": {
        "colab_type": "code",
        "id": "nFj9Nbqfqs6y",
        "colab": {}
      },
      "source": [
        "# load from gdrive\n",
        "from google.colab import drive\n",
        "drive.mount('/content/drive')"
      ],
      "execution_count": 0,
      "outputs": []
    },
    {
      "cell_type": "code",
      "metadata": {
        "id": "qGDQN86qGtWE",
        "colab_type": "code",
        "outputId": "607e75ba-81e8-440e-8a77-216860130038",
        "colab": {
          "base_uri": "https://localhost:8080/",
          "height": 71
        }
      },
      "source": [
        "# load data\n",
        "listing = pd.read_csv('/content/drive/My Drive/Colab Notebooks/p4/listings.csv')\n",
        "calendar = pd.read_csv('/content/drive/My Drive/Colab Notebooks/p4/calendar.csv')\n",
        "review = pd.read_csv('/content/drive/My Drive/Colab Notebooks/p4/reviews.csv')"
      ],
      "execution_count": 0,
      "outputs": [
        {
          "output_type": "stream",
          "text": [
            "/usr/local/lib/python3.6/dist-packages/IPython/core/interactiveshell.py:2718: DtypeWarning: Columns (42,43,61,62,94,95) have mixed types. Specify dtype option on import or set low_memory=False.\n",
            "  interactivity=interactivity, compiler=compiler, result=result)\n"
          ],
          "name": "stderr"
        }
      ]
    },
    {
      "cell_type": "code",
      "metadata": {
        "id": "MfFkdTRkkwno",
        "colab_type": "code",
        "outputId": "9b1c9c61-873b-4a1f-8edd-ab1e66dc0030",
        "colab": {
          "base_uri": "https://localhost:8080/",
          "height": 80
        }
      },
      "source": [
        "calendar.head(1)"
      ],
      "execution_count": 0,
      "outputs": [
        {
          "output_type": "execute_result",
          "data": {
            "text/html": [
              "<div>\n",
              "<style scoped>\n",
              "    .dataframe tbody tr th:only-of-type {\n",
              "        vertical-align: middle;\n",
              "    }\n",
              "\n",
              "    .dataframe tbody tr th {\n",
              "        vertical-align: top;\n",
              "    }\n",
              "\n",
              "    .dataframe thead th {\n",
              "        text-align: right;\n",
              "    }\n",
              "</style>\n",
              "<table border=\"1\" class=\"dataframe\">\n",
              "  <thead>\n",
              "    <tr style=\"text-align: right;\">\n",
              "      <th></th>\n",
              "      <th>listing_id</th>\n",
              "      <th>date</th>\n",
              "      <th>available</th>\n",
              "      <th>price</th>\n",
              "      <th>adjusted_price</th>\n",
              "      <th>minimum_nights</th>\n",
              "      <th>maximum_nights</th>\n",
              "    </tr>\n",
              "  </thead>\n",
              "  <tbody>\n",
              "    <tr>\n",
              "      <th>0</th>\n",
              "      <td>49091</td>\n",
              "      <td>2019-06-25</td>\n",
              "      <td>t</td>\n",
              "      <td>$81.00</td>\n",
              "      <td>$81.00</td>\n",
              "      <td>180</td>\n",
              "      <td>360</td>\n",
              "    </tr>\n",
              "  </tbody>\n",
              "</table>\n",
              "</div>"
            ],
            "text/plain": [
              "   listing_id        date  ... minimum_nights maximum_nights\n",
              "0       49091  2019-06-25  ...            180            360\n",
              "\n",
              "[1 rows x 7 columns]"
            ]
          },
          "metadata": {
            "tags": []
          },
          "execution_count": 4
        }
      ]
    },
    {
      "cell_type": "code",
      "metadata": {
        "id": "tqkXabVwkxlG",
        "colab_type": "code",
        "colab": {}
      },
      "source": [
        "test = calendar[calendar['listing_id'] ==20791161]"
      ],
      "execution_count": 0,
      "outputs": []
    },
    {
      "cell_type": "code",
      "metadata": {
        "id": "V0pdVvgel6Zp",
        "colab_type": "code",
        "outputId": "f5f2241d-089d-4a40-9c65-3049a8a5f7c2",
        "colab": {
          "base_uri": "https://localhost:8080/",
          "height": 1000
        }
      },
      "source": [
        "test[test['available'] =='f']"
      ],
      "execution_count": 0,
      "outputs": [
        {
          "output_type": "execute_result",
          "data": {
            "text/html": [
              "<div>\n",
              "<style scoped>\n",
              "    .dataframe tbody tr th:only-of-type {\n",
              "        vertical-align: middle;\n",
              "    }\n",
              "\n",
              "    .dataframe tbody tr th {\n",
              "        vertical-align: top;\n",
              "    }\n",
              "\n",
              "    .dataframe thead th {\n",
              "        text-align: right;\n",
              "    }\n",
              "</style>\n",
              "<table border=\"1\" class=\"dataframe\">\n",
              "  <thead>\n",
              "    <tr style=\"text-align: right;\">\n",
              "      <th></th>\n",
              "      <th>listing_id</th>\n",
              "      <th>date</th>\n",
              "      <th>available</th>\n",
              "      <th>price</th>\n",
              "      <th>adjusted_price</th>\n",
              "      <th>minimum_nights</th>\n",
              "      <th>maximum_nights</th>\n",
              "    </tr>\n",
              "  </thead>\n",
              "  <tbody>\n",
              "    <tr>\n",
              "      <th>1188173</th>\n",
              "      <td>20791161</td>\n",
              "      <td>2019-06-26</td>\n",
              "      <td>f</td>\n",
              "      <td>$10,000.00</td>\n",
              "      <td>$10,000.00</td>\n",
              "      <td>2</td>\n",
              "      <td>1125</td>\n",
              "    </tr>\n",
              "    <tr>\n",
              "      <th>1188263</th>\n",
              "      <td>20791161</td>\n",
              "      <td>2019-09-24</td>\n",
              "      <td>f</td>\n",
              "      <td>$10,000.00</td>\n",
              "      <td>$10,000.00</td>\n",
              "      <td>2</td>\n",
              "      <td>1125</td>\n",
              "    </tr>\n",
              "    <tr>\n",
              "      <th>1188264</th>\n",
              "      <td>20791161</td>\n",
              "      <td>2019-09-25</td>\n",
              "      <td>f</td>\n",
              "      <td>$10,000.00</td>\n",
              "      <td>$10,000.00</td>\n",
              "      <td>2</td>\n",
              "      <td>1125</td>\n",
              "    </tr>\n",
              "    <tr>\n",
              "      <th>1188265</th>\n",
              "      <td>20791161</td>\n",
              "      <td>2019-09-26</td>\n",
              "      <td>f</td>\n",
              "      <td>$10,000.00</td>\n",
              "      <td>$10,000.00</td>\n",
              "      <td>2</td>\n",
              "      <td>1125</td>\n",
              "    </tr>\n",
              "    <tr>\n",
              "      <th>1188266</th>\n",
              "      <td>20791161</td>\n",
              "      <td>2019-09-27</td>\n",
              "      <td>f</td>\n",
              "      <td>$11,000.00</td>\n",
              "      <td>$11,000.00</td>\n",
              "      <td>2</td>\n",
              "      <td>1125</td>\n",
              "    </tr>\n",
              "    <tr>\n",
              "      <th>1188267</th>\n",
              "      <td>20791161</td>\n",
              "      <td>2019-09-28</td>\n",
              "      <td>f</td>\n",
              "      <td>$11,000.00</td>\n",
              "      <td>$11,000.00</td>\n",
              "      <td>2</td>\n",
              "      <td>1125</td>\n",
              "    </tr>\n",
              "    <tr>\n",
              "      <th>1188268</th>\n",
              "      <td>20791161</td>\n",
              "      <td>2019-09-29</td>\n",
              "      <td>f</td>\n",
              "      <td>$10,000.00</td>\n",
              "      <td>$10,000.00</td>\n",
              "      <td>2</td>\n",
              "      <td>1125</td>\n",
              "    </tr>\n",
              "    <tr>\n",
              "      <th>1188269</th>\n",
              "      <td>20791161</td>\n",
              "      <td>2019-09-30</td>\n",
              "      <td>f</td>\n",
              "      <td>$10,000.00</td>\n",
              "      <td>$10,000.00</td>\n",
              "      <td>2</td>\n",
              "      <td>1125</td>\n",
              "    </tr>\n",
              "    <tr>\n",
              "      <th>1188270</th>\n",
              "      <td>20791161</td>\n",
              "      <td>2019-10-01</td>\n",
              "      <td>f</td>\n",
              "      <td>$10,000.00</td>\n",
              "      <td>$10,000.00</td>\n",
              "      <td>2</td>\n",
              "      <td>1125</td>\n",
              "    </tr>\n",
              "    <tr>\n",
              "      <th>1188271</th>\n",
              "      <td>20791161</td>\n",
              "      <td>2019-10-02</td>\n",
              "      <td>f</td>\n",
              "      <td>$10,000.00</td>\n",
              "      <td>$10,000.00</td>\n",
              "      <td>2</td>\n",
              "      <td>1125</td>\n",
              "    </tr>\n",
              "    <tr>\n",
              "      <th>1188272</th>\n",
              "      <td>20791161</td>\n",
              "      <td>2019-10-03</td>\n",
              "      <td>f</td>\n",
              "      <td>$10,000.00</td>\n",
              "      <td>$10,000.00</td>\n",
              "      <td>2</td>\n",
              "      <td>1125</td>\n",
              "    </tr>\n",
              "    <tr>\n",
              "      <th>1188273</th>\n",
              "      <td>20791161</td>\n",
              "      <td>2019-10-04</td>\n",
              "      <td>f</td>\n",
              "      <td>$11,000.00</td>\n",
              "      <td>$11,000.00</td>\n",
              "      <td>2</td>\n",
              "      <td>1125</td>\n",
              "    </tr>\n",
              "    <tr>\n",
              "      <th>1188274</th>\n",
              "      <td>20791161</td>\n",
              "      <td>2019-10-05</td>\n",
              "      <td>f</td>\n",
              "      <td>$11,000.00</td>\n",
              "      <td>$11,000.00</td>\n",
              "      <td>2</td>\n",
              "      <td>1125</td>\n",
              "    </tr>\n",
              "    <tr>\n",
              "      <th>1188275</th>\n",
              "      <td>20791161</td>\n",
              "      <td>2019-10-06</td>\n",
              "      <td>f</td>\n",
              "      <td>$10,000.00</td>\n",
              "      <td>$10,000.00</td>\n",
              "      <td>2</td>\n",
              "      <td>1125</td>\n",
              "    </tr>\n",
              "    <tr>\n",
              "      <th>1188276</th>\n",
              "      <td>20791161</td>\n",
              "      <td>2019-10-07</td>\n",
              "      <td>f</td>\n",
              "      <td>$10,000.00</td>\n",
              "      <td>$10,000.00</td>\n",
              "      <td>2</td>\n",
              "      <td>1125</td>\n",
              "    </tr>\n",
              "    <tr>\n",
              "      <th>1188277</th>\n",
              "      <td>20791161</td>\n",
              "      <td>2019-10-08</td>\n",
              "      <td>f</td>\n",
              "      <td>$10,000.00</td>\n",
              "      <td>$10,000.00</td>\n",
              "      <td>2</td>\n",
              "      <td>1125</td>\n",
              "    </tr>\n",
              "    <tr>\n",
              "      <th>1188278</th>\n",
              "      <td>20791161</td>\n",
              "      <td>2019-10-09</td>\n",
              "      <td>f</td>\n",
              "      <td>$10,000.00</td>\n",
              "      <td>$10,000.00</td>\n",
              "      <td>2</td>\n",
              "      <td>1125</td>\n",
              "    </tr>\n",
              "    <tr>\n",
              "      <th>1188279</th>\n",
              "      <td>20791161</td>\n",
              "      <td>2019-10-10</td>\n",
              "      <td>f</td>\n",
              "      <td>$10,000.00</td>\n",
              "      <td>$10,000.00</td>\n",
              "      <td>2</td>\n",
              "      <td>1125</td>\n",
              "    </tr>\n",
              "    <tr>\n",
              "      <th>1188280</th>\n",
              "      <td>20791161</td>\n",
              "      <td>2019-10-11</td>\n",
              "      <td>f</td>\n",
              "      <td>$11,000.00</td>\n",
              "      <td>$11,000.00</td>\n",
              "      <td>2</td>\n",
              "      <td>1125</td>\n",
              "    </tr>\n",
              "    <tr>\n",
              "      <th>1188281</th>\n",
              "      <td>20791161</td>\n",
              "      <td>2019-10-12</td>\n",
              "      <td>f</td>\n",
              "      <td>$11,000.00</td>\n",
              "      <td>$11,000.00</td>\n",
              "      <td>2</td>\n",
              "      <td>1125</td>\n",
              "    </tr>\n",
              "    <tr>\n",
              "      <th>1188282</th>\n",
              "      <td>20791161</td>\n",
              "      <td>2019-10-13</td>\n",
              "      <td>f</td>\n",
              "      <td>$10,000.00</td>\n",
              "      <td>$10,000.00</td>\n",
              "      <td>2</td>\n",
              "      <td>1125</td>\n",
              "    </tr>\n",
              "    <tr>\n",
              "      <th>1188283</th>\n",
              "      <td>20791161</td>\n",
              "      <td>2019-10-14</td>\n",
              "      <td>f</td>\n",
              "      <td>$10,000.00</td>\n",
              "      <td>$10,000.00</td>\n",
              "      <td>2</td>\n",
              "      <td>1125</td>\n",
              "    </tr>\n",
              "    <tr>\n",
              "      <th>1188284</th>\n",
              "      <td>20791161</td>\n",
              "      <td>2019-10-15</td>\n",
              "      <td>f</td>\n",
              "      <td>$10,000.00</td>\n",
              "      <td>$10,000.00</td>\n",
              "      <td>2</td>\n",
              "      <td>1125</td>\n",
              "    </tr>\n",
              "    <tr>\n",
              "      <th>1188285</th>\n",
              "      <td>20791161</td>\n",
              "      <td>2019-10-16</td>\n",
              "      <td>f</td>\n",
              "      <td>$10,000.00</td>\n",
              "      <td>$10,000.00</td>\n",
              "      <td>2</td>\n",
              "      <td>1125</td>\n",
              "    </tr>\n",
              "    <tr>\n",
              "      <th>1188286</th>\n",
              "      <td>20791161</td>\n",
              "      <td>2019-10-17</td>\n",
              "      <td>f</td>\n",
              "      <td>$10,000.00</td>\n",
              "      <td>$10,000.00</td>\n",
              "      <td>2</td>\n",
              "      <td>1125</td>\n",
              "    </tr>\n",
              "    <tr>\n",
              "      <th>1188287</th>\n",
              "      <td>20791161</td>\n",
              "      <td>2019-10-18</td>\n",
              "      <td>f</td>\n",
              "      <td>$11,000.00</td>\n",
              "      <td>$11,000.00</td>\n",
              "      <td>2</td>\n",
              "      <td>1125</td>\n",
              "    </tr>\n",
              "    <tr>\n",
              "      <th>1188288</th>\n",
              "      <td>20791161</td>\n",
              "      <td>2019-10-19</td>\n",
              "      <td>f</td>\n",
              "      <td>$11,000.00</td>\n",
              "      <td>$11,000.00</td>\n",
              "      <td>2</td>\n",
              "      <td>1125</td>\n",
              "    </tr>\n",
              "    <tr>\n",
              "      <th>1188289</th>\n",
              "      <td>20791161</td>\n",
              "      <td>2019-10-20</td>\n",
              "      <td>f</td>\n",
              "      <td>$10,000.00</td>\n",
              "      <td>$10,000.00</td>\n",
              "      <td>2</td>\n",
              "      <td>1125</td>\n",
              "    </tr>\n",
              "    <tr>\n",
              "      <th>1188290</th>\n",
              "      <td>20791161</td>\n",
              "      <td>2019-10-21</td>\n",
              "      <td>f</td>\n",
              "      <td>$10,000.00</td>\n",
              "      <td>$10,000.00</td>\n",
              "      <td>2</td>\n",
              "      <td>1125</td>\n",
              "    </tr>\n",
              "    <tr>\n",
              "      <th>1188291</th>\n",
              "      <td>20791161</td>\n",
              "      <td>2019-10-22</td>\n",
              "      <td>f</td>\n",
              "      <td>$10,000.00</td>\n",
              "      <td>$10,000.00</td>\n",
              "      <td>2</td>\n",
              "      <td>1125</td>\n",
              "    </tr>\n",
              "    <tr>\n",
              "      <th>...</th>\n",
              "      <td>...</td>\n",
              "      <td>...</td>\n",
              "      <td>...</td>\n",
              "      <td>...</td>\n",
              "      <td>...</td>\n",
              "      <td>...</td>\n",
              "      <td>...</td>\n",
              "    </tr>\n",
              "    <tr>\n",
              "      <th>1189038</th>\n",
              "      <td>20791161</td>\n",
              "      <td>2020-05-25</td>\n",
              "      <td>f</td>\n",
              "      <td>$10,000.00</td>\n",
              "      <td>$10,000.00</td>\n",
              "      <td>2</td>\n",
              "      <td>1125</td>\n",
              "    </tr>\n",
              "    <tr>\n",
              "      <th>1189039</th>\n",
              "      <td>20791161</td>\n",
              "      <td>2020-05-26</td>\n",
              "      <td>f</td>\n",
              "      <td>$10,000.00</td>\n",
              "      <td>$10,000.00</td>\n",
              "      <td>2</td>\n",
              "      <td>1125</td>\n",
              "    </tr>\n",
              "    <tr>\n",
              "      <th>1189040</th>\n",
              "      <td>20791161</td>\n",
              "      <td>2020-05-27</td>\n",
              "      <td>f</td>\n",
              "      <td>$10,000.00</td>\n",
              "      <td>$10,000.00</td>\n",
              "      <td>2</td>\n",
              "      <td>1125</td>\n",
              "    </tr>\n",
              "    <tr>\n",
              "      <th>1189041</th>\n",
              "      <td>20791161</td>\n",
              "      <td>2020-05-28</td>\n",
              "      <td>f</td>\n",
              "      <td>$10,000.00</td>\n",
              "      <td>$10,000.00</td>\n",
              "      <td>2</td>\n",
              "      <td>1125</td>\n",
              "    </tr>\n",
              "    <tr>\n",
              "      <th>1189042</th>\n",
              "      <td>20791161</td>\n",
              "      <td>2020-05-29</td>\n",
              "      <td>f</td>\n",
              "      <td>$11,000.00</td>\n",
              "      <td>$11,000.00</td>\n",
              "      <td>2</td>\n",
              "      <td>1125</td>\n",
              "    </tr>\n",
              "    <tr>\n",
              "      <th>1189043</th>\n",
              "      <td>20791161</td>\n",
              "      <td>2020-05-30</td>\n",
              "      <td>f</td>\n",
              "      <td>$11,000.00</td>\n",
              "      <td>$11,000.00</td>\n",
              "      <td>2</td>\n",
              "      <td>1125</td>\n",
              "    </tr>\n",
              "    <tr>\n",
              "      <th>1189044</th>\n",
              "      <td>20791161</td>\n",
              "      <td>2020-05-31</td>\n",
              "      <td>f</td>\n",
              "      <td>$10,000.00</td>\n",
              "      <td>$10,000.00</td>\n",
              "      <td>2</td>\n",
              "      <td>1125</td>\n",
              "    </tr>\n",
              "    <tr>\n",
              "      <th>1189045</th>\n",
              "      <td>20791161</td>\n",
              "      <td>2020-06-01</td>\n",
              "      <td>f</td>\n",
              "      <td>$10,000.00</td>\n",
              "      <td>$10,000.00</td>\n",
              "      <td>2</td>\n",
              "      <td>1125</td>\n",
              "    </tr>\n",
              "    <tr>\n",
              "      <th>1189046</th>\n",
              "      <td>20791161</td>\n",
              "      <td>2020-06-02</td>\n",
              "      <td>f</td>\n",
              "      <td>$10,000.00</td>\n",
              "      <td>$10,000.00</td>\n",
              "      <td>2</td>\n",
              "      <td>1125</td>\n",
              "    </tr>\n",
              "    <tr>\n",
              "      <th>1189047</th>\n",
              "      <td>20791161</td>\n",
              "      <td>2020-06-03</td>\n",
              "      <td>f</td>\n",
              "      <td>$10,000.00</td>\n",
              "      <td>$10,000.00</td>\n",
              "      <td>2</td>\n",
              "      <td>1125</td>\n",
              "    </tr>\n",
              "    <tr>\n",
              "      <th>1189048</th>\n",
              "      <td>20791161</td>\n",
              "      <td>2020-06-04</td>\n",
              "      <td>f</td>\n",
              "      <td>$10,000.00</td>\n",
              "      <td>$10,000.00</td>\n",
              "      <td>2</td>\n",
              "      <td>1125</td>\n",
              "    </tr>\n",
              "    <tr>\n",
              "      <th>1189049</th>\n",
              "      <td>20791161</td>\n",
              "      <td>2020-06-05</td>\n",
              "      <td>f</td>\n",
              "      <td>$11,000.00</td>\n",
              "      <td>$11,000.00</td>\n",
              "      <td>2</td>\n",
              "      <td>1125</td>\n",
              "    </tr>\n",
              "    <tr>\n",
              "      <th>1189050</th>\n",
              "      <td>20791161</td>\n",
              "      <td>2020-06-06</td>\n",
              "      <td>f</td>\n",
              "      <td>$11,000.00</td>\n",
              "      <td>$11,000.00</td>\n",
              "      <td>2</td>\n",
              "      <td>1125</td>\n",
              "    </tr>\n",
              "    <tr>\n",
              "      <th>1189051</th>\n",
              "      <td>20791161</td>\n",
              "      <td>2020-06-07</td>\n",
              "      <td>f</td>\n",
              "      <td>$10,000.00</td>\n",
              "      <td>$10,000.00</td>\n",
              "      <td>2</td>\n",
              "      <td>1125</td>\n",
              "    </tr>\n",
              "    <tr>\n",
              "      <th>1189052</th>\n",
              "      <td>20791161</td>\n",
              "      <td>2020-06-08</td>\n",
              "      <td>f</td>\n",
              "      <td>$10,000.00</td>\n",
              "      <td>$10,000.00</td>\n",
              "      <td>2</td>\n",
              "      <td>1125</td>\n",
              "    </tr>\n",
              "    <tr>\n",
              "      <th>1189053</th>\n",
              "      <td>20791161</td>\n",
              "      <td>2020-06-09</td>\n",
              "      <td>f</td>\n",
              "      <td>$10,000.00</td>\n",
              "      <td>$10,000.00</td>\n",
              "      <td>2</td>\n",
              "      <td>1125</td>\n",
              "    </tr>\n",
              "    <tr>\n",
              "      <th>1189054</th>\n",
              "      <td>20791161</td>\n",
              "      <td>2020-06-10</td>\n",
              "      <td>f</td>\n",
              "      <td>$10,000.00</td>\n",
              "      <td>$10,000.00</td>\n",
              "      <td>2</td>\n",
              "      <td>1125</td>\n",
              "    </tr>\n",
              "    <tr>\n",
              "      <th>1189055</th>\n",
              "      <td>20791161</td>\n",
              "      <td>2020-06-11</td>\n",
              "      <td>f</td>\n",
              "      <td>$10,000.00</td>\n",
              "      <td>$10,000.00</td>\n",
              "      <td>2</td>\n",
              "      <td>1125</td>\n",
              "    </tr>\n",
              "    <tr>\n",
              "      <th>1189056</th>\n",
              "      <td>20791161</td>\n",
              "      <td>2020-06-12</td>\n",
              "      <td>f</td>\n",
              "      <td>$11,000.00</td>\n",
              "      <td>$11,000.00</td>\n",
              "      <td>2</td>\n",
              "      <td>1125</td>\n",
              "    </tr>\n",
              "    <tr>\n",
              "      <th>1189057</th>\n",
              "      <td>20791161</td>\n",
              "      <td>2020-06-13</td>\n",
              "      <td>f</td>\n",
              "      <td>$11,000.00</td>\n",
              "      <td>$11,000.00</td>\n",
              "      <td>2</td>\n",
              "      <td>1125</td>\n",
              "    </tr>\n",
              "    <tr>\n",
              "      <th>1189058</th>\n",
              "      <td>20791161</td>\n",
              "      <td>2020-06-14</td>\n",
              "      <td>f</td>\n",
              "      <td>$10,000.00</td>\n",
              "      <td>$10,000.00</td>\n",
              "      <td>2</td>\n",
              "      <td>1125</td>\n",
              "    </tr>\n",
              "    <tr>\n",
              "      <th>1189059</th>\n",
              "      <td>20791161</td>\n",
              "      <td>2020-06-15</td>\n",
              "      <td>f</td>\n",
              "      <td>$10,000.00</td>\n",
              "      <td>$10,000.00</td>\n",
              "      <td>2</td>\n",
              "      <td>1125</td>\n",
              "    </tr>\n",
              "    <tr>\n",
              "      <th>1189060</th>\n",
              "      <td>20791161</td>\n",
              "      <td>2020-06-16</td>\n",
              "      <td>f</td>\n",
              "      <td>$10,000.00</td>\n",
              "      <td>$10,000.00</td>\n",
              "      <td>2</td>\n",
              "      <td>1125</td>\n",
              "    </tr>\n",
              "    <tr>\n",
              "      <th>1189061</th>\n",
              "      <td>20791161</td>\n",
              "      <td>2020-06-17</td>\n",
              "      <td>f</td>\n",
              "      <td>$10,000.00</td>\n",
              "      <td>$10,000.00</td>\n",
              "      <td>2</td>\n",
              "      <td>1125</td>\n",
              "    </tr>\n",
              "    <tr>\n",
              "      <th>1189062</th>\n",
              "      <td>20791161</td>\n",
              "      <td>2020-06-18</td>\n",
              "      <td>f</td>\n",
              "      <td>$10,000.00</td>\n",
              "      <td>$10,000.00</td>\n",
              "      <td>2</td>\n",
              "      <td>1125</td>\n",
              "    </tr>\n",
              "    <tr>\n",
              "      <th>1189063</th>\n",
              "      <td>20791161</td>\n",
              "      <td>2020-06-19</td>\n",
              "      <td>f</td>\n",
              "      <td>$11,000.00</td>\n",
              "      <td>$11,000.00</td>\n",
              "      <td>2</td>\n",
              "      <td>1125</td>\n",
              "    </tr>\n",
              "    <tr>\n",
              "      <th>1189064</th>\n",
              "      <td>20791161</td>\n",
              "      <td>2020-06-20</td>\n",
              "      <td>f</td>\n",
              "      <td>$11,000.00</td>\n",
              "      <td>$11,000.00</td>\n",
              "      <td>2</td>\n",
              "      <td>1125</td>\n",
              "    </tr>\n",
              "    <tr>\n",
              "      <th>1189065</th>\n",
              "      <td>20791161</td>\n",
              "      <td>2020-06-21</td>\n",
              "      <td>f</td>\n",
              "      <td>$10,000.00</td>\n",
              "      <td>$10,000.00</td>\n",
              "      <td>2</td>\n",
              "      <td>1125</td>\n",
              "    </tr>\n",
              "    <tr>\n",
              "      <th>1189066</th>\n",
              "      <td>20791161</td>\n",
              "      <td>2020-06-22</td>\n",
              "      <td>f</td>\n",
              "      <td>$10,000.00</td>\n",
              "      <td>$10,000.00</td>\n",
              "      <td>2</td>\n",
              "      <td>1125</td>\n",
              "    </tr>\n",
              "    <tr>\n",
              "      <th>1189067</th>\n",
              "      <td>20791161</td>\n",
              "      <td>2020-06-23</td>\n",
              "      <td>f</td>\n",
              "      <td>$10,000.00</td>\n",
              "      <td>$10,000.00</td>\n",
              "      <td>2</td>\n",
              "      <td>1125</td>\n",
              "    </tr>\n",
              "  </tbody>\n",
              "</table>\n",
              "<p>275 rows × 7 columns</p>\n",
              "</div>"
            ],
            "text/plain": [
              "         listing_id        date  ... minimum_nights maximum_nights\n",
              "1188173    20791161  2019-06-26  ...              2           1125\n",
              "1188263    20791161  2019-09-24  ...              2           1125\n",
              "1188264    20791161  2019-09-25  ...              2           1125\n",
              "1188265    20791161  2019-09-26  ...              2           1125\n",
              "1188266    20791161  2019-09-27  ...              2           1125\n",
              "1188267    20791161  2019-09-28  ...              2           1125\n",
              "1188268    20791161  2019-09-29  ...              2           1125\n",
              "1188269    20791161  2019-09-30  ...              2           1125\n",
              "1188270    20791161  2019-10-01  ...              2           1125\n",
              "1188271    20791161  2019-10-02  ...              2           1125\n",
              "1188272    20791161  2019-10-03  ...              2           1125\n",
              "1188273    20791161  2019-10-04  ...              2           1125\n",
              "1188274    20791161  2019-10-05  ...              2           1125\n",
              "1188275    20791161  2019-10-06  ...              2           1125\n",
              "1188276    20791161  2019-10-07  ...              2           1125\n",
              "1188277    20791161  2019-10-08  ...              2           1125\n",
              "1188278    20791161  2019-10-09  ...              2           1125\n",
              "1188279    20791161  2019-10-10  ...              2           1125\n",
              "1188280    20791161  2019-10-11  ...              2           1125\n",
              "1188281    20791161  2019-10-12  ...              2           1125\n",
              "1188282    20791161  2019-10-13  ...              2           1125\n",
              "1188283    20791161  2019-10-14  ...              2           1125\n",
              "1188284    20791161  2019-10-15  ...              2           1125\n",
              "1188285    20791161  2019-10-16  ...              2           1125\n",
              "1188286    20791161  2019-10-17  ...              2           1125\n",
              "1188287    20791161  2019-10-18  ...              2           1125\n",
              "1188288    20791161  2019-10-19  ...              2           1125\n",
              "1188289    20791161  2019-10-20  ...              2           1125\n",
              "1188290    20791161  2019-10-21  ...              2           1125\n",
              "1188291    20791161  2019-10-22  ...              2           1125\n",
              "...             ...         ...  ...            ...            ...\n",
              "1189038    20791161  2020-05-25  ...              2           1125\n",
              "1189039    20791161  2020-05-26  ...              2           1125\n",
              "1189040    20791161  2020-05-27  ...              2           1125\n",
              "1189041    20791161  2020-05-28  ...              2           1125\n",
              "1189042    20791161  2020-05-29  ...              2           1125\n",
              "1189043    20791161  2020-05-30  ...              2           1125\n",
              "1189044    20791161  2020-05-31  ...              2           1125\n",
              "1189045    20791161  2020-06-01  ...              2           1125\n",
              "1189046    20791161  2020-06-02  ...              2           1125\n",
              "1189047    20791161  2020-06-03  ...              2           1125\n",
              "1189048    20791161  2020-06-04  ...              2           1125\n",
              "1189049    20791161  2020-06-05  ...              2           1125\n",
              "1189050    20791161  2020-06-06  ...              2           1125\n",
              "1189051    20791161  2020-06-07  ...              2           1125\n",
              "1189052    20791161  2020-06-08  ...              2           1125\n",
              "1189053    20791161  2020-06-09  ...              2           1125\n",
              "1189054    20791161  2020-06-10  ...              2           1125\n",
              "1189055    20791161  2020-06-11  ...              2           1125\n",
              "1189056    20791161  2020-06-12  ...              2           1125\n",
              "1189057    20791161  2020-06-13  ...              2           1125\n",
              "1189058    20791161  2020-06-14  ...              2           1125\n",
              "1189059    20791161  2020-06-15  ...              2           1125\n",
              "1189060    20791161  2020-06-16  ...              2           1125\n",
              "1189061    20791161  2020-06-17  ...              2           1125\n",
              "1189062    20791161  2020-06-18  ...              2           1125\n",
              "1189063    20791161  2020-06-19  ...              2           1125\n",
              "1189064    20791161  2020-06-20  ...              2           1125\n",
              "1189065    20791161  2020-06-21  ...              2           1125\n",
              "1189066    20791161  2020-06-22  ...              2           1125\n",
              "1189067    20791161  2020-06-23  ...              2           1125\n",
              "\n",
              "[275 rows x 7 columns]"
            ]
          },
          "metadata": {
            "tags": []
          },
          "execution_count": 6
        }
      ]
    },
    {
      "cell_type": "markdown",
      "metadata": {
        "id": "fjxxvgoDGtWH",
        "colab_type": "text"
      },
      "source": [
        "### listing dataset\n",
        "First we look at data information in listing"
      ]
    },
    {
      "cell_type": "code",
      "metadata": {
        "id": "G0Yul_FDGtWI",
        "colab_type": "code",
        "outputId": "6f887659-cc6d-4a7f-c525-b8aa672361ee",
        "colab": {
          "base_uri": "https://localhost:8080/",
          "height": 497
        }
      },
      "source": [
        "listing.head(3)"
      ],
      "execution_count": 0,
      "outputs": [
        {
          "output_type": "execute_result",
          "data": {
            "text/html": [
              "<div>\n",
              "<style scoped>\n",
              "    .dataframe tbody tr th:only-of-type {\n",
              "        vertical-align: middle;\n",
              "    }\n",
              "\n",
              "    .dataframe tbody tr th {\n",
              "        vertical-align: top;\n",
              "    }\n",
              "\n",
              "    .dataframe thead th {\n",
              "        text-align: right;\n",
              "    }\n",
              "</style>\n",
              "<table border=\"1\" class=\"dataframe\">\n",
              "  <thead>\n",
              "    <tr style=\"text-align: right;\">\n",
              "      <th></th>\n",
              "      <th>id</th>\n",
              "      <th>listing_url</th>\n",
              "      <th>scrape_id</th>\n",
              "      <th>last_scraped</th>\n",
              "      <th>name</th>\n",
              "      <th>summary</th>\n",
              "      <th>space</th>\n",
              "      <th>description</th>\n",
              "      <th>experiences_offered</th>\n",
              "      <th>neighborhood_overview</th>\n",
              "      <th>notes</th>\n",
              "      <th>transit</th>\n",
              "      <th>access</th>\n",
              "      <th>interaction</th>\n",
              "      <th>house_rules</th>\n",
              "      <th>thumbnail_url</th>\n",
              "      <th>medium_url</th>\n",
              "      <th>picture_url</th>\n",
              "      <th>xl_picture_url</th>\n",
              "      <th>host_id</th>\n",
              "      <th>host_url</th>\n",
              "      <th>host_name</th>\n",
              "      <th>host_since</th>\n",
              "      <th>host_location</th>\n",
              "      <th>host_about</th>\n",
              "      <th>host_response_time</th>\n",
              "      <th>host_response_rate</th>\n",
              "      <th>host_acceptance_rate</th>\n",
              "      <th>host_is_superhost</th>\n",
              "      <th>host_thumbnail_url</th>\n",
              "      <th>host_picture_url</th>\n",
              "      <th>host_neighbourhood</th>\n",
              "      <th>host_listings_count</th>\n",
              "      <th>host_total_listings_count</th>\n",
              "      <th>host_verifications</th>\n",
              "      <th>host_has_profile_pic</th>\n",
              "      <th>host_identity_verified</th>\n",
              "      <th>street</th>\n",
              "      <th>neighbourhood</th>\n",
              "      <th>neighbourhood_cleansed</th>\n",
              "      <th>...</th>\n",
              "      <th>extra_people</th>\n",
              "      <th>minimum_nights</th>\n",
              "      <th>maximum_nights</th>\n",
              "      <th>minimum_minimum_nights</th>\n",
              "      <th>maximum_minimum_nights</th>\n",
              "      <th>minimum_maximum_nights</th>\n",
              "      <th>maximum_maximum_nights</th>\n",
              "      <th>minimum_nights_avg_ntm</th>\n",
              "      <th>maximum_nights_avg_ntm</th>\n",
              "      <th>calendar_updated</th>\n",
              "      <th>has_availability</th>\n",
              "      <th>availability_30</th>\n",
              "      <th>availability_60</th>\n",
              "      <th>availability_90</th>\n",
              "      <th>availability_365</th>\n",
              "      <th>calendar_last_scraped</th>\n",
              "      <th>number_of_reviews</th>\n",
              "      <th>number_of_reviews_ltm</th>\n",
              "      <th>first_review</th>\n",
              "      <th>last_review</th>\n",
              "      <th>review_scores_rating</th>\n",
              "      <th>review_scores_accuracy</th>\n",
              "      <th>review_scores_cleanliness</th>\n",
              "      <th>review_scores_checkin</th>\n",
              "      <th>review_scores_communication</th>\n",
              "      <th>review_scores_location</th>\n",
              "      <th>review_scores_value</th>\n",
              "      <th>requires_license</th>\n",
              "      <th>license</th>\n",
              "      <th>jurisdiction_names</th>\n",
              "      <th>instant_bookable</th>\n",
              "      <th>is_business_travel_ready</th>\n",
              "      <th>cancellation_policy</th>\n",
              "      <th>require_guest_profile_picture</th>\n",
              "      <th>require_guest_phone_verification</th>\n",
              "      <th>calculated_host_listings_count</th>\n",
              "      <th>calculated_host_listings_count_entire_homes</th>\n",
              "      <th>calculated_host_listings_count_private_rooms</th>\n",
              "      <th>calculated_host_listings_count_shared_rooms</th>\n",
              "      <th>reviews_per_month</th>\n",
              "    </tr>\n",
              "  </thead>\n",
              "  <tbody>\n",
              "    <tr>\n",
              "      <th>0</th>\n",
              "      <td>49091</td>\n",
              "      <td>https://www.airbnb.com/rooms/49091</td>\n",
              "      <td>20190625153033</td>\n",
              "      <td>2019-06-25</td>\n",
              "      <td>COZICOMFORT LONG TERM STAY ROOM 2</td>\n",
              "      <td>NaN</td>\n",
              "      <td>This is Room No. 2.(available after Jan 15 201...</td>\n",
              "      <td>This is Room No. 2.(available after Jan 15 201...</td>\n",
              "      <td>none</td>\n",
              "      <td>NaN</td>\n",
              "      <td>NaN</td>\n",
              "      <td>NaN</td>\n",
              "      <td>NaN</td>\n",
              "      <td>NaN</td>\n",
              "      <td>No smoking indoors. Please turn off lights/fan...</td>\n",
              "      <td>NaN</td>\n",
              "      <td>NaN</td>\n",
              "      <td>https://a0.muscache.com/im/pictures/24485541/6...</td>\n",
              "      <td>NaN</td>\n",
              "      <td>266763</td>\n",
              "      <td>https://www.airbnb.com/users/show/266763</td>\n",
              "      <td>Francesca</td>\n",
              "      <td>2010-10-20</td>\n",
              "      <td>singapore</td>\n",
              "      <td>I am a private tutor by profession. My husband...</td>\n",
              "      <td>NaN</td>\n",
              "      <td>NaN</td>\n",
              "      <td>NaN</td>\n",
              "      <td>f</td>\n",
              "      <td>https://a0.muscache.com/im/pictures/94361977-2...</td>\n",
              "      <td>https://a0.muscache.com/im/pictures/94361977-2...</td>\n",
              "      <td>Woodlands</td>\n",
              "      <td>2.0</td>\n",
              "      <td>2.0</td>\n",
              "      <td>['email', 'phone', 'facebook', 'reviews', 'jum...</td>\n",
              "      <td>t</td>\n",
              "      <td>f</td>\n",
              "      <td>Singapore, Singapore</td>\n",
              "      <td>Woodlands</td>\n",
              "      <td>Woodlands</td>\n",
              "      <td>...</td>\n",
              "      <td>$14.00</td>\n",
              "      <td>180</td>\n",
              "      <td>360</td>\n",
              "      <td>180</td>\n",
              "      <td>180</td>\n",
              "      <td>360</td>\n",
              "      <td>360</td>\n",
              "      <td>180.0</td>\n",
              "      <td>360.0</td>\n",
              "      <td>61 months ago</td>\n",
              "      <td>t</td>\n",
              "      <td>30</td>\n",
              "      <td>60</td>\n",
              "      <td>90</td>\n",
              "      <td>365</td>\n",
              "      <td>2019-06-25</td>\n",
              "      <td>1</td>\n",
              "      <td>0</td>\n",
              "      <td>2013-10-21</td>\n",
              "      <td>2013-10-21</td>\n",
              "      <td>94.0</td>\n",
              "      <td>10.0</td>\n",
              "      <td>10.0</td>\n",
              "      <td>10.0</td>\n",
              "      <td>10.0</td>\n",
              "      <td>8.0</td>\n",
              "      <td>8.0</td>\n",
              "      <td>f</td>\n",
              "      <td>NaN</td>\n",
              "      <td>NaN</td>\n",
              "      <td>f</td>\n",
              "      <td>f</td>\n",
              "      <td>flexible</td>\n",
              "      <td>t</td>\n",
              "      <td>t</td>\n",
              "      <td>2</td>\n",
              "      <td>0</td>\n",
              "      <td>2</td>\n",
              "      <td>0</td>\n",
              "      <td>0.01</td>\n",
              "    </tr>\n",
              "    <tr>\n",
              "      <th>1</th>\n",
              "      <td>50646</td>\n",
              "      <td>https://www.airbnb.com/rooms/50646</td>\n",
              "      <td>20190625153033</td>\n",
              "      <td>2019-06-25</td>\n",
              "      <td>Pleasant Room along Bukit Timah</td>\n",
              "      <td>Fully furnished bedroom with a nice view on th...</td>\n",
              "      <td>Good Condition room, bright &amp; windy. Comes wit...</td>\n",
              "      <td>Fully furnished bedroom with a nice view on th...</td>\n",
              "      <td>none</td>\n",
              "      <td>The serenity &amp; quiet surrounding makes it an i...</td>\n",
              "      <td>Accommodation has a queen size bed.  Suitable ...</td>\n",
              "      <td>Less than 400m from the apartment is the main ...</td>\n",
              "      <td>Kitchen, washing facilities, gym, swimming poo...</td>\n",
              "      <td>We love to host people &amp; have the opportunity ...</td>\n",
              "      <td>'- Should be family friendly. '- Cooking is no...</td>\n",
              "      <td>NaN</td>\n",
              "      <td>NaN</td>\n",
              "      <td>https://a0.muscache.com/im/pictures/36342984/6...</td>\n",
              "      <td>NaN</td>\n",
              "      <td>227796</td>\n",
              "      <td>https://www.airbnb.com/users/show/227796</td>\n",
              "      <td>Sujatha</td>\n",
              "      <td>2010-09-08</td>\n",
              "      <td>Singapore, Singapore</td>\n",
              "      <td>I am a working professional, living in Singapo...</td>\n",
              "      <td>NaN</td>\n",
              "      <td>NaN</td>\n",
              "      <td>NaN</td>\n",
              "      <td>f</td>\n",
              "      <td>https://a0.muscache.com/im/pictures/8fd2cddb-2...</td>\n",
              "      <td>https://a0.muscache.com/im/pictures/8fd2cddb-2...</td>\n",
              "      <td>Bukit Timah</td>\n",
              "      <td>1.0</td>\n",
              "      <td>1.0</td>\n",
              "      <td>['email', 'phone', 'facebook', 'reviews']</td>\n",
              "      <td>t</td>\n",
              "      <td>f</td>\n",
              "      <td>Singapore, Singapore</td>\n",
              "      <td>Bukit Timah</td>\n",
              "      <td>Bukit Timah</td>\n",
              "      <td>...</td>\n",
              "      <td>$20.00</td>\n",
              "      <td>90</td>\n",
              "      <td>730</td>\n",
              "      <td>90</td>\n",
              "      <td>90</td>\n",
              "      <td>730</td>\n",
              "      <td>730</td>\n",
              "      <td>90.0</td>\n",
              "      <td>730.0</td>\n",
              "      <td>59 months ago</td>\n",
              "      <td>t</td>\n",
              "      <td>30</td>\n",
              "      <td>60</td>\n",
              "      <td>90</td>\n",
              "      <td>365</td>\n",
              "      <td>2019-06-25</td>\n",
              "      <td>18</td>\n",
              "      <td>0</td>\n",
              "      <td>2014-04-18</td>\n",
              "      <td>2014-12-26</td>\n",
              "      <td>91.0</td>\n",
              "      <td>9.0</td>\n",
              "      <td>10.0</td>\n",
              "      <td>10.0</td>\n",
              "      <td>10.0</td>\n",
              "      <td>9.0</td>\n",
              "      <td>9.0</td>\n",
              "      <td>f</td>\n",
              "      <td>NaN</td>\n",
              "      <td>NaN</td>\n",
              "      <td>f</td>\n",
              "      <td>f</td>\n",
              "      <td>moderate</td>\n",
              "      <td>f</td>\n",
              "      <td>t</td>\n",
              "      <td>1</td>\n",
              "      <td>0</td>\n",
              "      <td>1</td>\n",
              "      <td>0</td>\n",
              "      <td>0.28</td>\n",
              "    </tr>\n",
              "    <tr>\n",
              "      <th>2</th>\n",
              "      <td>56334</td>\n",
              "      <td>https://www.airbnb.com/rooms/56334</td>\n",
              "      <td>20190625153033</td>\n",
              "      <td>2019-06-25</td>\n",
              "      <td>COZICOMFORT</td>\n",
              "      <td>NaN</td>\n",
              "      <td>This is Room no. 1. USD700 per month On the fa...</td>\n",
              "      <td>This is Room no. 1. USD700 per month On the fa...</td>\n",
              "      <td>none</td>\n",
              "      <td>NaN</td>\n",
              "      <td>NaN</td>\n",
              "      <td>NaN</td>\n",
              "      <td>NaN</td>\n",
              "      <td>NaN</td>\n",
              "      <td>No smoking indoors. Please turn off lights/air...</td>\n",
              "      <td>NaN</td>\n",
              "      <td>NaN</td>\n",
              "      <td>https://a0.muscache.com/im/pictures/20783922/1...</td>\n",
              "      <td>NaN</td>\n",
              "      <td>266763</td>\n",
              "      <td>https://www.airbnb.com/users/show/266763</td>\n",
              "      <td>Francesca</td>\n",
              "      <td>2010-10-20</td>\n",
              "      <td>singapore</td>\n",
              "      <td>I am a private tutor by profession. My husband...</td>\n",
              "      <td>NaN</td>\n",
              "      <td>NaN</td>\n",
              "      <td>NaN</td>\n",
              "      <td>f</td>\n",
              "      <td>https://a0.muscache.com/im/pictures/94361977-2...</td>\n",
              "      <td>https://a0.muscache.com/im/pictures/94361977-2...</td>\n",
              "      <td>Woodlands</td>\n",
              "      <td>2.0</td>\n",
              "      <td>2.0</td>\n",
              "      <td>['email', 'phone', 'facebook', 'reviews', 'jum...</td>\n",
              "      <td>t</td>\n",
              "      <td>f</td>\n",
              "      <td>Singapore, Singapore</td>\n",
              "      <td>Woodlands</td>\n",
              "      <td>Woodlands</td>\n",
              "      <td>...</td>\n",
              "      <td>$14.00</td>\n",
              "      <td>6</td>\n",
              "      <td>14</td>\n",
              "      <td>6</td>\n",
              "      <td>6</td>\n",
              "      <td>14</td>\n",
              "      <td>14</td>\n",
              "      <td>6.0</td>\n",
              "      <td>14.0</td>\n",
              "      <td>56 months ago</td>\n",
              "      <td>t</td>\n",
              "      <td>30</td>\n",
              "      <td>60</td>\n",
              "      <td>90</td>\n",
              "      <td>365</td>\n",
              "      <td>2019-06-25</td>\n",
              "      <td>20</td>\n",
              "      <td>0</td>\n",
              "      <td>2011-06-25</td>\n",
              "      <td>2015-10-01</td>\n",
              "      <td>98.0</td>\n",
              "      <td>10.0</td>\n",
              "      <td>10.0</td>\n",
              "      <td>10.0</td>\n",
              "      <td>10.0</td>\n",
              "      <td>8.0</td>\n",
              "      <td>9.0</td>\n",
              "      <td>f</td>\n",
              "      <td>NaN</td>\n",
              "      <td>NaN</td>\n",
              "      <td>f</td>\n",
              "      <td>f</td>\n",
              "      <td>flexible</td>\n",
              "      <td>t</td>\n",
              "      <td>t</td>\n",
              "      <td>2</td>\n",
              "      <td>0</td>\n",
              "      <td>2</td>\n",
              "      <td>0</td>\n",
              "      <td>0.21</td>\n",
              "    </tr>\n",
              "  </tbody>\n",
              "</table>\n",
              "<p>3 rows × 106 columns</p>\n",
              "</div>"
            ],
            "text/plain": [
              "      id  ... reviews_per_month\n",
              "0  49091  ...              0.01\n",
              "1  50646  ...              0.28\n",
              "2  56334  ...              0.21\n",
              "\n",
              "[3 rows x 106 columns]"
            ]
          },
          "metadata": {
            "tags": []
          },
          "execution_count": 7
        }
      ]
    },
    {
      "cell_type": "code",
      "metadata": {
        "scrolled": true,
        "id": "x5OHeTpzGtWO",
        "colab_type": "code",
        "outputId": "4bda386f-a11f-4534-cb37-eb18d1768f17",
        "colab": {
          "base_uri": "https://localhost:8080/",
          "height": 102
        }
      },
      "source": [
        "listing.info()"
      ],
      "execution_count": 0,
      "outputs": [
        {
          "output_type": "stream",
          "text": [
            "<class 'pandas.core.frame.DataFrame'>\n",
            "RangeIndex: 8293 entries, 0 to 8292\n",
            "Columns: 106 entries, id to reviews_per_month\n",
            "dtypes: float64(21), int64(22), object(63)\n",
            "memory usage: 6.7+ MB\n"
          ],
          "name": "stdout"
        }
      ]
    },
    {
      "cell_type": "code",
      "metadata": {
        "scrolled": true,
        "id": "CJ9Ys8coGtWS",
        "colab_type": "code",
        "outputId": "efddbb6f-69cb-42b7-f626-ad931e5a35b2",
        "colab": {
          "base_uri": "https://localhost:8080/",
          "height": 680
        }
      },
      "source": [
        "listing.columns.values"
      ],
      "execution_count": 0,
      "outputs": [
        {
          "output_type": "execute_result",
          "data": {
            "text/plain": [
              "array(['id', 'listing_url', 'scrape_id', 'last_scraped', 'name',\n",
              "       'summary', 'space', 'description', 'experiences_offered',\n",
              "       'neighborhood_overview', 'notes', 'transit', 'access',\n",
              "       'interaction', 'house_rules', 'thumbnail_url', 'medium_url',\n",
              "       'picture_url', 'xl_picture_url', 'host_id', 'host_url',\n",
              "       'host_name', 'host_since', 'host_location', 'host_about',\n",
              "       'host_response_time', 'host_response_rate', 'host_acceptance_rate',\n",
              "       'host_is_superhost', 'host_thumbnail_url', 'host_picture_url',\n",
              "       'host_neighbourhood', 'host_listings_count',\n",
              "       'host_total_listings_count', 'host_verifications',\n",
              "       'host_has_profile_pic', 'host_identity_verified', 'street',\n",
              "       'neighbourhood', 'neighbourhood_cleansed',\n",
              "       'neighbourhood_group_cleansed', 'city', 'state', 'zipcode',\n",
              "       'market', 'smart_location', 'country_code', 'country', 'latitude',\n",
              "       'longitude', 'is_location_exact', 'property_type', 'room_type',\n",
              "       'accommodates', 'bathrooms', 'bedrooms', 'beds', 'bed_type',\n",
              "       'amenities', 'square_feet', 'price', 'weekly_price',\n",
              "       'monthly_price', 'security_deposit', 'cleaning_fee',\n",
              "       'guests_included', 'extra_people', 'minimum_nights',\n",
              "       'maximum_nights', 'minimum_minimum_nights',\n",
              "       'maximum_minimum_nights', 'minimum_maximum_nights',\n",
              "       'maximum_maximum_nights', 'minimum_nights_avg_ntm',\n",
              "       'maximum_nights_avg_ntm', 'calendar_updated', 'has_availability',\n",
              "       'availability_30', 'availability_60', 'availability_90',\n",
              "       'availability_365', 'calendar_last_scraped', 'number_of_reviews',\n",
              "       'number_of_reviews_ltm', 'first_review', 'last_review',\n",
              "       'review_scores_rating', 'review_scores_accuracy',\n",
              "       'review_scores_cleanliness', 'review_scores_checkin',\n",
              "       'review_scores_communication', 'review_scores_location',\n",
              "       'review_scores_value', 'requires_license', 'license',\n",
              "       'jurisdiction_names', 'instant_bookable',\n",
              "       'is_business_travel_ready', 'cancellation_policy',\n",
              "       'require_guest_profile_picture',\n",
              "       'require_guest_phone_verification',\n",
              "       'calculated_host_listings_count',\n",
              "       'calculated_host_listings_count_entire_homes',\n",
              "       'calculated_host_listings_count_private_rooms',\n",
              "       'calculated_host_listings_count_shared_rooms', 'reviews_per_month'],\n",
              "      dtype=object)"
            ]
          },
          "metadata": {
            "tags": []
          },
          "execution_count": 9
        }
      ]
    },
    {
      "cell_type": "code",
      "metadata": {
        "scrolled": true,
        "id": "h0062W2eGtWV",
        "colab_type": "code",
        "outputId": "c2b61b68-0e3e-4f49-c063-23fe1451c920",
        "colab": {
          "base_uri": "https://localhost:8080/",
          "height": 34
        }
      },
      "source": [
        "listing.shape"
      ],
      "execution_count": 0,
      "outputs": [
        {
          "output_type": "execute_result",
          "data": {
            "text/plain": [
              "(8293, 106)"
            ]
          },
          "metadata": {
            "tags": []
          },
          "execution_count": 10
        }
      ]
    },
    {
      "cell_type": "code",
      "metadata": {
        "id": "MGLMmZ5QGtWY",
        "colab_type": "code",
        "outputId": "bc068e7d-98de-4bb2-dbbf-23688a8e7aa3",
        "colab": {
          "base_uri": "https://localhost:8080/",
          "height": 34
        }
      },
      "source": [
        "listing['bedrooms'].unique()"
      ],
      "execution_count": 0,
      "outputs": [
        {
          "output_type": "execute_result",
          "data": {
            "text/plain": [
              "array([ 1,  2,  3,  0,  4,  5,  6,  7,  8, 10, 50])"
            ]
          },
          "metadata": {
            "tags": []
          },
          "execution_count": 11
        }
      ]
    },
    {
      "cell_type": "markdown",
      "metadata": {
        "id": "b_YekdgbGtWc",
        "colab_type": "text"
      },
      "source": [
        "There are many columns, we just focus on some columns that what we interested to answer our questions above"
      ]
    },
    {
      "cell_type": "code",
      "metadata": {
        "id": "XQA59nhnGtWd",
        "colab_type": "code",
        "outputId": "ea43670a-b81a-4d25-f6e9-c9a5783a5cfe",
        "colab": {
          "base_uri": "https://localhost:8080/",
          "height": 34
        }
      },
      "source": [
        "# We just select the columns that we interested on\n",
        "listing_sim = listing[['id', 'neighbourhood_cleansed', 'neighbourhood_group_cleansed', 'smart_location', 'property_type'\n",
        "                    , 'room_type', 'accommodates', 'bathrooms', 'bedrooms', 'beds', 'bed_type', 'amenities', 'number_of_reviews']]\n",
        "print(listing_sim.shape)                          "
      ],
      "execution_count": 0,
      "outputs": [
        {
          "output_type": "stream",
          "text": [
            "(8293, 13)\n"
          ],
          "name": "stdout"
        }
      ]
    },
    {
      "cell_type": "markdown",
      "metadata": {
        "id": "gS_0RJtoGtWg",
        "colab_type": "text"
      },
      "source": [
        "### calendar dataset\n",
        "Second we look at data information in calendar"
      ]
    },
    {
      "cell_type": "code",
      "metadata": {
        "id": "Y0aPqz1HGtWh",
        "colab_type": "code",
        "outputId": "524da15b-209e-4206-ed24-26247861ea0b",
        "colab": {
          "base_uri": "https://localhost:8080/",
          "height": 204
        }
      },
      "source": [
        "calendar.head()"
      ],
      "execution_count": 0,
      "outputs": [
        {
          "output_type": "execute_result",
          "data": {
            "text/html": [
              "<div>\n",
              "<style scoped>\n",
              "    .dataframe tbody tr th:only-of-type {\n",
              "        vertical-align: middle;\n",
              "    }\n",
              "\n",
              "    .dataframe tbody tr th {\n",
              "        vertical-align: top;\n",
              "    }\n",
              "\n",
              "    .dataframe thead th {\n",
              "        text-align: right;\n",
              "    }\n",
              "</style>\n",
              "<table border=\"1\" class=\"dataframe\">\n",
              "  <thead>\n",
              "    <tr style=\"text-align: right;\">\n",
              "      <th></th>\n",
              "      <th>listing_id</th>\n",
              "      <th>date</th>\n",
              "      <th>available</th>\n",
              "      <th>price</th>\n",
              "      <th>adjusted_price</th>\n",
              "      <th>minimum_nights</th>\n",
              "      <th>maximum_nights</th>\n",
              "    </tr>\n",
              "  </thead>\n",
              "  <tbody>\n",
              "    <tr>\n",
              "      <th>0</th>\n",
              "      <td>49091</td>\n",
              "      <td>2019-06-25</td>\n",
              "      <td>t</td>\n",
              "      <td>$81.00</td>\n",
              "      <td>$81.00</td>\n",
              "      <td>180</td>\n",
              "      <td>360</td>\n",
              "    </tr>\n",
              "    <tr>\n",
              "      <th>1</th>\n",
              "      <td>1804722</td>\n",
              "      <td>2019-06-25</td>\n",
              "      <td>t</td>\n",
              "      <td>$40.00</td>\n",
              "      <td>$40.00</td>\n",
              "      <td>180</td>\n",
              "      <td>720</td>\n",
              "    </tr>\n",
              "    <tr>\n",
              "      <th>2</th>\n",
              "      <td>1804722</td>\n",
              "      <td>2019-06-26</td>\n",
              "      <td>f</td>\n",
              "      <td>$40.00</td>\n",
              "      <td>$40.00</td>\n",
              "      <td>180</td>\n",
              "      <td>720</td>\n",
              "    </tr>\n",
              "    <tr>\n",
              "      <th>3</th>\n",
              "      <td>1804722</td>\n",
              "      <td>2019-06-27</td>\n",
              "      <td>t</td>\n",
              "      <td>$40.00</td>\n",
              "      <td>$40.00</td>\n",
              "      <td>180</td>\n",
              "      <td>720</td>\n",
              "    </tr>\n",
              "    <tr>\n",
              "      <th>4</th>\n",
              "      <td>1804722</td>\n",
              "      <td>2019-06-28</td>\n",
              "      <td>t</td>\n",
              "      <td>$40.00</td>\n",
              "      <td>$40.00</td>\n",
              "      <td>180</td>\n",
              "      <td>720</td>\n",
              "    </tr>\n",
              "  </tbody>\n",
              "</table>\n",
              "</div>"
            ],
            "text/plain": [
              "   listing_id        date  ... minimum_nights maximum_nights\n",
              "0       49091  2019-06-25  ...            180            360\n",
              "1     1804722  2019-06-25  ...            180            720\n",
              "2     1804722  2019-06-26  ...            180            720\n",
              "3     1804722  2019-06-27  ...            180            720\n",
              "4     1804722  2019-06-28  ...            180            720\n",
              "\n",
              "[5 rows x 7 columns]"
            ]
          },
          "metadata": {
            "tags": []
          },
          "execution_count": 13
        }
      ]
    },
    {
      "cell_type": "code",
      "metadata": {
        "scrolled": true,
        "id": "H6TOwInCGtWk",
        "colab_type": "code",
        "outputId": "f910a440-5274-4546-a410-230121b98163",
        "colab": {
          "base_uri": "https://localhost:8080/",
          "height": 221
        }
      },
      "source": [
        "calendar.info()"
      ],
      "execution_count": 0,
      "outputs": [
        {
          "output_type": "stream",
          "text": [
            "<class 'pandas.core.frame.DataFrame'>\n",
            "RangeIndex: 3026945 entries, 0 to 3026944\n",
            "Data columns (total 7 columns):\n",
            "listing_id        int64\n",
            "date              object\n",
            "available         object\n",
            "price             object\n",
            "adjusted_price    object\n",
            "minimum_nights    int64\n",
            "maximum_nights    int64\n",
            "dtypes: int64(3), object(4)\n",
            "memory usage: 161.7+ MB\n"
          ],
          "name": "stdout"
        }
      ]
    },
    {
      "cell_type": "markdown",
      "metadata": {
        "id": "Wik1hPkiGtWo",
        "colab_type": "text"
      },
      "source": [
        "The dataset contains 7 columns and almost 3M rows of data. <p>\n",
        "- listing_id: need convert to `str` <p>\n",
        "- date: need convert to `datetime` <p>\n",
        "- available: need convert to dummy <p>\n",
        "- price: drop $ and convert to float"
      ]
    },
    {
      "cell_type": "markdown",
      "metadata": {
        "id": "f8rGE9KcGtWp",
        "colab_type": "text"
      },
      "source": [
        "# Data Preparation\n",
        "## First dataset with date\n",
        "Combine both listing and calender by using pd.merge() then drop listing_id column"
      ]
    },
    {
      "cell_type": "code",
      "metadata": {
        "id": "qlAY3a0eGtWq",
        "colab_type": "code",
        "colab": {}
      },
      "source": [
        "# Combine the listing and calender\n",
        "df = pd.merge(calendar, listing_sim, how='left', left_on='listing_id', right_on='id')\n",
        "df.drop('listing_id', axis=1, inplace=True)"
      ],
      "execution_count": 0,
      "outputs": []
    },
    {
      "cell_type": "code",
      "metadata": {
        "id": "R7Cy8hyXNm8g",
        "colab_type": "code",
        "colab": {}
      },
      "source": [
        "# drop adjusted_price since we got price \n",
        "df.drop('adjusted_price', axis=1, inplace=True)"
      ],
      "execution_count": 0,
      "outputs": []
    },
    {
      "cell_type": "code",
      "metadata": {
        "scrolled": true,
        "id": "kkiz0-YAGtWx",
        "colab_type": "code",
        "outputId": "5b061cd2-f63b-4664-f4bc-797e8ccdc739",
        "colab": {
          "base_uri": "https://localhost:8080/",
          "height": 340
        }
      },
      "source": [
        "# check proportion of missing value\n",
        "df.isnull().sum()/len(df)*100"
      ],
      "execution_count": 0,
      "outputs": [
        {
          "output_type": "execute_result",
          "data": {
            "text/plain": [
              "date                            0.000000\n",
              "available                       0.000000\n",
              "price                           0.000000\n",
              "minimum_nights                  0.000000\n",
              "maximum_nights                  0.000000\n",
              "id                              0.000000\n",
              "neighbourhood_cleansed          0.000000\n",
              "neighbourhood_group_cleansed    0.000000\n",
              "smart_location                  0.000000\n",
              "property_type                   0.000000\n",
              "room_type                       0.000000\n",
              "accommodates                    0.000000\n",
              "bathrooms                       0.072350\n",
              "bedrooms                        0.000000\n",
              "beds                            0.120584\n",
              "bed_type                        0.000000\n",
              "amenities                       0.000000\n",
              "number_of_reviews               0.000000\n",
              "dtype: float64"
            ]
          },
          "metadata": {
            "tags": []
          },
          "execution_count": 17
        }
      ]
    },
    {
      "cell_type": "markdown",
      "metadata": {
        "id": "Zmf04EEyGtW1",
        "colab_type": "text"
      },
      "source": [
        "only bathrooms and beds exist of missing value where 7% and 12% repectively <p>\n",
        "So we decided to remove rows"
      ]
    },
    {
      "cell_type": "code",
      "metadata": {
        "id": "LWN4L5m_GtW2",
        "colab_type": "code",
        "colab": {}
      },
      "source": [
        "drop_rows = ['bathrooms', 'beds']\n",
        "df = df.dropna(subset=drop_rows)"
      ],
      "execution_count": 0,
      "outputs": []
    },
    {
      "cell_type": "code",
      "metadata": {
        "scrolled": false,
        "id": "xcj4V8H3GtW5",
        "colab_type": "code",
        "outputId": "42cabf2a-349a-434b-8dc3-cbded33d55da",
        "colab": {
          "base_uri": "https://localhost:8080/",
          "height": 340
        }
      },
      "source": [
        "# Confirm data\n",
        "df.isnull().sum()"
      ],
      "execution_count": 0,
      "outputs": [
        {
          "output_type": "execute_result",
          "data": {
            "text/plain": [
              "date                            0\n",
              "available                       0\n",
              "price                           0\n",
              "minimum_nights                  0\n",
              "maximum_nights                  0\n",
              "id                              0\n",
              "neighbourhood_cleansed          0\n",
              "neighbourhood_group_cleansed    0\n",
              "smart_location                  0\n",
              "property_type                   0\n",
              "room_type                       0\n",
              "accommodates                    0\n",
              "bathrooms                       0\n",
              "bedrooms                        0\n",
              "beds                            0\n",
              "bed_type                        0\n",
              "amenities                       0\n",
              "number_of_reviews               0\n",
              "dtype: int64"
            ]
          },
          "metadata": {
            "tags": []
          },
          "execution_count": 19
        }
      ]
    },
    {
      "cell_type": "code",
      "metadata": {
        "id": "AX_CwHEpGtW9",
        "colab_type": "code",
        "colab": {}
      },
      "source": [
        "# Convert id type from int to str\n",
        "df.loc[:, 'id'] = df['id'].astype(str)"
      ],
      "execution_count": 0,
      "outputs": []
    },
    {
      "cell_type": "code",
      "metadata": {
        "id": "sIWQ6ekxGtXA",
        "colab_type": "code",
        "colab": {}
      },
      "source": [
        "# replace available't' and 'f' to boolean '1' and '0'\n",
        "df.loc[:,'available'] = df['available'].replace({'t': 1, 'f': 0})"
      ],
      "execution_count": 0,
      "outputs": []
    },
    {
      "cell_type": "code",
      "metadata": {
        "id": "5c2BywHPGtXI",
        "colab_type": "code",
        "colab": {}
      },
      "source": [
        "# replace available type to float\n",
        "df.loc[:,'price'] = df['price'].str.strip('$').str.replace(\",\", \"\").astype(float)"
      ],
      "execution_count": 0,
      "outputs": []
    },
    {
      "cell_type": "code",
      "metadata": {
        "id": "VAXMwUTPGtXR",
        "colab_type": "code",
        "colab": {}
      },
      "source": [
        "# Convert date columns to datetime\n",
        "df.loc[:, 'date'] = pd.to_datetime(df['date'])"
      ],
      "execution_count": 0,
      "outputs": []
    },
    {
      "cell_type": "code",
      "metadata": {
        "id": "OMgtQoOvkYsX",
        "colab_type": "code",
        "colab": {}
      },
      "source": [
        "# Add new columns: year, month, day, day of week\n",
        "df['year'] = pd.DatetimeIndex(df['date']).year\n",
        "df['month'] = pd.DatetimeIndex(df['date']).month\n",
        "df['monthname'] = pd.DatetimeIndex(df['date']).month_name()\n",
        "df['dayofmonth'] = pd.DatetimeIndex(df['date']).day\n",
        "df['dayofweekname'] = pd.DatetimeIndex(df['date']).day_name()"
      ],
      "execution_count": 0,
      "outputs": []
    },
    {
      "cell_type": "code",
      "metadata": {
        "id": "By867Z3XGtXV",
        "colab_type": "code",
        "outputId": "400cd029-2f91-444f-d268-571388f06a07",
        "colab": {
          "base_uri": "https://localhost:8080/",
          "height": 139
        }
      },
      "source": [
        "# Extract amenities\n",
        "df.amenities.value_counts()[:5]"
      ],
      "execution_count": 0,
      "outputs": [
        {
          "output_type": "execute_result",
          "data": {
            "text/plain": [
              "{TV,Wifi,\"Air conditioning\",Pool,Kitchen,\"Paid parking off premises\",\"Smoking allowed\",\"Pets allowed\",Gym,Elevator,\"Family/kid friendly\",Washer,Dryer,Essentials,Shampoo,Hangers,\"Hair dryer\",Iron,\"Laptop friendly workspace\",\"Hot water\",\"Luggage dropoff allowed\",\"Long term stays allowed\",\"Host greets you\"}    21900\n",
              "{TV,Wifi,\"Air conditioning\",Kitchen,Elevator,Washer,Dryer,\"Smoke detector\",Essentials,Shampoo,\"Lock on bedroom door\",Hangers,\"Hair dryer\",Iron,\"Laptop friendly workspace\",\"Hot water\",\"Bed linens\",Microwave,Refrigerator,\"Dishes and silverware\",Stove,\"Long term stays allowed\",\"Paid parking on premises\"}       21900\n",
              "{}                                                                                                                                                                                                                                                                                                                   17155\n",
              "{TV,Wifi,\"Air conditioning\",\"Free parking on premises\",Elevator,\"Fire extinguisher\",Essentials,Shampoo,\"Lock on bedroom door\",\"Hair dryer\",\"Hot water\",\"Bed linens\",\"Luggage dropoff allowed\",\"Long term stays allowed\"}                                                                                             16790\n",
              "{TV,Wifi,\"Air conditioning\",Kitchen,\"Pets allowed\",Elevator,Heating,Washer,Dryer,\"Smoke detector\",\"Carbon monoxide detector\",\"First aid kit\",\"Fire extinguisher\",Essentials,Shampoo,\"Lock on bedroom door\",Hangers,\"Hair dryer\",Iron}                                                                                12410\n",
              "Name: amenities, dtype: int64"
            ]
          },
          "metadata": {
            "tags": []
          },
          "execution_count": 25
        }
      ]
    },
    {
      "cell_type": "code",
      "metadata": {
        "id": "5G_Z9TW-GtXY",
        "colab_type": "code",
        "colab": {}
      },
      "source": [
        "# Clean text with strip and replace\n",
        "df.amenities = df.amenities.str.strip('{}').str.replace('\"', '')\n",
        "# Split then extract unique values\n",
        "df_amenities = df.amenities.str.split(',', expand=True)\n",
        "amenities = pd.unique(df_amenities.values.ravel('K'))"
      ],
      "execution_count": 0,
      "outputs": []
    },
    {
      "cell_type": "code",
      "metadata": {
        "id": "TebQSjxzOfHL",
        "colab_type": "code",
        "outputId": "18c59823-b715-4cef-ec28-52c2d3a32dde",
        "colab": {
          "base_uri": "https://localhost:8080/",
          "height": 731
        }
      },
      "source": [
        "amenities"
      ],
      "execution_count": 0,
      "outputs": [
        {
          "output_type": "execute_result",
          "data": {
            "text/plain": [
              "array(['TV', 'Kitchen', 'Wifi', 'Internet', 'Cable TV', 'Washer', '',\n",
              "       'Air conditioning', 'translation missing: en.hosting_amenity_49',\n",
              "       'Family/kid friendly', 'Essentials', 'Other',\n",
              "       'Wheelchair accessible', 'Pool', 'Elevator', 'Pets allowed',\n",
              "       'translation missing: en.hosting_amenity_50', 'Smoking allowed',\n",
              "       'Free parking on premises', 'Iron', 'Suitable for events',\n",
              "       'Breakfast', 'Lock on bedroom door', None, 'Fire extinguisher',\n",
              "       'First aid kit', 'Smoke detector', 'Free street parking',\n",
              "       'Paid parking off premises', 'Shampoo', 'Dryer', 'Hangers',\n",
              "       'Self check-in', 'Pets live on this property',\n",
              "       'Buzzer/wireless intercom', 'Doorman', 'Carbon monoxide detector',\n",
              "       '24-hour check-in', 'Indoor fireplace', 'Safety card', 'Heating',\n",
              "       'Host greets you', 'Gym', 'Hot tub', 'Hot water', 'Lockbox',\n",
              "       'Dog(s)', 'Beachfront', 'Building staff',\n",
              "       'Laptop friendly workspace', 'BBQ grill',\n",
              "       'Long term stays allowed', 'Private living room', 'Cat(s)',\n",
              "       'Hair dryer', 'Private entrance', 'Cleaning before checkout',\n",
              "       'Other pet(s)', 'Luggage dropoff allowed', 'Bed linens',\n",
              "       'High chair', 'Keypad', 'Microwave', 'Baby bath', 'Window guards',\n",
              "       'Refrigerator', 'Extra pillows and blankets',\n",
              "       'Paid parking on premises', 'Stair gates', 'Waterfront',\n",
              "       'Dishes and silverware', 'Smart lock', 'Oven',\n",
              "       'No stairs or steps to enter', 'Children’s books and toys',\n",
              "       'Lake access', 'Cooking basics', 'Ethernet connection', 'Bathtub',\n",
              "       'Pack ’n Play/travel crib', 'Room-darkening shades',\n",
              "       'Single level home', 'Stove', 'Beach essentials',\n",
              "       'Children’s dinnerware', 'Garden or backyard', 'Private bathroom',\n",
              "       'Crib', 'Wide entryway', 'Patio or balcony',\n",
              "       'Accessible-height bed', 'Table corner guards', 'Wide entrance',\n",
              "       'Coffee maker', 'Dishwasher', 'Well-lit path to entrance',\n",
              "       'Game console', 'Babysitter recommendations', 'Pocket wifi',\n",
              "       'Wide hallways', 'Outlet covers', 'Wide entrance for guests',\n",
              "       'Flat path to guest entrance', 'Extra space around bed',\n",
              "       'Disabled parking spot', 'Handheld shower head', 'Baby monitor',\n",
              "       'Changing table', 'Roll-in shower', 'EV charger',\n",
              "       'Accessible-height toilet', 'Wide doorway to guest bathroom',\n",
              "       'Wide clearance to shower', 'Fixed grab bars for shower',\n",
              "       ' toilet', 'Fixed grab bars for toilet', 'Fireplace guards',\n",
              "       'Pool with pool hoist', 'Ground floor access',\n",
              "       'Electric profiling bed', 'Bathtub with bath chair',\n",
              "       'Hot water kettle', 'Kitchenette', 'Air purifier', 'Mobile hoist',\n",
              "       'Full kitchen', 'Firm mattress', 'Shower chair'], dtype=object)"
            ]
          },
          "metadata": {
            "tags": []
          },
          "execution_count": 26
        }
      ]
    },
    {
      "cell_type": "code",
      "metadata": {
        "id": "YChrWIMvOj4W",
        "colab_type": "code",
        "outputId": "e9af60eb-2692-41ef-aa17-4f6a847763f6",
        "colab": {
          "base_uri": "https://localhost:8080/",
          "height": 51
        }
      },
      "source": [
        "'''\n",
        "for amenity in amenities:\n",
        "    try:\n",
        "        df[amenity] = df.amenities.str.contains(amenity)\n",
        "    except:\n",
        "        continue\n",
        "'''"
      ],
      "execution_count": 0,
      "outputs": [
        {
          "output_type": "stream",
          "text": [
            "/usr/local/lib/python3.6/dist-packages/ipykernel_launcher.py:3: UserWarning: This pattern has match groups. To actually get the groups, use str.extract.\n",
            "  This is separate from the ipykernel package so we can avoid doing imports until\n"
          ],
          "name": "stderr"
        }
      ]
    },
    {
      "cell_type": "code",
      "metadata": {
        "id": "9G5udg6vOkEa",
        "colab_type": "code",
        "colab": {}
      },
      "source": [
        "# Drop original amenities\n",
        "df.drop('amenities', axis=1, inplace=True)"
      ],
      "execution_count": 0,
      "outputs": []
    },
    {
      "cell_type": "code",
      "metadata": {
        "id": "Xy63xGX0GtXc",
        "colab_type": "code",
        "outputId": "88b8a1b1-0828-4b2d-e0b6-7577182afc06",
        "colab": {
          "base_uri": "https://localhost:8080/",
          "height": 476
        }
      },
      "source": [
        "df.info()"
      ],
      "execution_count": 0,
      "outputs": [
        {
          "output_type": "stream",
          "text": [
            "<class 'pandas.core.frame.DataFrame'>\n",
            "Int64Index: 3021835 entries, 0 to 3026944\n",
            "Data columns (total 22 columns):\n",
            "date                            datetime64[ns]\n",
            "available                       int64\n",
            "price                           float64\n",
            "minimum_nights                  int64\n",
            "maximum_nights                  int64\n",
            "id                              object\n",
            "neighbourhood_cleansed          object\n",
            "neighbourhood_group_cleansed    object\n",
            "smart_location                  object\n",
            "property_type                   object\n",
            "room_type                       object\n",
            "accommodates                    int64\n",
            "bathrooms                       float64\n",
            "bedrooms                        int64\n",
            "beds                            float64\n",
            "bed_type                        object\n",
            "number_of_reviews               int64\n",
            "year                            int64\n",
            "month                           int64\n",
            "monthname                       object\n",
            "dayofmonth                      int64\n",
            "dayofweekname                   object\n",
            "dtypes: datetime64[ns](1), float64(3), int64(9), object(9)\n",
            "memory usage: 530.3+ MB\n"
          ],
          "name": "stdout"
        }
      ]
    },
    {
      "cell_type": "code",
      "metadata": {
        "id": "1jJXEn4AoxN7",
        "colab_type": "code",
        "outputId": "8af0cb77-6589-4e1d-e1df-48677c63b1a0",
        "colab": {
          "base_uri": "https://localhost:8080/",
          "height": 309
        }
      },
      "source": [
        "df.head()"
      ],
      "execution_count": 0,
      "outputs": [
        {
          "output_type": "execute_result",
          "data": {
            "text/html": [
              "<div>\n",
              "<style scoped>\n",
              "    .dataframe tbody tr th:only-of-type {\n",
              "        vertical-align: middle;\n",
              "    }\n",
              "\n",
              "    .dataframe tbody tr th {\n",
              "        vertical-align: top;\n",
              "    }\n",
              "\n",
              "    .dataframe thead th {\n",
              "        text-align: right;\n",
              "    }\n",
              "</style>\n",
              "<table border=\"1\" class=\"dataframe\">\n",
              "  <thead>\n",
              "    <tr style=\"text-align: right;\">\n",
              "      <th></th>\n",
              "      <th>date</th>\n",
              "      <th>available</th>\n",
              "      <th>price</th>\n",
              "      <th>minimum_nights</th>\n",
              "      <th>maximum_nights</th>\n",
              "      <th>id</th>\n",
              "      <th>neighbourhood_cleansed</th>\n",
              "      <th>neighbourhood_group_cleansed</th>\n",
              "      <th>smart_location</th>\n",
              "      <th>property_type</th>\n",
              "      <th>room_type</th>\n",
              "      <th>accommodates</th>\n",
              "      <th>bathrooms</th>\n",
              "      <th>bedrooms</th>\n",
              "      <th>beds</th>\n",
              "      <th>bed_type</th>\n",
              "      <th>number_of_reviews</th>\n",
              "      <th>year</th>\n",
              "      <th>month</th>\n",
              "      <th>monthname</th>\n",
              "      <th>dayofmonth</th>\n",
              "      <th>dayofweekname</th>\n",
              "    </tr>\n",
              "  </thead>\n",
              "  <tbody>\n",
              "    <tr>\n",
              "      <th>0</th>\n",
              "      <td>2019-06-25</td>\n",
              "      <td>1</td>\n",
              "      <td>81.0</td>\n",
              "      <td>180</td>\n",
              "      <td>360</td>\n",
              "      <td>49091</td>\n",
              "      <td>Woodlands</td>\n",
              "      <td>North Region</td>\n",
              "      <td>Singapore</td>\n",
              "      <td>Apartment</td>\n",
              "      <td>Private room</td>\n",
              "      <td>1</td>\n",
              "      <td>1.0</td>\n",
              "      <td>1</td>\n",
              "      <td>1.0</td>\n",
              "      <td>Real Bed</td>\n",
              "      <td>1</td>\n",
              "      <td>2019</td>\n",
              "      <td>6</td>\n",
              "      <td>June</td>\n",
              "      <td>25</td>\n",
              "      <td>Tuesday</td>\n",
              "    </tr>\n",
              "    <tr>\n",
              "      <th>1</th>\n",
              "      <td>2019-06-25</td>\n",
              "      <td>1</td>\n",
              "      <td>40.0</td>\n",
              "      <td>180</td>\n",
              "      <td>720</td>\n",
              "      <td>1804722</td>\n",
              "      <td>Kallang</td>\n",
              "      <td>Central Region</td>\n",
              "      <td>Singapore</td>\n",
              "      <td>Apartment</td>\n",
              "      <td>Private room</td>\n",
              "      <td>2</td>\n",
              "      <td>1.0</td>\n",
              "      <td>1</td>\n",
              "      <td>1.0</td>\n",
              "      <td>Real Bed</td>\n",
              "      <td>1</td>\n",
              "      <td>2019</td>\n",
              "      <td>6</td>\n",
              "      <td>June</td>\n",
              "      <td>25</td>\n",
              "      <td>Tuesday</td>\n",
              "    </tr>\n",
              "    <tr>\n",
              "      <th>2</th>\n",
              "      <td>2019-06-26</td>\n",
              "      <td>0</td>\n",
              "      <td>40.0</td>\n",
              "      <td>180</td>\n",
              "      <td>720</td>\n",
              "      <td>1804722</td>\n",
              "      <td>Kallang</td>\n",
              "      <td>Central Region</td>\n",
              "      <td>Singapore</td>\n",
              "      <td>Apartment</td>\n",
              "      <td>Private room</td>\n",
              "      <td>2</td>\n",
              "      <td>1.0</td>\n",
              "      <td>1</td>\n",
              "      <td>1.0</td>\n",
              "      <td>Real Bed</td>\n",
              "      <td>1</td>\n",
              "      <td>2019</td>\n",
              "      <td>6</td>\n",
              "      <td>June</td>\n",
              "      <td>26</td>\n",
              "      <td>Wednesday</td>\n",
              "    </tr>\n",
              "    <tr>\n",
              "      <th>3</th>\n",
              "      <td>2019-06-27</td>\n",
              "      <td>1</td>\n",
              "      <td>40.0</td>\n",
              "      <td>180</td>\n",
              "      <td>720</td>\n",
              "      <td>1804722</td>\n",
              "      <td>Kallang</td>\n",
              "      <td>Central Region</td>\n",
              "      <td>Singapore</td>\n",
              "      <td>Apartment</td>\n",
              "      <td>Private room</td>\n",
              "      <td>2</td>\n",
              "      <td>1.0</td>\n",
              "      <td>1</td>\n",
              "      <td>1.0</td>\n",
              "      <td>Real Bed</td>\n",
              "      <td>1</td>\n",
              "      <td>2019</td>\n",
              "      <td>6</td>\n",
              "      <td>June</td>\n",
              "      <td>27</td>\n",
              "      <td>Thursday</td>\n",
              "    </tr>\n",
              "    <tr>\n",
              "      <th>4</th>\n",
              "      <td>2019-06-28</td>\n",
              "      <td>1</td>\n",
              "      <td>40.0</td>\n",
              "      <td>180</td>\n",
              "      <td>720</td>\n",
              "      <td>1804722</td>\n",
              "      <td>Kallang</td>\n",
              "      <td>Central Region</td>\n",
              "      <td>Singapore</td>\n",
              "      <td>Apartment</td>\n",
              "      <td>Private room</td>\n",
              "      <td>2</td>\n",
              "      <td>1.0</td>\n",
              "      <td>1</td>\n",
              "      <td>1.0</td>\n",
              "      <td>Real Bed</td>\n",
              "      <td>1</td>\n",
              "      <td>2019</td>\n",
              "      <td>6</td>\n",
              "      <td>June</td>\n",
              "      <td>28</td>\n",
              "      <td>Friday</td>\n",
              "    </tr>\n",
              "  </tbody>\n",
              "</table>\n",
              "</div>"
            ],
            "text/plain": [
              "        date  available  price  ...  monthname  dayofmonth dayofweekname\n",
              "0 2019-06-25          1   81.0  ...       June          25       Tuesday\n",
              "1 2019-06-25          1   40.0  ...       June          25       Tuesday\n",
              "2 2019-06-26          0   40.0  ...       June          26     Wednesday\n",
              "3 2019-06-27          1   40.0  ...       June          27      Thursday\n",
              "4 2019-06-28          1   40.0  ...       June          28        Friday\n",
              "\n",
              "[5 rows x 22 columns]"
            ]
          },
          "metadata": {
            "tags": []
          },
          "execution_count": 28
        }
      ]
    },
    {
      "cell_type": "code",
      "metadata": {
        "id": "80r1JOZhvxyg",
        "colab_type": "code",
        "outputId": "fa01762e-4b48-4474-fb89-3f24ec4e0b57",
        "colab": {
          "base_uri": "https://localhost:8080/",
          "height": 34
        }
      },
      "source": [
        "df.shape"
      ],
      "execution_count": 0,
      "outputs": [
        {
          "output_type": "execute_result",
          "data": {
            "text/plain": [
              "(3021835, 22)"
            ]
          },
          "metadata": {
            "tags": []
          },
          "execution_count": 29
        }
      ]
    },
    {
      "cell_type": "code",
      "metadata": {
        "id": "T649JEXvv002",
        "colab_type": "code",
        "outputId": "d0fee83d-dd66-4265-b8eb-88bab04003d5",
        "colab": {
          "base_uri": "https://localhost:8080/",
          "height": 309
        }
      },
      "source": [
        "# we only select available equal to 0 mean the listing is not available is renting out\n",
        "df = df[df['available'] == 0]\n",
        "df.head()"
      ],
      "execution_count": 0,
      "outputs": [
        {
          "output_type": "execute_result",
          "data": {
            "text/html": [
              "<div>\n",
              "<style scoped>\n",
              "    .dataframe tbody tr th:only-of-type {\n",
              "        vertical-align: middle;\n",
              "    }\n",
              "\n",
              "    .dataframe tbody tr th {\n",
              "        vertical-align: top;\n",
              "    }\n",
              "\n",
              "    .dataframe thead th {\n",
              "        text-align: right;\n",
              "    }\n",
              "</style>\n",
              "<table border=\"1\" class=\"dataframe\">\n",
              "  <thead>\n",
              "    <tr style=\"text-align: right;\">\n",
              "      <th></th>\n",
              "      <th>date</th>\n",
              "      <th>available</th>\n",
              "      <th>price</th>\n",
              "      <th>minimum_nights</th>\n",
              "      <th>maximum_nights</th>\n",
              "      <th>id</th>\n",
              "      <th>neighbourhood_cleansed</th>\n",
              "      <th>neighbourhood_group_cleansed</th>\n",
              "      <th>smart_location</th>\n",
              "      <th>property_type</th>\n",
              "      <th>room_type</th>\n",
              "      <th>accommodates</th>\n",
              "      <th>bathrooms</th>\n",
              "      <th>bedrooms</th>\n",
              "      <th>beds</th>\n",
              "      <th>bed_type</th>\n",
              "      <th>number_of_reviews</th>\n",
              "      <th>year</th>\n",
              "      <th>month</th>\n",
              "      <th>monthname</th>\n",
              "      <th>dayofmonth</th>\n",
              "      <th>dayofweekname</th>\n",
              "    </tr>\n",
              "  </thead>\n",
              "  <tbody>\n",
              "    <tr>\n",
              "      <th>2</th>\n",
              "      <td>2019-06-26</td>\n",
              "      <td>0</td>\n",
              "      <td>40.0</td>\n",
              "      <td>180</td>\n",
              "      <td>720</td>\n",
              "      <td>1804722</td>\n",
              "      <td>Kallang</td>\n",
              "      <td>Central Region</td>\n",
              "      <td>Singapore</td>\n",
              "      <td>Apartment</td>\n",
              "      <td>Private room</td>\n",
              "      <td>2</td>\n",
              "      <td>1.0</td>\n",
              "      <td>1</td>\n",
              "      <td>1.0</td>\n",
              "      <td>Real Bed</td>\n",
              "      <td>1</td>\n",
              "      <td>2019</td>\n",
              "      <td>6</td>\n",
              "      <td>June</td>\n",
              "      <td>26</td>\n",
              "      <td>Wednesday</td>\n",
              "    </tr>\n",
              "    <tr>\n",
              "      <th>98</th>\n",
              "      <td>2019-06-25</td>\n",
              "      <td>0</td>\n",
              "      <td>206.0</td>\n",
              "      <td>1</td>\n",
              "      <td>1</td>\n",
              "      <td>756347</td>\n",
              "      <td>Pasir Ris</td>\n",
              "      <td>East Region</td>\n",
              "      <td>Singapore</td>\n",
              "      <td>Apartment</td>\n",
              "      <td>Private room</td>\n",
              "      <td>1</td>\n",
              "      <td>0.5</td>\n",
              "      <td>1</td>\n",
              "      <td>1.0</td>\n",
              "      <td>Real Bed</td>\n",
              "      <td>0</td>\n",
              "      <td>2019</td>\n",
              "      <td>6</td>\n",
              "      <td>June</td>\n",
              "      <td>25</td>\n",
              "      <td>Tuesday</td>\n",
              "    </tr>\n",
              "    <tr>\n",
              "      <th>99</th>\n",
              "      <td>2019-06-26</td>\n",
              "      <td>0</td>\n",
              "      <td>206.0</td>\n",
              "      <td>1</td>\n",
              "      <td>1</td>\n",
              "      <td>756347</td>\n",
              "      <td>Pasir Ris</td>\n",
              "      <td>East Region</td>\n",
              "      <td>Singapore</td>\n",
              "      <td>Apartment</td>\n",
              "      <td>Private room</td>\n",
              "      <td>1</td>\n",
              "      <td>0.5</td>\n",
              "      <td>1</td>\n",
              "      <td>1.0</td>\n",
              "      <td>Real Bed</td>\n",
              "      <td>0</td>\n",
              "      <td>2019</td>\n",
              "      <td>6</td>\n",
              "      <td>June</td>\n",
              "      <td>26</td>\n",
              "      <td>Wednesday</td>\n",
              "    </tr>\n",
              "    <tr>\n",
              "      <th>100</th>\n",
              "      <td>2019-06-27</td>\n",
              "      <td>0</td>\n",
              "      <td>206.0</td>\n",
              "      <td>1</td>\n",
              "      <td>1</td>\n",
              "      <td>756347</td>\n",
              "      <td>Pasir Ris</td>\n",
              "      <td>East Region</td>\n",
              "      <td>Singapore</td>\n",
              "      <td>Apartment</td>\n",
              "      <td>Private room</td>\n",
              "      <td>1</td>\n",
              "      <td>0.5</td>\n",
              "      <td>1</td>\n",
              "      <td>1.0</td>\n",
              "      <td>Real Bed</td>\n",
              "      <td>0</td>\n",
              "      <td>2019</td>\n",
              "      <td>6</td>\n",
              "      <td>June</td>\n",
              "      <td>27</td>\n",
              "      <td>Thursday</td>\n",
              "    </tr>\n",
              "    <tr>\n",
              "      <th>101</th>\n",
              "      <td>2019-06-28</td>\n",
              "      <td>0</td>\n",
              "      <td>206.0</td>\n",
              "      <td>1</td>\n",
              "      <td>1</td>\n",
              "      <td>756347</td>\n",
              "      <td>Pasir Ris</td>\n",
              "      <td>East Region</td>\n",
              "      <td>Singapore</td>\n",
              "      <td>Apartment</td>\n",
              "      <td>Private room</td>\n",
              "      <td>1</td>\n",
              "      <td>0.5</td>\n",
              "      <td>1</td>\n",
              "      <td>1.0</td>\n",
              "      <td>Real Bed</td>\n",
              "      <td>0</td>\n",
              "      <td>2019</td>\n",
              "      <td>6</td>\n",
              "      <td>June</td>\n",
              "      <td>28</td>\n",
              "      <td>Friday</td>\n",
              "    </tr>\n",
              "  </tbody>\n",
              "</table>\n",
              "</div>"
            ],
            "text/plain": [
              "          date  available  price  ...  monthname  dayofmonth dayofweekname\n",
              "2   2019-06-26          0   40.0  ...       June          26     Wednesday\n",
              "98  2019-06-25          0  206.0  ...       June          25       Tuesday\n",
              "99  2019-06-26          0  206.0  ...       June          26     Wednesday\n",
              "100 2019-06-27          0  206.0  ...       June          27      Thursday\n",
              "101 2019-06-28          0  206.0  ...       June          28        Friday\n",
              "\n",
              "[5 rows x 22 columns]"
            ]
          },
          "metadata": {
            "tags": []
          },
          "execution_count": 30
        }
      ]
    },
    {
      "cell_type": "code",
      "metadata": {
        "id": "JseyQAKB2Gbw",
        "colab_type": "code",
        "outputId": "65407841-9c21-4533-bbf8-4ea72c817c46",
        "colab": {
          "base_uri": "https://localhost:8080/",
          "height": 34
        }
      },
      "source": [
        "df.shape"
      ],
      "execution_count": 0,
      "outputs": [
        {
          "output_type": "execute_result",
          "data": {
            "text/plain": [
              "(1263772, 22)"
            ]
          },
          "metadata": {
            "tags": []
          },
          "execution_count": 31
        }
      ]
    },
    {
      "cell_type": "code",
      "metadata": {
        "id": "UzgqXK3ysmNT",
        "colab_type": "code",
        "colab": {}
      },
      "source": [
        "# Save cleaned df\n",
        "df.to_csv('/content/drive/My Drive/Colab Notebooks/p4/clean1.csv', index=False)"
      ],
      "execution_count": 0,
      "outputs": []
    },
    {
      "cell_type": "code",
      "metadata": {
        "id": "nCBVZEC8WRyO",
        "colab_type": "code",
        "colab": {}
      },
      "source": [
        "df = pd.read_csv('/content/drive/My Drive/Colab Notebooks/p4/clean1.csv')"
      ],
      "execution_count": 0,
      "outputs": []
    },
    {
      "cell_type": "code",
      "metadata": {
        "id": "d7ZjkApDeX1z",
        "colab_type": "code",
        "outputId": "dae6568b-ea41-4725-9673-4cbb76301d2c",
        "colab": {
          "base_uri": "https://localhost:8080/",
          "height": 34
        }
      },
      "source": [
        "df.shape"
      ],
      "execution_count": 0,
      "outputs": [
        {
          "output_type": "execute_result",
          "data": {
            "text/plain": [
              "(1263772, 22)"
            ]
          },
          "metadata": {
            "tags": []
          },
          "execution_count": 4
        }
      ]
    },
    {
      "cell_type": "code",
      "metadata": {
        "id": "DHJYPVrAeX5R",
        "colab_type": "code",
        "outputId": "74985065-e2e5-4462-cff2-57fc1441730f",
        "colab": {
          "base_uri": "https://localhost:8080/",
          "height": 309
        }
      },
      "source": [
        "df.head()"
      ],
      "execution_count": 0,
      "outputs": [
        {
          "output_type": "execute_result",
          "data": {
            "text/html": [
              "<div>\n",
              "<style scoped>\n",
              "    .dataframe tbody tr th:only-of-type {\n",
              "        vertical-align: middle;\n",
              "    }\n",
              "\n",
              "    .dataframe tbody tr th {\n",
              "        vertical-align: top;\n",
              "    }\n",
              "\n",
              "    .dataframe thead th {\n",
              "        text-align: right;\n",
              "    }\n",
              "</style>\n",
              "<table border=\"1\" class=\"dataframe\">\n",
              "  <thead>\n",
              "    <tr style=\"text-align: right;\">\n",
              "      <th></th>\n",
              "      <th>date</th>\n",
              "      <th>available</th>\n",
              "      <th>price</th>\n",
              "      <th>minimum_nights</th>\n",
              "      <th>maximum_nights</th>\n",
              "      <th>id</th>\n",
              "      <th>neighbourhood_cleansed</th>\n",
              "      <th>neighbourhood_group_cleansed</th>\n",
              "      <th>smart_location</th>\n",
              "      <th>property_type</th>\n",
              "      <th>room_type</th>\n",
              "      <th>accommodates</th>\n",
              "      <th>bathrooms</th>\n",
              "      <th>bedrooms</th>\n",
              "      <th>beds</th>\n",
              "      <th>bed_type</th>\n",
              "      <th>number_of_reviews</th>\n",
              "      <th>year</th>\n",
              "      <th>month</th>\n",
              "      <th>monthname</th>\n",
              "      <th>dayofmonth</th>\n",
              "      <th>dayofweekname</th>\n",
              "    </tr>\n",
              "  </thead>\n",
              "  <tbody>\n",
              "    <tr>\n",
              "      <th>0</th>\n",
              "      <td>2019-06-26</td>\n",
              "      <td>0</td>\n",
              "      <td>40.0</td>\n",
              "      <td>180</td>\n",
              "      <td>720</td>\n",
              "      <td>1804722</td>\n",
              "      <td>Kallang</td>\n",
              "      <td>Central Region</td>\n",
              "      <td>Singapore</td>\n",
              "      <td>Apartment</td>\n",
              "      <td>Private room</td>\n",
              "      <td>2</td>\n",
              "      <td>1.0</td>\n",
              "      <td>1</td>\n",
              "      <td>1.0</td>\n",
              "      <td>Real Bed</td>\n",
              "      <td>1</td>\n",
              "      <td>2019</td>\n",
              "      <td>6</td>\n",
              "      <td>June</td>\n",
              "      <td>26</td>\n",
              "      <td>Wednesday</td>\n",
              "    </tr>\n",
              "    <tr>\n",
              "      <th>1</th>\n",
              "      <td>2019-06-25</td>\n",
              "      <td>0</td>\n",
              "      <td>206.0</td>\n",
              "      <td>1</td>\n",
              "      <td>1</td>\n",
              "      <td>756347</td>\n",
              "      <td>Pasir Ris</td>\n",
              "      <td>East Region</td>\n",
              "      <td>Singapore</td>\n",
              "      <td>Apartment</td>\n",
              "      <td>Private room</td>\n",
              "      <td>1</td>\n",
              "      <td>0.5</td>\n",
              "      <td>1</td>\n",
              "      <td>1.0</td>\n",
              "      <td>Real Bed</td>\n",
              "      <td>0</td>\n",
              "      <td>2019</td>\n",
              "      <td>6</td>\n",
              "      <td>June</td>\n",
              "      <td>25</td>\n",
              "      <td>Tuesday</td>\n",
              "    </tr>\n",
              "    <tr>\n",
              "      <th>2</th>\n",
              "      <td>2019-06-26</td>\n",
              "      <td>0</td>\n",
              "      <td>206.0</td>\n",
              "      <td>1</td>\n",
              "      <td>1</td>\n",
              "      <td>756347</td>\n",
              "      <td>Pasir Ris</td>\n",
              "      <td>East Region</td>\n",
              "      <td>Singapore</td>\n",
              "      <td>Apartment</td>\n",
              "      <td>Private room</td>\n",
              "      <td>1</td>\n",
              "      <td>0.5</td>\n",
              "      <td>1</td>\n",
              "      <td>1.0</td>\n",
              "      <td>Real Bed</td>\n",
              "      <td>0</td>\n",
              "      <td>2019</td>\n",
              "      <td>6</td>\n",
              "      <td>June</td>\n",
              "      <td>26</td>\n",
              "      <td>Wednesday</td>\n",
              "    </tr>\n",
              "    <tr>\n",
              "      <th>3</th>\n",
              "      <td>2019-06-27</td>\n",
              "      <td>0</td>\n",
              "      <td>206.0</td>\n",
              "      <td>1</td>\n",
              "      <td>1</td>\n",
              "      <td>756347</td>\n",
              "      <td>Pasir Ris</td>\n",
              "      <td>East Region</td>\n",
              "      <td>Singapore</td>\n",
              "      <td>Apartment</td>\n",
              "      <td>Private room</td>\n",
              "      <td>1</td>\n",
              "      <td>0.5</td>\n",
              "      <td>1</td>\n",
              "      <td>1.0</td>\n",
              "      <td>Real Bed</td>\n",
              "      <td>0</td>\n",
              "      <td>2019</td>\n",
              "      <td>6</td>\n",
              "      <td>June</td>\n",
              "      <td>27</td>\n",
              "      <td>Thursday</td>\n",
              "    </tr>\n",
              "    <tr>\n",
              "      <th>4</th>\n",
              "      <td>2019-06-28</td>\n",
              "      <td>0</td>\n",
              "      <td>206.0</td>\n",
              "      <td>1</td>\n",
              "      <td>1</td>\n",
              "      <td>756347</td>\n",
              "      <td>Pasir Ris</td>\n",
              "      <td>East Region</td>\n",
              "      <td>Singapore</td>\n",
              "      <td>Apartment</td>\n",
              "      <td>Private room</td>\n",
              "      <td>1</td>\n",
              "      <td>0.5</td>\n",
              "      <td>1</td>\n",
              "      <td>1.0</td>\n",
              "      <td>Real Bed</td>\n",
              "      <td>0</td>\n",
              "      <td>2019</td>\n",
              "      <td>6</td>\n",
              "      <td>June</td>\n",
              "      <td>28</td>\n",
              "      <td>Friday</td>\n",
              "    </tr>\n",
              "  </tbody>\n",
              "</table>\n",
              "</div>"
            ],
            "text/plain": [
              "         date  available  price  ...  monthname  dayofmonth  dayofweekname\n",
              "0  2019-06-26          0   40.0  ...       June          26      Wednesday\n",
              "1  2019-06-25          0  206.0  ...       June          25        Tuesday\n",
              "2  2019-06-26          0  206.0  ...       June          26      Wednesday\n",
              "3  2019-06-27          0  206.0  ...       June          27       Thursday\n",
              "4  2019-06-28          0  206.0  ...       June          28         Friday\n",
              "\n",
              "[5 rows x 22 columns]"
            ]
          },
          "metadata": {
            "tags": []
          },
          "execution_count": 74
        }
      ]
    },
    {
      "cell_type": "code",
      "metadata": {
        "id": "IXlZ4QE8ebsQ",
        "colab_type": "code",
        "colab": {}
      },
      "source": [
        "df1 = df.groupby('date')['price'].mean().reset_index()"
      ],
      "execution_count": 0,
      "outputs": []
    },
    {
      "cell_type": "code",
      "metadata": {
        "id": "xhvC7w5beiFE",
        "colab_type": "code",
        "outputId": "c990b911-b782-43af-924c-4769e37062ea",
        "colab": {
          "base_uri": "https://localhost:8080/",
          "height": 34
        }
      },
      "source": [
        "df1.shape"
      ],
      "execution_count": 0,
      "outputs": [
        {
          "output_type": "execute_result",
          "data": {
            "text/plain": [
              "(365, 2)"
            ]
          },
          "metadata": {
            "tags": []
          },
          "execution_count": 37
        }
      ]
    },
    {
      "cell_type": "code",
      "metadata": {
        "id": "M0u4EfgGeiKg",
        "colab_type": "code",
        "outputId": "178e5b38-d537-4ea6-9e25-4de011db1ddd",
        "colab": {
          "base_uri": "https://localhost:8080/",
          "height": 404
        }
      },
      "source": [
        "# plot avg listings prices over time.\n",
        "plt.figure(figsize=(16, 6))\n",
        "plt.plot(df1.date, df1.price, color='b', marker='.', linewidth=0.9)\n",
        "plt.title(\"Average listing price by date\")\n",
        "plt.xlabel('date')\n",
        "plt.ylabel('average listing price')\n",
        "plt.grid()"
      ],
      "execution_count": 0,
      "outputs": [
        {
          "output_type": "display_data",
          "data": {
            "image/png": "[encoded data removed]",
            "text/plain": [
              "<Figure size 1152x432 with 1 Axes>"
            ]
          },
          "metadata": {
            "tags": []
          }
        }
      ]
    },
    {
      "cell_type": "code",
      "metadata": {
        "id": "8pP7zDOJv0oS",
        "colab_type": "code",
        "outputId": "94e3d7b0-e184-4b78-e698-0e83436c0b6d",
        "colab": {
          "base_uri": "https://localhost:8080/",
          "height": 404
        }
      },
      "source": [
        "# better plot avg listings prices over time.\n",
        "ax = df1.plot(x='date', y='price', color='b', marker='.', figsize = (16,6), grid = True)\n",
        "ax.set_title(\"Average Listing Price by Date\")\n",
        "ax.set_xlabel('Date')\n",
        "ax.set_ylabel('Average Listing Price');"
      ],
      "execution_count": 0,
      "outputs": [
        {
          "output_type": "display_data",
          "data": {
            "image/png": "[encoded data removed]",
            "text/plain": [
              "<Figure size 1152x432 with 1 Axes>"
            ]
          },
          "metadata": {
            "tags": []
          }
        }
      ]
    },
    {
      "cell_type": "code",
      "metadata": {
        "id": "p2mmzAzpebwH",
        "colab_type": "code",
        "colab": {}
      },
      "source": [
        "df2 = pd.DataFrame( df.groupby(['date','available','year','month','monthname','dayofmonth','dayofweekname'])['price'].agg(['sum', 'count']))"
      ],
      "execution_count": 0,
      "outputs": []
    },
    {
      "cell_type": "code",
      "metadata": {
        "id": "a914cqYGeYAq",
        "colab_type": "code",
        "colab": {}
      },
      "source": [
        "df2.reset_index(inplace=True)\n",
        "df2.columns = ['date','available','year','month','monthname','dayofmonth','dayofweekname', 'total_revenue_per_date', 'total_properties_rented_per_date']"
      ],
      "execution_count": 0,
      "outputs": []
    },
    {
      "cell_type": "code",
      "metadata": {
        "id": "aZSzzfaEA9dM",
        "colab_type": "code",
        "outputId": "bcb21162-2193-4aa3-ab44-ca91b64c7db5",
        "colab": {
          "base_uri": "https://localhost:8080/",
          "height": 309
        }
      },
      "source": [
        "df2.tail()"
      ],
      "execution_count": 0,
      "outputs": [
        {
          "output_type": "execute_result",
          "data": {
            "text/html": [
              "<div>\n",
              "<style scoped>\n",
              "    .dataframe tbody tr th:only-of-type {\n",
              "        vertical-align: middle;\n",
              "    }\n",
              "\n",
              "    .dataframe tbody tr th {\n",
              "        vertical-align: top;\n",
              "    }\n",
              "\n",
              "    .dataframe thead th {\n",
              "        text-align: right;\n",
              "    }\n",
              "</style>\n",
              "<table border=\"1\" class=\"dataframe\">\n",
              "  <thead>\n",
              "    <tr style=\"text-align: right;\">\n",
              "      <th></th>\n",
              "      <th>date</th>\n",
              "      <th>available</th>\n",
              "      <th>year</th>\n",
              "      <th>month</th>\n",
              "      <th>monthname</th>\n",
              "      <th>dayofmonth</th>\n",
              "      <th>dayofweekname</th>\n",
              "      <th>total_revenue_per_date</th>\n",
              "      <th>total_properties_rented_per_date</th>\n",
              "    </tr>\n",
              "  </thead>\n",
              "  <tbody>\n",
              "    <tr>\n",
              "      <th>360</th>\n",
              "      <td>2020-06-19</td>\n",
              "      <td>0</td>\n",
              "      <td>2020</td>\n",
              "      <td>6</td>\n",
              "      <td>June</td>\n",
              "      <td>19</td>\n",
              "      <td>Friday</td>\n",
              "      <td>638435.0</td>\n",
              "      <td>3534</td>\n",
              "    </tr>\n",
              "    <tr>\n",
              "      <th>361</th>\n",
              "      <td>2020-06-20</td>\n",
              "      <td>0</td>\n",
              "      <td>2020</td>\n",
              "      <td>6</td>\n",
              "      <td>June</td>\n",
              "      <td>20</td>\n",
              "      <td>Saturday</td>\n",
              "      <td>638255.0</td>\n",
              "      <td>3531</td>\n",
              "    </tr>\n",
              "    <tr>\n",
              "      <th>362</th>\n",
              "      <td>2020-06-21</td>\n",
              "      <td>0</td>\n",
              "      <td>2020</td>\n",
              "      <td>6</td>\n",
              "      <td>June</td>\n",
              "      <td>21</td>\n",
              "      <td>Sunday</td>\n",
              "      <td>637327.0</td>\n",
              "      <td>3532</td>\n",
              "    </tr>\n",
              "    <tr>\n",
              "      <th>363</th>\n",
              "      <td>2020-06-22</td>\n",
              "      <td>0</td>\n",
              "      <td>2020</td>\n",
              "      <td>6</td>\n",
              "      <td>June</td>\n",
              "      <td>22</td>\n",
              "      <td>Monday</td>\n",
              "      <td>637280.0</td>\n",
              "      <td>3531</td>\n",
              "    </tr>\n",
              "    <tr>\n",
              "      <th>364</th>\n",
              "      <td>2020-06-23</td>\n",
              "      <td>0</td>\n",
              "      <td>2020</td>\n",
              "      <td>6</td>\n",
              "      <td>June</td>\n",
              "      <td>23</td>\n",
              "      <td>Tuesday</td>\n",
              "      <td>635590.0</td>\n",
              "      <td>3525</td>\n",
              "    </tr>\n",
              "  </tbody>\n",
              "</table>\n",
              "</div>"
            ],
            "text/plain": [
              "           date  ...  total_properties_rented_per_date\n",
              "360  2020-06-19  ...                              3534\n",
              "361  2020-06-20  ...                              3531\n",
              "362  2020-06-21  ...                              3532\n",
              "363  2020-06-22  ...                              3531\n",
              "364  2020-06-23  ...                              3525\n",
              "\n",
              "[5 rows x 9 columns]"
            ]
          },
          "metadata": {
            "tags": []
          },
          "execution_count": 41
        }
      ]
    },
    {
      "cell_type": "code",
      "metadata": {
        "id": "9HFUFc7pDaGi",
        "colab_type": "code",
        "outputId": "5f3e27e8-b1eb-40d9-e70e-defe38395cb9",
        "colab": {
          "base_uri": "https://localhost:8080/",
          "height": 404
        }
      },
      "source": [
        "# plot Total Revenue over time.\n",
        "plt.figure(figsize=(16, 6))\n",
        "plt.plot(df2.date, df2.total_revenue_per_date, color='b', marker='.', linewidth=0.9)\n",
        "plt.title(\"Total Revenue per date\")\n",
        "plt.xlabel('Date')\n",
        "plt.ylabel('Revenue Amount')\n",
        "plt.grid()"
      ],
      "execution_count": 0,
      "outputs": [
        {
          "output_type": "display_data",
          "data": {
            "image/png": "[encoded data removed]",
            "text/plain": [
              "<Figure size 1152x432 with 1 Axes>"
            ]
          },
          "metadata": {
            "tags": []
          }
        }
      ]
    },
    {
      "cell_type": "code",
      "metadata": {
        "id": "cw9G0JiEw99h",
        "colab_type": "code",
        "outputId": "7cfe48a4-3297-4fa4-80b4-2e55f95dec40",
        "colab": {
          "base_uri": "https://localhost:8080/",
          "height": 404
        }
      },
      "source": [
        "# better plot Total Revenue over time.\n",
        "ax = df2.plot(x='date', y='total_revenue_per_date', color='b', marker='.', figsize = (16,6), grid = True)\n",
        "ax.set_title(\"Total Revenue per date\")\n",
        "ax.set_xlabel('Date')\n",
        "ax.set_ylabel('Revenue Amount');"
      ],
      "execution_count": 0,
      "outputs": [
        {
          "output_type": "display_data",
          "data": {
            "image/png": "[encoded data removed]",
            "text/plain": [
              "<Figure size 1152x432 with 1 Axes>"
            ]
          },
          "metadata": {
            "tags": []
          }
        }
      ]
    },
    {
      "cell_type": "code",
      "metadata": {
        "id": "8OkJUrnjHVR0",
        "colab_type": "code",
        "outputId": "7ae1ed22-72d3-4699-b4f9-9e4bf59694a6",
        "colab": {
          "base_uri": "https://localhost:8080/",
          "height": 404
        }
      },
      "source": [
        "# plot Total Properties Rented over time.\n",
        "plt.figure(figsize=(16, 6))\n",
        "plt.plot(df2.date, df2.total_properties_rented_per_date, color='b', marker='.', linewidth=0.9)\n",
        "plt.title(\"Total Properties Rented per date\")\n",
        "plt.xlabel('Date')\n",
        "plt.ylabel('Properties Rented Count')\n",
        "plt.grid()"
      ],
      "execution_count": 0,
      "outputs": [
        {
          "output_type": "display_data",
          "data": {
            "image/png": "[encoded data removed]",
            "text/plain": [
              "<Figure size 1152x432 with 1 Axes>"
            ]
          },
          "metadata": {
            "tags": []
          }
        }
      ]
    },
    {
      "cell_type": "code",
      "metadata": {
        "id": "HhtJyaBFzR1U",
        "colab_type": "code",
        "outputId": "5d911b9d-a967-458a-916c-155a30d15b6e",
        "colab": {
          "base_uri": "https://localhost:8080/",
          "height": 404
        }
      },
      "source": [
        "# better plot Total Properties Rented over time.\n",
        "ax = df2.plot(x='date', y='total_properties_rented_per_date', color='b', marker='.', figsize = (16,6), grid = True)\n",
        "ax.set_title(\"Total Properties Rented per date\")\n",
        "ax.set_xlabel('Date')\n",
        "ax.set_ylabel('Properties Rented Count');"
      ],
      "execution_count": 0,
      "outputs": [
        {
          "output_type": "display_data",
          "data": {
            "image/png": "[encoded data removed]",
            "text/plain": [
              "<Figure size 1152x432 with 1 Axes>"
            ]
          },
          "metadata": {
            "tags": []
          }
        }
      ]
    },
    {
      "cell_type": "markdown",
      "metadata": {
        "id": "9weNz9Q5OA5v",
        "colab_type": "text"
      },
      "source": [
        "## Second dataset without date"
      ]
    },
    {
      "cell_type": "code",
      "metadata": {
        "id": "VaozdTgcY38P",
        "colab_type": "code",
        "colab": {}
      },
      "source": [
        "listing_1 = listing[['id', 'price', 'neighbourhood_cleansed', 'property_type'\n",
        "                    , 'room_type', 'accommodates', 'bathrooms', 'bedrooms', 'beds', 'bed_type', 'number_of_reviews']]\n",
        "# Convert id type from int to str\n",
        "listing_1.loc[:, 'id'] = listing_1['id'].astype(str)\n",
        "# replace available type to float\n",
        "listing_1.loc[:,'price'] = listing_1['price'].str.strip('$').str.replace(\",\", \"\").astype(float)"
      ],
      "execution_count": 0,
      "outputs": []
    },
    {
      "cell_type": "code",
      "metadata": {
        "id": "28qEpU28UF4R",
        "colab_type": "code",
        "colab": {}
      },
      "source": [
        "# we use groupby to group according the id and count the days for each id\n",
        "days_rent = pd.DataFrame(df.groupby(['id'])['date'].count().sort_values(ascending=False))\n",
        "# reset the index because we do not want the id become the index by default\n",
        "days_rent.reset_index(level=0, inplace=True)"
      ],
      "execution_count": 0,
      "outputs": []
    },
    {
      "cell_type": "code",
      "metadata": {
        "id": "2ZsTSdlxUGBX",
        "colab_type": "code",
        "colab": {}
      },
      "source": [
        "# rename the column\n",
        "days_rent.columns = ['id','days_rent']"
      ],
      "execution_count": 0,
      "outputs": []
    },
    {
      "cell_type": "code",
      "metadata": {
        "id": "LCM4oLVXUPGz",
        "colab_type": "code",
        "outputId": "58d5d2f0-bfdc-4c36-ae9b-9d62ef6c7c3a",
        "colab": {
          "base_uri": "https://localhost:8080/",
          "height": 204
        }
      },
      "source": [
        "# Convert id type from int to str\n",
        "days_rent.loc[:, 'id'] = days_rent['id'].astype(str)\n",
        "days_rent.head()"
      ],
      "execution_count": 0,
      "outputs": [
        {
          "output_type": "execute_result",
          "data": {
            "text/html": [
              "<div>\n",
              "<style scoped>\n",
              "    .dataframe tbody tr th:only-of-type {\n",
              "        vertical-align: middle;\n",
              "    }\n",
              "\n",
              "    .dataframe tbody tr th {\n",
              "        vertical-align: top;\n",
              "    }\n",
              "\n",
              "    .dataframe thead th {\n",
              "        text-align: right;\n",
              "    }\n",
              "</style>\n",
              "<table border=\"1\" class=\"dataframe\">\n",
              "  <thead>\n",
              "    <tr style=\"text-align: right;\">\n",
              "      <th></th>\n",
              "      <th>id</th>\n",
              "      <th>days_rent</th>\n",
              "    </tr>\n",
              "  </thead>\n",
              "  <tbody>\n",
              "    <tr>\n",
              "      <th>0</th>\n",
              "      <td>10075591</td>\n",
              "      <td>365</td>\n",
              "    </tr>\n",
              "    <tr>\n",
              "      <th>1</th>\n",
              "      <td>21256274</td>\n",
              "      <td>365</td>\n",
              "    </tr>\n",
              "    <tr>\n",
              "      <th>2</th>\n",
              "      <td>21402350</td>\n",
              "      <td>365</td>\n",
              "    </tr>\n",
              "    <tr>\n",
              "      <th>3</th>\n",
              "      <td>21400246</td>\n",
              "      <td>365</td>\n",
              "    </tr>\n",
              "    <tr>\n",
              "      <th>4</th>\n",
              "      <td>21370642</td>\n",
              "      <td>365</td>\n",
              "    </tr>\n",
              "  </tbody>\n",
              "</table>\n",
              "</div>"
            ],
            "text/plain": [
              "         id  days_rent\n",
              "0  10075591        365\n",
              "1  21256274        365\n",
              "2  21402350        365\n",
              "3  21400246        365\n",
              "4  21370642        365"
            ]
          },
          "metadata": {
            "tags": []
          },
          "execution_count": 10
        }
      ]
    },
    {
      "cell_type": "code",
      "metadata": {
        "id": "Z-9bxuIbUPK7",
        "colab_type": "code",
        "outputId": "0474a110-3ab3-446d-9091-670510edd17e",
        "colab": {
          "base_uri": "https://localhost:8080/",
          "height": 297
        }
      },
      "source": [
        "days_rent.describe()"
      ],
      "execution_count": 0,
      "outputs": [
        {
          "output_type": "execute_result",
          "data": {
            "text/html": [
              "<div>\n",
              "<style scoped>\n",
              "    .dataframe tbody tr th:only-of-type {\n",
              "        vertical-align: middle;\n",
              "    }\n",
              "\n",
              "    .dataframe tbody tr th {\n",
              "        vertical-align: top;\n",
              "    }\n",
              "\n",
              "    .dataframe thead th {\n",
              "        text-align: right;\n",
              "    }\n",
              "</style>\n",
              "<table border=\"1\" class=\"dataframe\">\n",
              "  <thead>\n",
              "    <tr style=\"text-align: right;\">\n",
              "      <th></th>\n",
              "      <th>days_rent</th>\n",
              "    </tr>\n",
              "  </thead>\n",
              "  <tbody>\n",
              "    <tr>\n",
              "      <th>count</th>\n",
              "      <td>7467.000000</td>\n",
              "    </tr>\n",
              "    <tr>\n",
              "      <th>mean</th>\n",
              "      <td>169.247623</td>\n",
              "    </tr>\n",
              "    <tr>\n",
              "      <th>std</th>\n",
              "      <td>139.655699</td>\n",
              "    </tr>\n",
              "    <tr>\n",
              "      <th>min</th>\n",
              "      <td>1.000000</td>\n",
              "    </tr>\n",
              "    <tr>\n",
              "      <th>25%</th>\n",
              "      <td>34.000000</td>\n",
              "    </tr>\n",
              "    <tr>\n",
              "      <th>50%</th>\n",
              "      <td>157.000000</td>\n",
              "    </tr>\n",
              "    <tr>\n",
              "      <th>75%</th>\n",
              "      <td>312.000000</td>\n",
              "    </tr>\n",
              "    <tr>\n",
              "      <th>max</th>\n",
              "      <td>365.000000</td>\n",
              "    </tr>\n",
              "  </tbody>\n",
              "</table>\n",
              "</div>"
            ],
            "text/plain": [
              "         days_rent\n",
              "count  7467.000000\n",
              "mean    169.247623\n",
              "std     139.655699\n",
              "min       1.000000\n",
              "25%      34.000000\n",
              "50%     157.000000\n",
              "75%     312.000000\n",
              "max     365.000000"
            ]
          },
          "metadata": {
            "tags": []
          },
          "execution_count": 11
        }
      ]
    },
    {
      "cell_type": "code",
      "metadata": {
        "id": "Tm2HovOGUPQI",
        "colab_type": "code",
        "outputId": "e5810123-0921-4790-ccb1-454882639ad4",
        "colab": {
          "base_uri": "https://localhost:8080/",
          "height": 34
        }
      },
      "source": [
        "#Total number of unique listing\n",
        "days_rent.id.value_counts().sum()"
      ],
      "execution_count": 0,
      "outputs": [
        {
          "output_type": "execute_result",
          "data": {
            "text/plain": [
              "7467"
            ]
          },
          "metadata": {
            "tags": []
          },
          "execution_count": 12
        }
      ]
    },
    {
      "cell_type": "code",
      "metadata": {
        "id": "YnmLCheBaRq7",
        "colab_type": "code",
        "colab": {}
      },
      "source": [
        "days_rent1 = pd.merge(listing_1, days_rent, how='left', on=['id'])"
      ],
      "execution_count": 0,
      "outputs": []
    },
    {
      "cell_type": "code",
      "metadata": {
        "id": "shcFMs3NXE59",
        "colab_type": "code",
        "outputId": "6940eb5f-c35c-4f58-a711-a2896e942edb",
        "colab": {
          "base_uri": "https://localhost:8080/",
          "height": 204
        }
      },
      "source": [
        "days_rent1.head()"
      ],
      "execution_count": 0,
      "outputs": [
        {
          "output_type": "execute_result",
          "data": {
            "text/html": [
              "<div>\n",
              "<style scoped>\n",
              "    .dataframe tbody tr th:only-of-type {\n",
              "        vertical-align: middle;\n",
              "    }\n",
              "\n",
              "    .dataframe tbody tr th {\n",
              "        vertical-align: top;\n",
              "    }\n",
              "\n",
              "    .dataframe thead th {\n",
              "        text-align: right;\n",
              "    }\n",
              "</style>\n",
              "<table border=\"1\" class=\"dataframe\">\n",
              "  <thead>\n",
              "    <tr style=\"text-align: right;\">\n",
              "      <th></th>\n",
              "      <th>id</th>\n",
              "      <th>price</th>\n",
              "      <th>neighbourhood_cleansed</th>\n",
              "      <th>property_type</th>\n",
              "      <th>room_type</th>\n",
              "      <th>accommodates</th>\n",
              "      <th>bathrooms</th>\n",
              "      <th>bedrooms</th>\n",
              "      <th>beds</th>\n",
              "      <th>bed_type</th>\n",
              "      <th>number_of_reviews</th>\n",
              "      <th>days_rent</th>\n",
              "    </tr>\n",
              "  </thead>\n",
              "  <tbody>\n",
              "    <tr>\n",
              "      <th>0</th>\n",
              "      <td>49091</td>\n",
              "      <td>81.0</td>\n",
              "      <td>Woodlands</td>\n",
              "      <td>Apartment</td>\n",
              "      <td>Private room</td>\n",
              "      <td>1</td>\n",
              "      <td>1.0</td>\n",
              "      <td>1</td>\n",
              "      <td>1.0</td>\n",
              "      <td>Real Bed</td>\n",
              "      <td>1</td>\n",
              "      <td>NaN</td>\n",
              "    </tr>\n",
              "    <tr>\n",
              "      <th>1</th>\n",
              "      <td>50646</td>\n",
              "      <td>80.0</td>\n",
              "      <td>Bukit Timah</td>\n",
              "      <td>Apartment</td>\n",
              "      <td>Private room</td>\n",
              "      <td>2</td>\n",
              "      <td>1.0</td>\n",
              "      <td>1</td>\n",
              "      <td>1.0</td>\n",
              "      <td>Real Bed</td>\n",
              "      <td>18</td>\n",
              "      <td>NaN</td>\n",
              "    </tr>\n",
              "    <tr>\n",
              "      <th>2</th>\n",
              "      <td>56334</td>\n",
              "      <td>68.0</td>\n",
              "      <td>Woodlands</td>\n",
              "      <td>Apartment</td>\n",
              "      <td>Private room</td>\n",
              "      <td>1</td>\n",
              "      <td>1.0</td>\n",
              "      <td>1</td>\n",
              "      <td>1.0</td>\n",
              "      <td>Real Bed</td>\n",
              "      <td>20</td>\n",
              "      <td>NaN</td>\n",
              "    </tr>\n",
              "    <tr>\n",
              "      <th>3</th>\n",
              "      <td>71609</td>\n",
              "      <td>200.0</td>\n",
              "      <td>Tampines</td>\n",
              "      <td>Villa</td>\n",
              "      <td>Private room</td>\n",
              "      <td>6</td>\n",
              "      <td>1.0</td>\n",
              "      <td>2</td>\n",
              "      <td>3.0</td>\n",
              "      <td>Real Bed</td>\n",
              "      <td>12</td>\n",
              "      <td>12.0</td>\n",
              "    </tr>\n",
              "    <tr>\n",
              "      <th>4</th>\n",
              "      <td>71896</td>\n",
              "      <td>92.0</td>\n",
              "      <td>Tampines</td>\n",
              "      <td>House</td>\n",
              "      <td>Private room</td>\n",
              "      <td>3</td>\n",
              "      <td>0.5</td>\n",
              "      <td>1</td>\n",
              "      <td>1.0</td>\n",
              "      <td>Real Bed</td>\n",
              "      <td>20</td>\n",
              "      <td>12.0</td>\n",
              "    </tr>\n",
              "  </tbody>\n",
              "</table>\n",
              "</div>"
            ],
            "text/plain": [
              "      id  price neighbourhood_cleansed  ...  bed_type number_of_reviews  days_rent\n",
              "0  49091   81.0              Woodlands  ...  Real Bed                 1        NaN\n",
              "1  50646   80.0            Bukit Timah  ...  Real Bed                18        NaN\n",
              "2  56334   68.0              Woodlands  ...  Real Bed                20        NaN\n",
              "3  71609  200.0               Tampines  ...  Real Bed                12       12.0\n",
              "4  71896   92.0               Tampines  ...  Real Bed                20       12.0\n",
              "\n",
              "[5 rows x 12 columns]"
            ]
          },
          "metadata": {
            "tags": []
          },
          "execution_count": 14
        }
      ]
    },
    {
      "cell_type": "code",
      "metadata": {
        "id": "Dpv9ZrZKbkaI",
        "colab_type": "code",
        "outputId": "74df0a5e-e7f9-4df6-ca44-d703985b3c3e",
        "colab": {
          "base_uri": "https://localhost:8080/",
          "height": 238
        }
      },
      "source": [
        "days_rent1.isnull().sum()"
      ],
      "execution_count": 0,
      "outputs": [
        {
          "output_type": "execute_result",
          "data": {
            "text/plain": [
              "id                          0\n",
              "price                       0\n",
              "neighbourhood_cleansed      0\n",
              "property_type               0\n",
              "room_type                   0\n",
              "accommodates                0\n",
              "bathrooms                   6\n",
              "bedrooms                    0\n",
              "beds                       10\n",
              "bed_type                    0\n",
              "number_of_reviews           0\n",
              "days_rent                 826\n",
              "dtype: int64"
            ]
          },
          "metadata": {
            "tags": []
          },
          "execution_count": 15
        }
      ]
    },
    {
      "cell_type": "code",
      "metadata": {
        "id": "SjNSkYh8bsYV",
        "colab_type": "code",
        "colab": {}
      },
      "source": [
        "# Replace all null 'days_rented' with 0\n",
        "days_rent1[['bathrooms','beds','days_rent']] = days_rent1[['bathrooms','beds','days_rent']].fillna(0)"
      ],
      "execution_count": 0,
      "outputs": []
    },
    {
      "cell_type": "code",
      "metadata": {
        "id": "n6ceqq4PcV37",
        "colab_type": "code",
        "outputId": "4e44df4a-ae79-4aa9-af23-117db1c5da0b",
        "colab": {
          "base_uri": "https://localhost:8080/",
          "height": 238
        }
      },
      "source": [
        "days_rent1.isnull().sum()"
      ],
      "execution_count": 0,
      "outputs": [
        {
          "output_type": "execute_result",
          "data": {
            "text/plain": [
              "id                        0\n",
              "price                     0\n",
              "neighbourhood_cleansed    0\n",
              "property_type             0\n",
              "room_type                 0\n",
              "accommodates              0\n",
              "bathrooms                 0\n",
              "bedrooms                  0\n",
              "beds                      0\n",
              "bed_type                  0\n",
              "number_of_reviews         0\n",
              "days_rent                 0\n",
              "dtype: int64"
            ]
          },
          "metadata": {
            "tags": []
          },
          "execution_count": 17
        }
      ]
    },
    {
      "cell_type": "code",
      "metadata": {
        "id": "87mWXDzxcajZ",
        "colab_type": "code",
        "outputId": "bc9d5091-a751-4fca-c4e4-e2c85e6dee45",
        "colab": {
          "base_uri": "https://localhost:8080/",
          "height": 204
        }
      },
      "source": [
        "# Create a new 'revenue' column (price * days_rent)\n",
        "days_rent1['revenue'] = days_rent1['price'] * days_rent1['days_rent']\n",
        "days_rent1.head()"
      ],
      "execution_count": 0,
      "outputs": [
        {
          "output_type": "execute_result",
          "data": {
            "text/html": [
              "<div>\n",
              "<style scoped>\n",
              "    .dataframe tbody tr th:only-of-type {\n",
              "        vertical-align: middle;\n",
              "    }\n",
              "\n",
              "    .dataframe tbody tr th {\n",
              "        vertical-align: top;\n",
              "    }\n",
              "\n",
              "    .dataframe thead th {\n",
              "        text-align: right;\n",
              "    }\n",
              "</style>\n",
              "<table border=\"1\" class=\"dataframe\">\n",
              "  <thead>\n",
              "    <tr style=\"text-align: right;\">\n",
              "      <th></th>\n",
              "      <th>id</th>\n",
              "      <th>price</th>\n",
              "      <th>neighbourhood_cleansed</th>\n",
              "      <th>property_type</th>\n",
              "      <th>room_type</th>\n",
              "      <th>accommodates</th>\n",
              "      <th>bathrooms</th>\n",
              "      <th>bedrooms</th>\n",
              "      <th>beds</th>\n",
              "      <th>bed_type</th>\n",
              "      <th>number_of_reviews</th>\n",
              "      <th>days_rent</th>\n",
              "      <th>revenue</th>\n",
              "    </tr>\n",
              "  </thead>\n",
              "  <tbody>\n",
              "    <tr>\n",
              "      <th>0</th>\n",
              "      <td>49091</td>\n",
              "      <td>81.0</td>\n",
              "      <td>Woodlands</td>\n",
              "      <td>Apartment</td>\n",
              "      <td>Private room</td>\n",
              "      <td>1</td>\n",
              "      <td>1.0</td>\n",
              "      <td>1</td>\n",
              "      <td>1.0</td>\n",
              "      <td>Real Bed</td>\n",
              "      <td>1</td>\n",
              "      <td>0.0</td>\n",
              "      <td>0.0</td>\n",
              "    </tr>\n",
              "    <tr>\n",
              "      <th>1</th>\n",
              "      <td>50646</td>\n",
              "      <td>80.0</td>\n",
              "      <td>Bukit Timah</td>\n",
              "      <td>Apartment</td>\n",
              "      <td>Private room</td>\n",
              "      <td>2</td>\n",
              "      <td>1.0</td>\n",
              "      <td>1</td>\n",
              "      <td>1.0</td>\n",
              "      <td>Real Bed</td>\n",
              "      <td>18</td>\n",
              "      <td>0.0</td>\n",
              "      <td>0.0</td>\n",
              "    </tr>\n",
              "    <tr>\n",
              "      <th>2</th>\n",
              "      <td>56334</td>\n",
              "      <td>68.0</td>\n",
              "      <td>Woodlands</td>\n",
              "      <td>Apartment</td>\n",
              "      <td>Private room</td>\n",
              "      <td>1</td>\n",
              "      <td>1.0</td>\n",
              "      <td>1</td>\n",
              "      <td>1.0</td>\n",
              "      <td>Real Bed</td>\n",
              "      <td>20</td>\n",
              "      <td>0.0</td>\n",
              "      <td>0.0</td>\n",
              "    </tr>\n",
              "    <tr>\n",
              "      <th>3</th>\n",
              "      <td>71609</td>\n",
              "      <td>200.0</td>\n",
              "      <td>Tampines</td>\n",
              "      <td>Villa</td>\n",
              "      <td>Private room</td>\n",
              "      <td>6</td>\n",
              "      <td>1.0</td>\n",
              "      <td>2</td>\n",
              "      <td>3.0</td>\n",
              "      <td>Real Bed</td>\n",
              "      <td>12</td>\n",
              "      <td>12.0</td>\n",
              "      <td>2400.0</td>\n",
              "    </tr>\n",
              "    <tr>\n",
              "      <th>4</th>\n",
              "      <td>71896</td>\n",
              "      <td>92.0</td>\n",
              "      <td>Tampines</td>\n",
              "      <td>House</td>\n",
              "      <td>Private room</td>\n",
              "      <td>3</td>\n",
              "      <td>0.5</td>\n",
              "      <td>1</td>\n",
              "      <td>1.0</td>\n",
              "      <td>Real Bed</td>\n",
              "      <td>20</td>\n",
              "      <td>12.0</td>\n",
              "      <td>1104.0</td>\n",
              "    </tr>\n",
              "  </tbody>\n",
              "</table>\n",
              "</div>"
            ],
            "text/plain": [
              "      id  price neighbourhood_cleansed  ... number_of_reviews days_rent  revenue\n",
              "0  49091   81.0              Woodlands  ...                 1       0.0      0.0\n",
              "1  50646   80.0            Bukit Timah  ...                18       0.0      0.0\n",
              "2  56334   68.0              Woodlands  ...                20       0.0      0.0\n",
              "3  71609  200.0               Tampines  ...                12      12.0   2400.0\n",
              "4  71896   92.0               Tampines  ...                20      12.0   1104.0\n",
              "\n",
              "[5 rows x 13 columns]"
            ]
          },
          "metadata": {
            "tags": []
          },
          "execution_count": 18
        }
      ]
    },
    {
      "cell_type": "code",
      "metadata": {
        "id": "Bb2enAh5S_6y",
        "colab_type": "code",
        "outputId": "3c3aab48-bce4-488e-a821-29d7698bef29",
        "colab": {
          "base_uri": "https://localhost:8080/",
          "height": 323
        }
      },
      "source": [
        "# Histogram plot for number of days renting out\n",
        "days_rent1['days_rent'].hist(bins = 30,figsize=(20,5));                                    "
      ],
      "execution_count": 0,
      "outputs": [
        {
          "output_type": "display_data",
          "data": {
            "image/png": "[encoded data removed]",
            "text/plain": [
              "<Figure size 1440x360 with 1 Axes>"
            ]
          },
          "metadata": {
            "tags": []
          }
        }
      ]
    },
    {
      "cell_type": "code",
      "metadata": {
        "id": "65q8hv28hqEv",
        "colab_type": "code",
        "colab": {}
      },
      "source": [
        "# Save cleaned df\n",
        "days_rent1.to_csv('/content/drive/My Drive/Colab Notebooks/p4/days_rent1.csv', index=False)"
      ],
      "execution_count": 0,
      "outputs": []
    },
    {
      "cell_type": "markdown",
      "metadata": {
        "id": "JFO0KwYszsCY",
        "colab_type": "text"
      },
      "source": [
        "## Question 1: When in the year 2019 give the higher revenues in Singapore with Airbnb?\n",
        "\n"
      ]
    },
    {
      "cell_type": "markdown",
      "metadata": {
        "id": "mVsw29gxoboX",
        "colab_type": "text"
      },
      "source": [
        "## Modeling\n",
        "We using the dataset with date which we saved earlier. <p>\n",
        "The dataset is consisting month and day of week. <p>\n",
        "We calculate the total revenue and total properties rented. <p>\n",
        "The total revenue and total properties rented with two different level of date will be plot in bar chart."
      ]
    },
    {
      "cell_type": "code",
      "metadata": {
        "id": "kv6outPTg67v",
        "colab_type": "code",
        "colab": {}
      },
      "source": [
        "df3 = pd.DataFrame(df.groupby(['month','monthname'])['price'].agg(['sum', 'count'])).reset_index()\n",
        "df3.columns = ['month','monthname','total_revenue', 'total_property_rented']"
      ],
      "execution_count": 0,
      "outputs": []
    },
    {
      "cell_type": "code",
      "metadata": {
        "id": "zfqxkRQH5lcX",
        "colab_type": "code",
        "outputId": "20ccc946-d473-4580-fe85-cdca0562a8e8",
        "colab": {
          "base_uri": "https://localhost:8080/",
          "height": 421
        }
      },
      "source": [
        "df3['average_revenue_per_property'] = df3['total_revenue']/df3['total_property_rented']\n",
        "df3"
      ],
      "execution_count": 0,
      "outputs": [
        {
          "output_type": "execute_result",
          "data": {
            "text/html": [
              "<div>\n",
              "<style scoped>\n",
              "    .dataframe tbody tr th:only-of-type {\n",
              "        vertical-align: middle;\n",
              "    }\n",
              "\n",
              "    .dataframe tbody tr th {\n",
              "        vertical-align: top;\n",
              "    }\n",
              "\n",
              "    .dataframe thead th {\n",
              "        text-align: right;\n",
              "    }\n",
              "</style>\n",
              "<table border=\"1\" class=\"dataframe\">\n",
              "  <thead>\n",
              "    <tr style=\"text-align: right;\">\n",
              "      <th></th>\n",
              "      <th>month</th>\n",
              "      <th>monthname</th>\n",
              "      <th>total_revenue</th>\n",
              "      <th>total_property_rented</th>\n",
              "      <th>average_revenue_per_property</th>\n",
              "    </tr>\n",
              "  </thead>\n",
              "  <tbody>\n",
              "    <tr>\n",
              "      <th>0</th>\n",
              "      <td>1</td>\n",
              "      <td>January</td>\n",
              "      <td>17825212.0</td>\n",
              "      <td>108208</td>\n",
              "      <td>164.731000</td>\n",
              "    </tr>\n",
              "    <tr>\n",
              "      <th>1</th>\n",
              "      <td>2</td>\n",
              "      <td>February</td>\n",
              "      <td>16345931.0</td>\n",
              "      <td>99421</td>\n",
              "      <td>164.411251</td>\n",
              "    </tr>\n",
              "    <tr>\n",
              "      <th>2</th>\n",
              "      <td>3</td>\n",
              "      <td>March</td>\n",
              "      <td>17606000.0</td>\n",
              "      <td>106685</td>\n",
              "      <td>165.027886</td>\n",
              "    </tr>\n",
              "    <tr>\n",
              "      <th>3</th>\n",
              "      <td>4</td>\n",
              "      <td>April</td>\n",
              "      <td>17770515.0</td>\n",
              "      <td>106551</td>\n",
              "      <td>166.779430</td>\n",
              "    </tr>\n",
              "    <tr>\n",
              "      <th>4</th>\n",
              "      <td>5</td>\n",
              "      <td>May</td>\n",
              "      <td>18667843.0</td>\n",
              "      <td>109783</td>\n",
              "      <td>170.043112</td>\n",
              "    </tr>\n",
              "    <tr>\n",
              "      <th>5</th>\n",
              "      <td>6</td>\n",
              "      <td>June</td>\n",
              "      <td>19986203.0</td>\n",
              "      <td>116536</td>\n",
              "      <td>171.502394</td>\n",
              "    </tr>\n",
              "    <tr>\n",
              "      <th>6</th>\n",
              "      <td>7</td>\n",
              "      <td>July</td>\n",
              "      <td>22442740.0</td>\n",
              "      <td>145474</td>\n",
              "      <td>154.273203</td>\n",
              "    </tr>\n",
              "    <tr>\n",
              "      <th>7</th>\n",
              "      <td>8</td>\n",
              "      <td>August</td>\n",
              "      <td>16830366.0</td>\n",
              "      <td>104654</td>\n",
              "      <td>160.819137</td>\n",
              "    </tr>\n",
              "    <tr>\n",
              "      <th>8</th>\n",
              "      <td>9</td>\n",
              "      <td>September</td>\n",
              "      <td>13313352.0</td>\n",
              "      <td>83938</td>\n",
              "      <td>158.609355</td>\n",
              "    </tr>\n",
              "    <tr>\n",
              "      <th>9</th>\n",
              "      <td>10</td>\n",
              "      <td>October</td>\n",
              "      <td>15112761.0</td>\n",
              "      <td>95711</td>\n",
              "      <td>157.899938</td>\n",
              "    </tr>\n",
              "    <tr>\n",
              "      <th>10</th>\n",
              "      <td>11</td>\n",
              "      <td>November</td>\n",
              "      <td>14262924.0</td>\n",
              "      <td>89283</td>\n",
              "      <td>159.749605</td>\n",
              "    </tr>\n",
              "    <tr>\n",
              "      <th>11</th>\n",
              "      <td>12</td>\n",
              "      <td>December</td>\n",
              "      <td>16002779.0</td>\n",
              "      <td>97528</td>\n",
              "      <td>164.083945</td>\n",
              "    </tr>\n",
              "  </tbody>\n",
              "</table>\n",
              "</div>"
            ],
            "text/plain": [
              "    month  monthname  ...  total_property_rented  average_revenue_per_property\n",
              "0       1    January  ...                 108208                    164.731000\n",
              "1       2   February  ...                  99421                    164.411251\n",
              "2       3      March  ...                 106685                    165.027886\n",
              "3       4      April  ...                 106551                    166.779430\n",
              "4       5        May  ...                 109783                    170.043112\n",
              "5       6       June  ...                 116536                    171.502394\n",
              "6       7       July  ...                 145474                    154.273203\n",
              "7       8     August  ...                 104654                    160.819137\n",
              "8       9  September  ...                  83938                    158.609355\n",
              "9      10    October  ...                  95711                    157.899938\n",
              "10     11   November  ...                  89283                    159.749605\n",
              "11     12   December  ...                  97528                    164.083945\n",
              "\n",
              "[12 rows x 5 columns]"
            ]
          },
          "metadata": {
            "tags": []
          },
          "execution_count": 76
        }
      ]
    },
    {
      "cell_type": "code",
      "metadata": {
        "id": "WeqfXZH3EFRm",
        "colab_type": "code",
        "outputId": "bc3fc9ff-0878-4174-d64c-724f73c86970",
        "colab": {
          "base_uri": "https://localhost:8080/",
          "height": 385
        }
      },
      "source": [
        "plt.figure(figsize=(12, 6))\n",
        "ax1 = df3['total_property_rented'].plot(kind='bar', width = 0.5, color='Blue', legend=True)\n",
        "ax1 = df3['total_revenue'].plot(kind='line', marker='o', secondary_y=True, legend=True)\n",
        "ax1.set_xticks(np.arange(len(df3['monthname'])))\n",
        "ax1.set_xticklabels(df3['monthname'])\n",
        "plt.xlim(-1,12)\n",
        "plt.show();"
      ],
      "execution_count": 0,
      "outputs": [
        {
          "output_type": "display_data",
          "data": {
            "image/png": "[encoded data removed]",
            "text/plain": [
              "<Figure size 864x432 with 2 Axes>"
            ]
          },
          "metadata": {
            "tags": []
          }
        }
      ]
    },
    {
      "cell_type": "code",
      "metadata": {
        "id": "v8JSqw_R55Np",
        "colab_type": "code",
        "outputId": "ede394e4-abf1-4857-eb1d-fa5a2170079b",
        "colab": {
          "base_uri": "https://localhost:8080/",
          "height": 378
        }
      },
      "source": [
        "plt.figure(figsize=(15, 6))\n",
        "plt.plot(df3.month, df3.average_revenue_per_property, color='b', marker='.', linewidth=0.9);"
      ],
      "execution_count": 0,
      "outputs": [
        {
          "output_type": "display_data",
          "data": {
            "image/png": "[encoded data removed]",
            "text/plain": [
              "<Figure size 1080x432 with 1 Axes>"
            ]
          },
          "metadata": {
            "tags": []
          }
        }
      ]
    },
    {
      "cell_type": "code",
      "metadata": {
        "id": "SDG_sDF88iwO",
        "colab_type": "code",
        "outputId": "48bc56e0-7149-40b5-adbc-79eed49f7d31",
        "colab": {
          "base_uri": "https://localhost:8080/",
          "height": 266
        }
      },
      "source": [
        "df4 = pd.DataFrame(df.groupby(['dayofweekname'])['price'].agg(['sum', 'count'])).reset_index()\n",
        "df4.columns = ['dayofweekname','total_revenue', 'total_property_rented']\n",
        "df4"
      ],
      "execution_count": 0,
      "outputs": [
        {
          "output_type": "execute_result",
          "data": {
            "text/html": [
              "<div>\n",
              "<style scoped>\n",
              "    .dataframe tbody tr th:only-of-type {\n",
              "        vertical-align: middle;\n",
              "    }\n",
              "\n",
              "    .dataframe tbody tr th {\n",
              "        vertical-align: top;\n",
              "    }\n",
              "\n",
              "    .dataframe thead th {\n",
              "        text-align: right;\n",
              "    }\n",
              "</style>\n",
              "<table border=\"1\" class=\"dataframe\">\n",
              "  <thead>\n",
              "    <tr style=\"text-align: right;\">\n",
              "      <th></th>\n",
              "      <th>dayofweekname</th>\n",
              "      <th>total_revenue</th>\n",
              "      <th>total_property_rented</th>\n",
              "    </tr>\n",
              "  </thead>\n",
              "  <tbody>\n",
              "    <tr>\n",
              "      <th>0</th>\n",
              "      <td>Friday</td>\n",
              "      <td>29637871.0</td>\n",
              "      <td>181836</td>\n",
              "    </tr>\n",
              "    <tr>\n",
              "      <th>1</th>\n",
              "      <td>Monday</td>\n",
              "      <td>29059753.0</td>\n",
              "      <td>177730</td>\n",
              "    </tr>\n",
              "    <tr>\n",
              "      <th>2</th>\n",
              "      <td>Saturday</td>\n",
              "      <td>29647530.0</td>\n",
              "      <td>181543</td>\n",
              "    </tr>\n",
              "    <tr>\n",
              "      <th>3</th>\n",
              "      <td>Sunday</td>\n",
              "      <td>29332573.0</td>\n",
              "      <td>179293</td>\n",
              "    </tr>\n",
              "    <tr>\n",
              "      <th>4</th>\n",
              "      <td>Thursday</td>\n",
              "      <td>29382468.0</td>\n",
              "      <td>180480</td>\n",
              "    </tr>\n",
              "    <tr>\n",
              "      <th>5</th>\n",
              "      <td>Tuesday</td>\n",
              "      <td>29778843.0</td>\n",
              "      <td>182831</td>\n",
              "    </tr>\n",
              "    <tr>\n",
              "      <th>6</th>\n",
              "      <td>Wednesday</td>\n",
              "      <td>29327588.0</td>\n",
              "      <td>180059</td>\n",
              "    </tr>\n",
              "  </tbody>\n",
              "</table>\n",
              "</div>"
            ],
            "text/plain": [
              "  dayofweekname  total_revenue  total_property_rented\n",
              "0        Friday     29637871.0                 181836\n",
              "1        Monday     29059753.0                 177730\n",
              "2      Saturday     29647530.0                 181543\n",
              "3        Sunday     29332573.0                 179293\n",
              "4      Thursday     29382468.0                 180480\n",
              "5       Tuesday     29778843.0                 182831\n",
              "6     Wednesday     29327588.0                 180059"
            ]
          },
          "metadata": {
            "tags": []
          },
          "execution_count": 79
        }
      ]
    },
    {
      "cell_type": "code",
      "metadata": {
        "id": "tcOdqwLMM3_e",
        "colab_type": "code",
        "outputId": "f7575002-71a4-47ba-fc8e-e0d29049f17f",
        "colab": {
          "base_uri": "https://localhost:8080/",
          "height": 266
        }
      },
      "source": [
        "cats = [ 'Monday', 'Tuesday', 'Wednesday', 'Thursday', 'Friday', 'Saturday', 'Sunday']\n",
        "df_weekday = pd.DataFrame(df.groupby(['dayofweekname'])['price'].agg(['sum', 'count'])).reindex(cats) \n",
        "df_weekday.columns = ['total_revenue', 'total_property_rented']\n",
        "df_weekday.reset_index(level=0, inplace=True)\n",
        "df_weekday['average_revenue_per_property'] = df_weekday['total_revenue']/df_weekday['total_property_rented']\n",
        "df_weekday"
      ],
      "execution_count": 0,
      "outputs": [
        {
          "output_type": "execute_result",
          "data": {
            "text/html": [
              "<div>\n",
              "<style scoped>\n",
              "    .dataframe tbody tr th:only-of-type {\n",
              "        vertical-align: middle;\n",
              "    }\n",
              "\n",
              "    .dataframe tbody tr th {\n",
              "        vertical-align: top;\n",
              "    }\n",
              "\n",
              "    .dataframe thead th {\n",
              "        text-align: right;\n",
              "    }\n",
              "</style>\n",
              "<table border=\"1\" class=\"dataframe\">\n",
              "  <thead>\n",
              "    <tr style=\"text-align: right;\">\n",
              "      <th></th>\n",
              "      <th>dayofweekname</th>\n",
              "      <th>total_revenue</th>\n",
              "      <th>total_property_rented</th>\n",
              "      <th>average_revenue_per_property</th>\n",
              "    </tr>\n",
              "  </thead>\n",
              "  <tbody>\n",
              "    <tr>\n",
              "      <th>0</th>\n",
              "      <td>Monday</td>\n",
              "      <td>29059753.0</td>\n",
              "      <td>177730</td>\n",
              "      <td>163.505053</td>\n",
              "    </tr>\n",
              "    <tr>\n",
              "      <th>1</th>\n",
              "      <td>Tuesday</td>\n",
              "      <td>29778843.0</td>\n",
              "      <td>182831</td>\n",
              "      <td>162.876334</td>\n",
              "    </tr>\n",
              "    <tr>\n",
              "      <th>2</th>\n",
              "      <td>Wednesday</td>\n",
              "      <td>29327588.0</td>\n",
              "      <td>180059</td>\n",
              "      <td>162.877657</td>\n",
              "    </tr>\n",
              "    <tr>\n",
              "      <th>3</th>\n",
              "      <td>Thursday</td>\n",
              "      <td>29382468.0</td>\n",
              "      <td>180480</td>\n",
              "      <td>162.801795</td>\n",
              "    </tr>\n",
              "    <tr>\n",
              "      <th>4</th>\n",
              "      <td>Friday</td>\n",
              "      <td>29637871.0</td>\n",
              "      <td>181836</td>\n",
              "      <td>162.992317</td>\n",
              "    </tr>\n",
              "    <tr>\n",
              "      <th>5</th>\n",
              "      <td>Saturday</td>\n",
              "      <td>29647530.0</td>\n",
              "      <td>181543</td>\n",
              "      <td>163.308583</td>\n",
              "    </tr>\n",
              "    <tr>\n",
              "      <th>6</th>\n",
              "      <td>Sunday</td>\n",
              "      <td>29332573.0</td>\n",
              "      <td>179293</td>\n",
              "      <td>163.601329</td>\n",
              "    </tr>\n",
              "  </tbody>\n",
              "</table>\n",
              "</div>"
            ],
            "text/plain": [
              "  dayofweekname  ...  average_revenue_per_property\n",
              "0        Monday  ...                    163.505053\n",
              "1       Tuesday  ...                    162.876334\n",
              "2     Wednesday  ...                    162.877657\n",
              "3      Thursday  ...                    162.801795\n",
              "4        Friday  ...                    162.992317\n",
              "5      Saturday  ...                    163.308583\n",
              "6        Sunday  ...                    163.601329\n",
              "\n",
              "[7 rows x 4 columns]"
            ]
          },
          "metadata": {
            "tags": []
          },
          "execution_count": 80
        }
      ]
    },
    {
      "cell_type": "code",
      "metadata": {
        "id": "lKgAjwPRMbiq",
        "colab_type": "code",
        "outputId": "de385a62-9fa5-43b2-c0db-95f7065daff8",
        "colab": {
          "base_uri": "https://localhost:8080/",
          "height": 385
        }
      },
      "source": [
        "plt.figure(figsize=(12, 6))\n",
        "ax1 = df_weekday['total_property_rented'].plot(kind='bar', width = 0.5, color='Blue', legend=True)\n",
        "ax1 = df_weekday['total_revenue'].plot(kind='line', marker='o', secondary_y=True, legend=True)\n",
        "ax1.set_xticks(np.arange(len(df_weekday['dayofweekname'])))\n",
        "ax1.set_xticklabels(df_weekday['dayofweekname'])\n",
        "plt.xlim(-1,7)\n",
        "plt.show();"
      ],
      "execution_count": 0,
      "outputs": [
        {
          "output_type": "display_data",
          "data": {
            "image/png": "[encoded data removed]",
            "text/plain": [
              "<Figure size 864x432 with 2 Axes>"
            ]
          },
          "metadata": {
            "tags": []
          }
        }
      ]
    },
    {
      "cell_type": "code",
      "metadata": {
        "id": "JzXgERwETGPS",
        "colab_type": "code",
        "colab": {}
      },
      "source": [
        "plt.figure(figsize=(15, 6))\n",
        "plt.plot(df_weekday.month, df_weekday.average_revenue_per_property, color='b', marker='.', linewidth=0.9);"
      ],
      "execution_count": 0,
      "outputs": []
    },
    {
      "cell_type": "markdown",
      "metadata": {
        "id": "j4U3-ujzqRA5",
        "colab_type": "text"
      },
      "source": [
        "## Evaluation\n",
        "Month as criteria: \n",
        "- The first 7 months in the year can see uptrend of total revenue.\n",
        "- Highest total revenue is July.\n",
        "- Hence, property owners can focus more on they property listing in first 7 months of the year. \n",
        "\n",
        "Day as criteria:\n",
        "- Tuesday give the highest total revenue, then followed by Friday and Saturday.\n",
        "- Property owners can focus more on they property listing on Tuesday, Friday and Saturday."
      ]
    },
    {
      "cell_type": "markdown",
      "metadata": {
        "id": "GxsJmU1jI4SP",
        "colab_type": "text"
      },
      "source": [
        "## Question 2: Which locations give the higher revenue in Singapore with Airbnb?"
      ]
    },
    {
      "cell_type": "markdown",
      "metadata": {
        "id": "DbmhtRROv8t8",
        "colab_type": "text"
      },
      "source": [
        "## Modeling\n",
        "We using dataset without date. <p>\n",
        "Then we select some features in the dataset we want to focused which is neighbourhood_cleansed, and revenue. <p>\n",
        "We calculate the total_earning, number_of_listing, average_earning_per_listing <p>\n",
        "The top 5 highest revenue listing location will be presented in table"
      ]
    },
    {
      "cell_type": "code",
      "metadata": {
        "id": "zqqJQ2xmImgD",
        "colab_type": "code",
        "colab": {}
      },
      "source": [
        "days_rent1 = pd.read_csv('/content/drive/My Drive/Colab Notebooks/p4/days_rent1.csv')"
      ],
      "execution_count": 0,
      "outputs": []
    },
    {
      "cell_type": "code",
      "metadata": {
        "id": "_vX6MwZcJFxf",
        "colab_type": "code",
        "colab": {}
      },
      "source": [
        "df10 = days_rent1.groupby(['neighbourhood_cleansed'])['revenue'].agg(['sum', 'count', 'mean']).reset_index()\n",
        "df10.columns = ['neighbourhood_cleansed','total_earning','number_of_listing','average_earning_per_listing']"
      ],
      "execution_count": 0,
      "outputs": []
    },
    {
      "cell_type": "code",
      "metadata": {
        "id": "Evo-sOrdJF-0",
        "colab_type": "code",
        "outputId": "635d0718-ce4a-4df4-c0ef-6eaf392dd7d3",
        "colab": {
          "base_uri": "https://localhost:8080/",
          "height": 204
        }
      },
      "source": [
        "df11 = df10.sort_values(by='average_earning_per_listing', ascending=False)\n",
        "df11['total_earning'] = df11['total_earning'].astype(int)\n",
        "df11['average_earning_per_listing'] = df11['average_earning_per_listing'].astype(int)\n",
        "df11.head()"
      ],
      "execution_count": 0,
      "outputs": [
        {
          "output_type": "execute_result",
          "data": {
            "text/html": [
              "<div>\n",
              "<style scoped>\n",
              "    .dataframe tbody tr th:only-of-type {\n",
              "        vertical-align: middle;\n",
              "    }\n",
              "\n",
              "    .dataframe tbody tr th {\n",
              "        vertical-align: top;\n",
              "    }\n",
              "\n",
              "    .dataframe thead th {\n",
              "        text-align: right;\n",
              "    }\n",
              "</style>\n",
              "<table border=\"1\" class=\"dataframe\">\n",
              "  <thead>\n",
              "    <tr style=\"text-align: right;\">\n",
              "      <th></th>\n",
              "      <th>neighbourhood_cleansed</th>\n",
              "      <th>total_earning</th>\n",
              "      <th>number_of_listing</th>\n",
              "      <th>average_earning_per_listing</th>\n",
              "    </tr>\n",
              "  </thead>\n",
              "  <tbody>\n",
              "    <tr>\n",
              "      <th>41</th>\n",
              "      <td>Tuas</td>\n",
              "      <td>2750000</td>\n",
              "      <td>1</td>\n",
              "      <td>2750000</td>\n",
              "    </tr>\n",
              "    <tr>\n",
              "      <th>36</th>\n",
              "      <td>Southern Islands</td>\n",
              "      <td>6262312</td>\n",
              "      <td>18</td>\n",
              "      <td>347906</td>\n",
              "    </tr>\n",
              "    <tr>\n",
              "      <th>6</th>\n",
              "      <td>Bukit Panjang</td>\n",
              "      <td>4269191</td>\n",
              "      <td>36</td>\n",
              "      <td>118588</td>\n",
              "    </tr>\n",
              "    <tr>\n",
              "      <th>14</th>\n",
              "      <td>Jurong East</td>\n",
              "      <td>4938363</td>\n",
              "      <td>114</td>\n",
              "      <td>43318</td>\n",
              "    </tr>\n",
              "    <tr>\n",
              "      <th>19</th>\n",
              "      <td>Marina South</td>\n",
              "      <td>40320</td>\n",
              "      <td>1</td>\n",
              "      <td>40320</td>\n",
              "    </tr>\n",
              "  </tbody>\n",
              "</table>\n",
              "</div>"
            ],
            "text/plain": [
              "   neighbourhood_cleansed  ...  average_earning_per_listing\n",
              "41                   Tuas  ...                      2750000\n",
              "36       Southern Islands  ...                       347906\n",
              "6           Bukit Panjang  ...                       118588\n",
              "14            Jurong East  ...                        43318\n",
              "19           Marina South  ...                        40320\n",
              "\n",
              "[5 rows x 4 columns]"
            ]
          },
          "metadata": {
            "tags": []
          },
          "execution_count": 6
        }
      ]
    },
    {
      "cell_type": "markdown",
      "metadata": {
        "id": "JRl7PZu8zk0r",
        "colab_type": "text"
      },
      "source": [
        "## Evaluation\n",
        "- Tuas give the highest average revenue which is $ 2,750,000 but only 1 rented out listing in Tuas.\n",
        "- Then followed by Southern Islands, Bukit Panjang, Jurong East, and Marina South with 347,906; 118,588; 43,318; 40,320 respectively.\n",
        "- Jurong East recorded highest number of listing which mean existing of greater competition, resulting in more competitive pricing.\n",
        "- Checking out the Tuas listing actaully is luxury penthouse.(https://www.airbnb.com/rooms/20791161)"
      ]
    },
    {
      "cell_type": "markdown",
      "metadata": {
        "id": "Bqw79bKnWERD",
        "colab_type": "text"
      },
      "source": [
        "## Question 3: What property characteristics that give the higher revenues?"
      ]
    },
    {
      "cell_type": "markdown",
      "metadata": {
        "id": "C_r_FsUv6MFB",
        "colab_type": "text"
      },
      "source": [
        "## Modeling\n",
        "We using dataset without date <p>\n",
        "Then we select features in the dataset we want to analyze and store in new dataframe. <p>\n",
        "We encode the categorical features, and standardize the data values.<p>\n",
        "Then we split the data into train and test set.<p>\n",
        "Instantiate the prediction model and measuring the error with model scoring. <p>\n",
        "We using LinearRegression, DecisionTreeRegressor, Lasso, RidgeCV, RandomForestClassifier for the prediction."
      ]
    },
    {
      "cell_type": "code",
      "metadata": {
        "id": "uuqvV2LXMbsC",
        "colab_type": "code",
        "outputId": "aaf2d5c2-799e-487f-ebd1-19f183fb22df",
        "colab": {
          "base_uri": "https://localhost:8080/",
          "height": 204
        }
      },
      "source": [
        "days_rent1.head()"
      ],
      "execution_count": 0,
      "outputs": [
        {
          "output_type": "execute_result",
          "data": {
            "text/html": [
              "<div>\n",
              "<style scoped>\n",
              "    .dataframe tbody tr th:only-of-type {\n",
              "        vertical-align: middle;\n",
              "    }\n",
              "\n",
              "    .dataframe tbody tr th {\n",
              "        vertical-align: top;\n",
              "    }\n",
              "\n",
              "    .dataframe thead th {\n",
              "        text-align: right;\n",
              "    }\n",
              "</style>\n",
              "<table border=\"1\" class=\"dataframe\">\n",
              "  <thead>\n",
              "    <tr style=\"text-align: right;\">\n",
              "      <th></th>\n",
              "      <th>id</th>\n",
              "      <th>price</th>\n",
              "      <th>neighbourhood_cleansed</th>\n",
              "      <th>property_type</th>\n",
              "      <th>room_type</th>\n",
              "      <th>accommodates</th>\n",
              "      <th>bathrooms</th>\n",
              "      <th>bedrooms</th>\n",
              "      <th>beds</th>\n",
              "      <th>bed_type</th>\n",
              "      <th>number_of_reviews</th>\n",
              "      <th>days_rent</th>\n",
              "      <th>revenue</th>\n",
              "    </tr>\n",
              "  </thead>\n",
              "  <tbody>\n",
              "    <tr>\n",
              "      <th>0</th>\n",
              "      <td>49091</td>\n",
              "      <td>81.0</td>\n",
              "      <td>Woodlands</td>\n",
              "      <td>Apartment</td>\n",
              "      <td>Private room</td>\n",
              "      <td>1</td>\n",
              "      <td>1.0</td>\n",
              "      <td>1</td>\n",
              "      <td>1.0</td>\n",
              "      <td>Real Bed</td>\n",
              "      <td>1</td>\n",
              "      <td>0.0</td>\n",
              "      <td>0.0</td>\n",
              "    </tr>\n",
              "    <tr>\n",
              "      <th>1</th>\n",
              "      <td>50646</td>\n",
              "      <td>80.0</td>\n",
              "      <td>Bukit Timah</td>\n",
              "      <td>Apartment</td>\n",
              "      <td>Private room</td>\n",
              "      <td>2</td>\n",
              "      <td>1.0</td>\n",
              "      <td>1</td>\n",
              "      <td>1.0</td>\n",
              "      <td>Real Bed</td>\n",
              "      <td>18</td>\n",
              "      <td>0.0</td>\n",
              "      <td>0.0</td>\n",
              "    </tr>\n",
              "    <tr>\n",
              "      <th>2</th>\n",
              "      <td>56334</td>\n",
              "      <td>68.0</td>\n",
              "      <td>Woodlands</td>\n",
              "      <td>Apartment</td>\n",
              "      <td>Private room</td>\n",
              "      <td>1</td>\n",
              "      <td>1.0</td>\n",
              "      <td>1</td>\n",
              "      <td>1.0</td>\n",
              "      <td>Real Bed</td>\n",
              "      <td>20</td>\n",
              "      <td>0.0</td>\n",
              "      <td>0.0</td>\n",
              "    </tr>\n",
              "    <tr>\n",
              "      <th>3</th>\n",
              "      <td>71609</td>\n",
              "      <td>200.0</td>\n",
              "      <td>Tampines</td>\n",
              "      <td>Villa</td>\n",
              "      <td>Private room</td>\n",
              "      <td>6</td>\n",
              "      <td>1.0</td>\n",
              "      <td>2</td>\n",
              "      <td>3.0</td>\n",
              "      <td>Real Bed</td>\n",
              "      <td>12</td>\n",
              "      <td>12.0</td>\n",
              "      <td>2400.0</td>\n",
              "    </tr>\n",
              "    <tr>\n",
              "      <th>4</th>\n",
              "      <td>71896</td>\n",
              "      <td>92.0</td>\n",
              "      <td>Tampines</td>\n",
              "      <td>House</td>\n",
              "      <td>Private room</td>\n",
              "      <td>3</td>\n",
              "      <td>0.5</td>\n",
              "      <td>1</td>\n",
              "      <td>1.0</td>\n",
              "      <td>Real Bed</td>\n",
              "      <td>20</td>\n",
              "      <td>12.0</td>\n",
              "      <td>1104.0</td>\n",
              "    </tr>\n",
              "  </tbody>\n",
              "</table>\n",
              "</div>"
            ],
            "text/plain": [
              "      id  price neighbourhood_cleansed  ... number_of_reviews days_rent  revenue\n",
              "0  49091   81.0              Woodlands  ...                 1       0.0      0.0\n",
              "1  50646   80.0            Bukit Timah  ...                18       0.0      0.0\n",
              "2  56334   68.0              Woodlands  ...                20       0.0      0.0\n",
              "3  71609  200.0               Tampines  ...                12      12.0   2400.0\n",
              "4  71896   92.0               Tampines  ...                20      12.0   1104.0\n",
              "\n",
              "[5 rows x 13 columns]"
            ]
          },
          "metadata": {
            "tags": []
          },
          "execution_count": 37
        }
      ]
    },
    {
      "cell_type": "code",
      "metadata": {
        "id": "7_gsryGLWuZl",
        "colab_type": "code",
        "outputId": "7f7d97a4-eb31-42b2-ee28-b92dff19fb47",
        "colab": {
          "base_uri": "https://localhost:8080/",
          "height": 85
        }
      },
      "source": [
        "days_rent1.columns"
      ],
      "execution_count": 0,
      "outputs": [
        {
          "output_type": "execute_result",
          "data": {
            "text/plain": [
              "Index(['id', 'price', 'neighbourhood_cleansed', 'property_type', 'room_type',\n",
              "       'accommodates', 'bathrooms', 'bedrooms', 'beds', 'bed_type',\n",
              "       'number_of_reviews', 'days_rent', 'revenue'],\n",
              "      dtype='object')"
            ]
          },
          "metadata": {
            "tags": []
          },
          "execution_count": 38
        }
      ]
    },
    {
      "cell_type": "code",
      "metadata": {
        "id": "lfVznI71Tylt",
        "colab_type": "code",
        "colab": {}
      },
      "source": [
        "# Select the relevant columns\n",
        "df_rel = days_rent1[['price','neighbourhood_cleansed','property_type', 'room_type',\n",
        "       'accommodates', 'bathrooms', 'bedrooms', 'beds', 'bed_type','revenue']]\n",
        "                                                               "
      ],
      "execution_count": 0,
      "outputs": []
    },
    {
      "cell_type": "code",
      "metadata": {
        "id": "QhIB8jnKW7Jl",
        "colab_type": "code",
        "outputId": "5423ab22-0d0b-4e80-c8ca-6d8035d9c79b",
        "colab": {
          "base_uri": "https://localhost:8080/",
          "height": 204
        }
      },
      "source": [
        "# Check the data type of each field\n",
        "df_rel.dtypes"
      ],
      "execution_count": 0,
      "outputs": [
        {
          "output_type": "execute_result",
          "data": {
            "text/plain": [
              "price                     float64\n",
              "neighbourhood_cleansed     object\n",
              "property_type              object\n",
              "room_type                  object\n",
              "accommodates                int64\n",
              "bathrooms                 float64\n",
              "bedrooms                    int64\n",
              "beds                      float64\n",
              "bed_type                   object\n",
              "days_rent                 float64\n",
              "dtype: object"
            ]
          },
          "metadata": {
            "tags": []
          },
          "execution_count": 81
        }
      ]
    },
    {
      "cell_type": "code",
      "metadata": {
        "id": "S0yUxk6mTq-a",
        "colab_type": "code",
        "colab": {}
      },
      "source": [
        "# object type need to be encoded\n",
        "encode = ['neighbourhood_cleansed','property_type', 'room_type', 'bed_type']"
      ],
      "execution_count": 0,
      "outputs": []
    },
    {
      "cell_type": "code",
      "metadata": {
        "id": "ez4T4WyOUlSA",
        "colab_type": "code",
        "outputId": "4c1cc660-3aaa-4174-81fe-827a5eef7b07",
        "colab": {
          "base_uri": "https://localhost:8080/",
          "height": 270
        }
      },
      "source": [
        "# one hot encoding\n",
        "df_rel = pd.get_dummies(data = df_rel, columns = encode, drop_first=False)\n",
        "df_rel.head()"
      ],
      "execution_count": 0,
      "outputs": [
        {
          "output_type": "execute_result",
          "data": {
            "text/html": [
              "<div>\n",
              "<style scoped>\n",
              "    .dataframe tbody tr th:only-of-type {\n",
              "        vertical-align: middle;\n",
              "    }\n",
              "\n",
              "    .dataframe tbody tr th {\n",
              "        vertical-align: top;\n",
              "    }\n",
              "\n",
              "    .dataframe thead th {\n",
              "        text-align: right;\n",
              "    }\n",
              "</style>\n",
              "<table border=\"1\" class=\"dataframe\">\n",
              "  <thead>\n",
              "    <tr style=\"text-align: right;\">\n",
              "      <th></th>\n",
              "      <th>price</th>\n",
              "      <th>accommodates</th>\n",
              "      <th>bathrooms</th>\n",
              "      <th>bedrooms</th>\n",
              "      <th>beds</th>\n",
              "      <th>revenue</th>\n",
              "      <th>neighbourhood_cleansed_Ang Mo Kio</th>\n",
              "      <th>neighbourhood_cleansed_Bedok</th>\n",
              "      <th>neighbourhood_cleansed_Bishan</th>\n",
              "      <th>neighbourhood_cleansed_Boon Lay</th>\n",
              "      <th>neighbourhood_cleansed_Bukit Batok</th>\n",
              "      <th>neighbourhood_cleansed_Bukit Merah</th>\n",
              "      <th>neighbourhood_cleansed_Bukit Panjang</th>\n",
              "      <th>neighbourhood_cleansed_Bukit Timah</th>\n",
              "      <th>neighbourhood_cleansed_Central Water Catchment</th>\n",
              "      <th>neighbourhood_cleansed_Choa Chu Kang</th>\n",
              "      <th>neighbourhood_cleansed_Clementi</th>\n",
              "      <th>neighbourhood_cleansed_Downtown Core</th>\n",
              "      <th>neighbourhood_cleansed_Geylang</th>\n",
              "      <th>neighbourhood_cleansed_Hougang</th>\n",
              "      <th>neighbourhood_cleansed_Jurong East</th>\n",
              "      <th>neighbourhood_cleansed_Jurong West</th>\n",
              "      <th>neighbourhood_cleansed_Kallang</th>\n",
              "      <th>neighbourhood_cleansed_Lim Chu Kang</th>\n",
              "      <th>neighbourhood_cleansed_Mandai</th>\n",
              "      <th>neighbourhood_cleansed_Marina South</th>\n",
              "      <th>neighbourhood_cleansed_Marine Parade</th>\n",
              "      <th>neighbourhood_cleansed_Museum</th>\n",
              "      <th>neighbourhood_cleansed_Newton</th>\n",
              "      <th>neighbourhood_cleansed_Novena</th>\n",
              "      <th>neighbourhood_cleansed_Orchard</th>\n",
              "      <th>neighbourhood_cleansed_Outram</th>\n",
              "      <th>neighbourhood_cleansed_Pasir Ris</th>\n",
              "      <th>neighbourhood_cleansed_Paya Lebar</th>\n",
              "      <th>neighbourhood_cleansed_Punggol</th>\n",
              "      <th>neighbourhood_cleansed_Queenstown</th>\n",
              "      <th>neighbourhood_cleansed_River Valley</th>\n",
              "      <th>neighbourhood_cleansed_Rochor</th>\n",
              "      <th>neighbourhood_cleansed_Sembawang</th>\n",
              "      <th>neighbourhood_cleansed_Sengkang</th>\n",
              "      <th>...</th>\n",
              "      <th>neighbourhood_cleansed_Southern Islands</th>\n",
              "      <th>neighbourhood_cleansed_Sungei Kadut</th>\n",
              "      <th>neighbourhood_cleansed_Tampines</th>\n",
              "      <th>neighbourhood_cleansed_Tanglin</th>\n",
              "      <th>neighbourhood_cleansed_Toa Payoh</th>\n",
              "      <th>neighbourhood_cleansed_Tuas</th>\n",
              "      <th>neighbourhood_cleansed_Western Water Catchment</th>\n",
              "      <th>neighbourhood_cleansed_Woodlands</th>\n",
              "      <th>neighbourhood_cleansed_Yishun</th>\n",
              "      <th>property_type_Aparthotel</th>\n",
              "      <th>property_type_Apartment</th>\n",
              "      <th>property_type_Bed and breakfast</th>\n",
              "      <th>property_type_Boat</th>\n",
              "      <th>property_type_Boutique hotel</th>\n",
              "      <th>property_type_Bungalow</th>\n",
              "      <th>property_type_Cabin</th>\n",
              "      <th>property_type_Campsite</th>\n",
              "      <th>property_type_Chalet</th>\n",
              "      <th>property_type_Condominium</th>\n",
              "      <th>property_type_Cottage</th>\n",
              "      <th>property_type_Farm stay</th>\n",
              "      <th>property_type_Guest suite</th>\n",
              "      <th>property_type_Guesthouse</th>\n",
              "      <th>property_type_Hostel</th>\n",
              "      <th>property_type_Hotel</th>\n",
              "      <th>property_type_House</th>\n",
              "      <th>property_type_Loft</th>\n",
              "      <th>property_type_Other</th>\n",
              "      <th>property_type_Serviced apartment</th>\n",
              "      <th>property_type_Tent</th>\n",
              "      <th>property_type_Townhouse</th>\n",
              "      <th>property_type_Villa</th>\n",
              "      <th>room_type_Entire home/apt</th>\n",
              "      <th>room_type_Private room</th>\n",
              "      <th>room_type_Shared room</th>\n",
              "      <th>bed_type_Airbed</th>\n",
              "      <th>bed_type_Couch</th>\n",
              "      <th>bed_type_Futon</th>\n",
              "      <th>bed_type_Pull-out Sofa</th>\n",
              "      <th>bed_type_Real Bed</th>\n",
              "    </tr>\n",
              "  </thead>\n",
              "  <tbody>\n",
              "    <tr>\n",
              "      <th>0</th>\n",
              "      <td>81.0</td>\n",
              "      <td>1</td>\n",
              "      <td>1.0</td>\n",
              "      <td>1</td>\n",
              "      <td>1.0</td>\n",
              "      <td>0.0</td>\n",
              "      <td>0</td>\n",
              "      <td>0</td>\n",
              "      <td>0</td>\n",
              "      <td>0</td>\n",
              "      <td>0</td>\n",
              "      <td>0</td>\n",
              "      <td>0</td>\n",
              "      <td>0</td>\n",
              "      <td>0</td>\n",
              "      <td>0</td>\n",
              "      <td>0</td>\n",
              "      <td>0</td>\n",
              "      <td>0</td>\n",
              "      <td>0</td>\n",
              "      <td>0</td>\n",
              "      <td>0</td>\n",
              "      <td>0</td>\n",
              "      <td>0</td>\n",
              "      <td>0</td>\n",
              "      <td>0</td>\n",
              "      <td>0</td>\n",
              "      <td>0</td>\n",
              "      <td>0</td>\n",
              "      <td>0</td>\n",
              "      <td>0</td>\n",
              "      <td>0</td>\n",
              "      <td>0</td>\n",
              "      <td>0</td>\n",
              "      <td>0</td>\n",
              "      <td>0</td>\n",
              "      <td>0</td>\n",
              "      <td>0</td>\n",
              "      <td>0</td>\n",
              "      <td>0</td>\n",
              "      <td>...</td>\n",
              "      <td>0</td>\n",
              "      <td>0</td>\n",
              "      <td>0</td>\n",
              "      <td>0</td>\n",
              "      <td>0</td>\n",
              "      <td>0</td>\n",
              "      <td>0</td>\n",
              "      <td>1</td>\n",
              "      <td>0</td>\n",
              "      <td>0</td>\n",
              "      <td>1</td>\n",
              "      <td>0</td>\n",
              "      <td>0</td>\n",
              "      <td>0</td>\n",
              "      <td>0</td>\n",
              "      <td>0</td>\n",
              "      <td>0</td>\n",
              "      <td>0</td>\n",
              "      <td>0</td>\n",
              "      <td>0</td>\n",
              "      <td>0</td>\n",
              "      <td>0</td>\n",
              "      <td>0</td>\n",
              "      <td>0</td>\n",
              "      <td>0</td>\n",
              "      <td>0</td>\n",
              "      <td>0</td>\n",
              "      <td>0</td>\n",
              "      <td>0</td>\n",
              "      <td>0</td>\n",
              "      <td>0</td>\n",
              "      <td>0</td>\n",
              "      <td>0</td>\n",
              "      <td>1</td>\n",
              "      <td>0</td>\n",
              "      <td>0</td>\n",
              "      <td>0</td>\n",
              "      <td>0</td>\n",
              "      <td>0</td>\n",
              "      <td>1</td>\n",
              "    </tr>\n",
              "    <tr>\n",
              "      <th>1</th>\n",
              "      <td>80.0</td>\n",
              "      <td>2</td>\n",
              "      <td>1.0</td>\n",
              "      <td>1</td>\n",
              "      <td>1.0</td>\n",
              "      <td>0.0</td>\n",
              "      <td>0</td>\n",
              "      <td>0</td>\n",
              "      <td>0</td>\n",
              "      <td>0</td>\n",
              "      <td>0</td>\n",
              "      <td>0</td>\n",
              "      <td>0</td>\n",
              "      <td>1</td>\n",
              "      <td>0</td>\n",
              "      <td>0</td>\n",
              "      <td>0</td>\n",
              "      <td>0</td>\n",
              "      <td>0</td>\n",
              "      <td>0</td>\n",
              "      <td>0</td>\n",
              "      <td>0</td>\n",
              "      <td>0</td>\n",
              "      <td>0</td>\n",
              "      <td>0</td>\n",
              "      <td>0</td>\n",
              "      <td>0</td>\n",
              "      <td>0</td>\n",
              "      <td>0</td>\n",
              "      <td>0</td>\n",
              "      <td>0</td>\n",
              "      <td>0</td>\n",
              "      <td>0</td>\n",
              "      <td>0</td>\n",
              "      <td>0</td>\n",
              "      <td>0</td>\n",
              "      <td>0</td>\n",
              "      <td>0</td>\n",
              "      <td>0</td>\n",
              "      <td>0</td>\n",
              "      <td>...</td>\n",
              "      <td>0</td>\n",
              "      <td>0</td>\n",
              "      <td>0</td>\n",
              "      <td>0</td>\n",
              "      <td>0</td>\n",
              "      <td>0</td>\n",
              "      <td>0</td>\n",
              "      <td>0</td>\n",
              "      <td>0</td>\n",
              "      <td>0</td>\n",
              "      <td>1</td>\n",
              "      <td>0</td>\n",
              "      <td>0</td>\n",
              "      <td>0</td>\n",
              "      <td>0</td>\n",
              "      <td>0</td>\n",
              "      <td>0</td>\n",
              "      <td>0</td>\n",
              "      <td>0</td>\n",
              "      <td>0</td>\n",
              "      <td>0</td>\n",
              "      <td>0</td>\n",
              "      <td>0</td>\n",
              "      <td>0</td>\n",
              "      <td>0</td>\n",
              "      <td>0</td>\n",
              "      <td>0</td>\n",
              "      <td>0</td>\n",
              "      <td>0</td>\n",
              "      <td>0</td>\n",
              "      <td>0</td>\n",
              "      <td>0</td>\n",
              "      <td>0</td>\n",
              "      <td>1</td>\n",
              "      <td>0</td>\n",
              "      <td>0</td>\n",
              "      <td>0</td>\n",
              "      <td>0</td>\n",
              "      <td>0</td>\n",
              "      <td>1</td>\n",
              "    </tr>\n",
              "    <tr>\n",
              "      <th>2</th>\n",
              "      <td>68.0</td>\n",
              "      <td>1</td>\n",
              "      <td>1.0</td>\n",
              "      <td>1</td>\n",
              "      <td>1.0</td>\n",
              "      <td>0.0</td>\n",
              "      <td>0</td>\n",
              "      <td>0</td>\n",
              "      <td>0</td>\n",
              "      <td>0</td>\n",
              "      <td>0</td>\n",
              "      <td>0</td>\n",
              "      <td>0</td>\n",
              "      <td>0</td>\n",
              "      <td>0</td>\n",
              "      <td>0</td>\n",
              "      <td>0</td>\n",
              "      <td>0</td>\n",
              "      <td>0</td>\n",
              "      <td>0</td>\n",
              "      <td>0</td>\n",
              "      <td>0</td>\n",
              "      <td>0</td>\n",
              "      <td>0</td>\n",
              "      <td>0</td>\n",
              "      <td>0</td>\n",
              "      <td>0</td>\n",
              "      <td>0</td>\n",
              "      <td>0</td>\n",
              "      <td>0</td>\n",
              "      <td>0</td>\n",
              "      <td>0</td>\n",
              "      <td>0</td>\n",
              "      <td>0</td>\n",
              "      <td>0</td>\n",
              "      <td>0</td>\n",
              "      <td>0</td>\n",
              "      <td>0</td>\n",
              "      <td>0</td>\n",
              "      <td>0</td>\n",
              "      <td>...</td>\n",
              "      <td>0</td>\n",
              "      <td>0</td>\n",
              "      <td>0</td>\n",
              "      <td>0</td>\n",
              "      <td>0</td>\n",
              "      <td>0</td>\n",
              "      <td>0</td>\n",
              "      <td>1</td>\n",
              "      <td>0</td>\n",
              "      <td>0</td>\n",
              "      <td>1</td>\n",
              "      <td>0</td>\n",
              "      <td>0</td>\n",
              "      <td>0</td>\n",
              "      <td>0</td>\n",
              "      <td>0</td>\n",
              "      <td>0</td>\n",
              "      <td>0</td>\n",
              "      <td>0</td>\n",
              "      <td>0</td>\n",
              "      <td>0</td>\n",
              "      <td>0</td>\n",
              "      <td>0</td>\n",
              "      <td>0</td>\n",
              "      <td>0</td>\n",
              "      <td>0</td>\n",
              "      <td>0</td>\n",
              "      <td>0</td>\n",
              "      <td>0</td>\n",
              "      <td>0</td>\n",
              "      <td>0</td>\n",
              "      <td>0</td>\n",
              "      <td>0</td>\n",
              "      <td>1</td>\n",
              "      <td>0</td>\n",
              "      <td>0</td>\n",
              "      <td>0</td>\n",
              "      <td>0</td>\n",
              "      <td>0</td>\n",
              "      <td>1</td>\n",
              "    </tr>\n",
              "    <tr>\n",
              "      <th>3</th>\n",
              "      <td>200.0</td>\n",
              "      <td>6</td>\n",
              "      <td>1.0</td>\n",
              "      <td>2</td>\n",
              "      <td>3.0</td>\n",
              "      <td>2400.0</td>\n",
              "      <td>0</td>\n",
              "      <td>0</td>\n",
              "      <td>0</td>\n",
              "      <td>0</td>\n",
              "      <td>0</td>\n",
              "      <td>0</td>\n",
              "      <td>0</td>\n",
              "      <td>0</td>\n",
              "      <td>0</td>\n",
              "      <td>0</td>\n",
              "      <td>0</td>\n",
              "      <td>0</td>\n",
              "      <td>0</td>\n",
              "      <td>0</td>\n",
              "      <td>0</td>\n",
              "      <td>0</td>\n",
              "      <td>0</td>\n",
              "      <td>0</td>\n",
              "      <td>0</td>\n",
              "      <td>0</td>\n",
              "      <td>0</td>\n",
              "      <td>0</td>\n",
              "      <td>0</td>\n",
              "      <td>0</td>\n",
              "      <td>0</td>\n",
              "      <td>0</td>\n",
              "      <td>0</td>\n",
              "      <td>0</td>\n",
              "      <td>0</td>\n",
              "      <td>0</td>\n",
              "      <td>0</td>\n",
              "      <td>0</td>\n",
              "      <td>0</td>\n",
              "      <td>0</td>\n",
              "      <td>...</td>\n",
              "      <td>0</td>\n",
              "      <td>0</td>\n",
              "      <td>1</td>\n",
              "      <td>0</td>\n",
              "      <td>0</td>\n",
              "      <td>0</td>\n",
              "      <td>0</td>\n",
              "      <td>0</td>\n",
              "      <td>0</td>\n",
              "      <td>0</td>\n",
              "      <td>0</td>\n",
              "      <td>0</td>\n",
              "      <td>0</td>\n",
              "      <td>0</td>\n",
              "      <td>0</td>\n",
              "      <td>0</td>\n",
              "      <td>0</td>\n",
              "      <td>0</td>\n",
              "      <td>0</td>\n",
              "      <td>0</td>\n",
              "      <td>0</td>\n",
              "      <td>0</td>\n",
              "      <td>0</td>\n",
              "      <td>0</td>\n",
              "      <td>0</td>\n",
              "      <td>0</td>\n",
              "      <td>0</td>\n",
              "      <td>0</td>\n",
              "      <td>0</td>\n",
              "      <td>0</td>\n",
              "      <td>0</td>\n",
              "      <td>1</td>\n",
              "      <td>0</td>\n",
              "      <td>1</td>\n",
              "      <td>0</td>\n",
              "      <td>0</td>\n",
              "      <td>0</td>\n",
              "      <td>0</td>\n",
              "      <td>0</td>\n",
              "      <td>1</td>\n",
              "    </tr>\n",
              "    <tr>\n",
              "      <th>4</th>\n",
              "      <td>92.0</td>\n",
              "      <td>3</td>\n",
              "      <td>0.5</td>\n",
              "      <td>1</td>\n",
              "      <td>1.0</td>\n",
              "      <td>1104.0</td>\n",
              "      <td>0</td>\n",
              "      <td>0</td>\n",
              "      <td>0</td>\n",
              "      <td>0</td>\n",
              "      <td>0</td>\n",
              "      <td>0</td>\n",
              "      <td>0</td>\n",
              "      <td>0</td>\n",
              "      <td>0</td>\n",
              "      <td>0</td>\n",
              "      <td>0</td>\n",
              "      <td>0</td>\n",
              "      <td>0</td>\n",
              "      <td>0</td>\n",
              "      <td>0</td>\n",
              "      <td>0</td>\n",
              "      <td>0</td>\n",
              "      <td>0</td>\n",
              "      <td>0</td>\n",
              "      <td>0</td>\n",
              "      <td>0</td>\n",
              "      <td>0</td>\n",
              "      <td>0</td>\n",
              "      <td>0</td>\n",
              "      <td>0</td>\n",
              "      <td>0</td>\n",
              "      <td>0</td>\n",
              "      <td>0</td>\n",
              "      <td>0</td>\n",
              "      <td>0</td>\n",
              "      <td>0</td>\n",
              "      <td>0</td>\n",
              "      <td>0</td>\n",
              "      <td>0</td>\n",
              "      <td>...</td>\n",
              "      <td>0</td>\n",
              "      <td>0</td>\n",
              "      <td>1</td>\n",
              "      <td>0</td>\n",
              "      <td>0</td>\n",
              "      <td>0</td>\n",
              "      <td>0</td>\n",
              "      <td>0</td>\n",
              "      <td>0</td>\n",
              "      <td>0</td>\n",
              "      <td>0</td>\n",
              "      <td>0</td>\n",
              "      <td>0</td>\n",
              "      <td>0</td>\n",
              "      <td>0</td>\n",
              "      <td>0</td>\n",
              "      <td>0</td>\n",
              "      <td>0</td>\n",
              "      <td>0</td>\n",
              "      <td>0</td>\n",
              "      <td>0</td>\n",
              "      <td>0</td>\n",
              "      <td>0</td>\n",
              "      <td>0</td>\n",
              "      <td>0</td>\n",
              "      <td>1</td>\n",
              "      <td>0</td>\n",
              "      <td>0</td>\n",
              "      <td>0</td>\n",
              "      <td>0</td>\n",
              "      <td>0</td>\n",
              "      <td>0</td>\n",
              "      <td>0</td>\n",
              "      <td>1</td>\n",
              "      <td>0</td>\n",
              "      <td>0</td>\n",
              "      <td>0</td>\n",
              "      <td>0</td>\n",
              "      <td>0</td>\n",
              "      <td>1</td>\n",
              "    </tr>\n",
              "  </tbody>\n",
              "</table>\n",
              "<p>5 rows × 82 columns</p>\n",
              "</div>"
            ],
            "text/plain": [
              "   price  accommodates  ...  bed_type_Pull-out Sofa  bed_type_Real Bed\n",
              "0   81.0             1  ...                       0                  1\n",
              "1   80.0             2  ...                       0                  1\n",
              "2   68.0             1  ...                       0                  1\n",
              "3  200.0             6  ...                       0                  1\n",
              "4   92.0             3  ...                       0                  1\n",
              "\n",
              "[5 rows x 82 columns]"
            ]
          },
          "metadata": {
            "tags": []
          },
          "execution_count": 148
        }
      ]
    },
    {
      "cell_type": "code",
      "metadata": {
        "id": "VJ0-PdMeVNGu",
        "colab_type": "code",
        "colab": {}
      },
      "source": [
        "# Split data into (x) features and (y) target\n",
        "x = df_rel.drop('price', axis=1)\n",
        "y = df_rel['price']"
      ],
      "execution_count": 0,
      "outputs": []
    },
    {
      "cell_type": "code",
      "metadata": {
        "id": "DhRzyXjO7P0w",
        "colab_type": "code",
        "colab": {}
      },
      "source": [
        "# Split data into (x) features and (y) target\n",
        "x = df_rel.drop('revenue', axis=1)\n",
        "y = df_rel['revenue']"
      ],
      "execution_count": 0,
      "outputs": []
    },
    {
      "cell_type": "code",
      "metadata": {
        "id": "f6ePI7o3Vgoy",
        "colab_type": "code",
        "colab": {}
      },
      "source": [
        "# Create the Scaler object for normalization\n",
        "scaler = preprocessing.StandardScaler()\n",
        "# Fit the data to perform standard scaling on (x)\n",
        "x_scaled = scaler.fit_transform(x)"
      ],
      "execution_count": 0,
      "outputs": []
    },
    {
      "cell_type": "code",
      "metadata": {
        "id": "cYLQEM4fWvDt",
        "colab_type": "code",
        "colab": {}
      },
      "source": [
        "# create dataframe for scaled data\n",
        "col_names = list(x.columns)\n",
        "x_scaled = pd.DataFrame(x_scaled, columns=col_names)"
      ],
      "execution_count": 0,
      "outputs": []
    },
    {
      "cell_type": "code",
      "metadata": {
        "id": "csorruMhW69a",
        "colab_type": "code",
        "outputId": "9b51fb10-7e3e-4fe8-ceba-434ef6bc2eb7",
        "colab": {
          "base_uri": "https://localhost:8080/",
          "height": 270
        }
      },
      "source": [
        "x_scaled.head()"
      ],
      "execution_count": 0,
      "outputs": [
        {
          "output_type": "execute_result",
          "data": {
            "text/html": [
              "<div>\n",
              "<style scoped>\n",
              "    .dataframe tbody tr th:only-of-type {\n",
              "        vertical-align: middle;\n",
              "    }\n",
              "\n",
              "    .dataframe tbody tr th {\n",
              "        vertical-align: top;\n",
              "    }\n",
              "\n",
              "    .dataframe thead th {\n",
              "        text-align: right;\n",
              "    }\n",
              "</style>\n",
              "<table border=\"1\" class=\"dataframe\">\n",
              "  <thead>\n",
              "    <tr style=\"text-align: right;\">\n",
              "      <th></th>\n",
              "      <th>accommodates</th>\n",
              "      <th>bathrooms</th>\n",
              "      <th>bedrooms</th>\n",
              "      <th>beds</th>\n",
              "      <th>days_rent</th>\n",
              "      <th>neighbourhood_cleansed_Ang Mo Kio</th>\n",
              "      <th>neighbourhood_cleansed_Bedok</th>\n",
              "      <th>neighbourhood_cleansed_Bishan</th>\n",
              "      <th>neighbourhood_cleansed_Boon Lay</th>\n",
              "      <th>neighbourhood_cleansed_Bukit Batok</th>\n",
              "      <th>neighbourhood_cleansed_Bukit Merah</th>\n",
              "      <th>neighbourhood_cleansed_Bukit Panjang</th>\n",
              "      <th>neighbourhood_cleansed_Bukit Timah</th>\n",
              "      <th>neighbourhood_cleansed_Central Water Catchment</th>\n",
              "      <th>neighbourhood_cleansed_Choa Chu Kang</th>\n",
              "      <th>neighbourhood_cleansed_Clementi</th>\n",
              "      <th>neighbourhood_cleansed_Downtown Core</th>\n",
              "      <th>neighbourhood_cleansed_Geylang</th>\n",
              "      <th>neighbourhood_cleansed_Hougang</th>\n",
              "      <th>neighbourhood_cleansed_Jurong East</th>\n",
              "      <th>neighbourhood_cleansed_Jurong West</th>\n",
              "      <th>neighbourhood_cleansed_Kallang</th>\n",
              "      <th>neighbourhood_cleansed_Lim Chu Kang</th>\n",
              "      <th>neighbourhood_cleansed_Mandai</th>\n",
              "      <th>neighbourhood_cleansed_Marina South</th>\n",
              "      <th>neighbourhood_cleansed_Marine Parade</th>\n",
              "      <th>neighbourhood_cleansed_Museum</th>\n",
              "      <th>neighbourhood_cleansed_Newton</th>\n",
              "      <th>neighbourhood_cleansed_Novena</th>\n",
              "      <th>neighbourhood_cleansed_Orchard</th>\n",
              "      <th>neighbourhood_cleansed_Outram</th>\n",
              "      <th>neighbourhood_cleansed_Pasir Ris</th>\n",
              "      <th>neighbourhood_cleansed_Paya Lebar</th>\n",
              "      <th>neighbourhood_cleansed_Punggol</th>\n",
              "      <th>neighbourhood_cleansed_Queenstown</th>\n",
              "      <th>neighbourhood_cleansed_River Valley</th>\n",
              "      <th>neighbourhood_cleansed_Rochor</th>\n",
              "      <th>neighbourhood_cleansed_Sembawang</th>\n",
              "      <th>neighbourhood_cleansed_Sengkang</th>\n",
              "      <th>neighbourhood_cleansed_Serangoon</th>\n",
              "      <th>...</th>\n",
              "      <th>neighbourhood_cleansed_Southern Islands</th>\n",
              "      <th>neighbourhood_cleansed_Sungei Kadut</th>\n",
              "      <th>neighbourhood_cleansed_Tampines</th>\n",
              "      <th>neighbourhood_cleansed_Tanglin</th>\n",
              "      <th>neighbourhood_cleansed_Toa Payoh</th>\n",
              "      <th>neighbourhood_cleansed_Tuas</th>\n",
              "      <th>neighbourhood_cleansed_Western Water Catchment</th>\n",
              "      <th>neighbourhood_cleansed_Woodlands</th>\n",
              "      <th>neighbourhood_cleansed_Yishun</th>\n",
              "      <th>property_type_Aparthotel</th>\n",
              "      <th>property_type_Apartment</th>\n",
              "      <th>property_type_Bed and breakfast</th>\n",
              "      <th>property_type_Boat</th>\n",
              "      <th>property_type_Boutique hotel</th>\n",
              "      <th>property_type_Bungalow</th>\n",
              "      <th>property_type_Cabin</th>\n",
              "      <th>property_type_Campsite</th>\n",
              "      <th>property_type_Chalet</th>\n",
              "      <th>property_type_Condominium</th>\n",
              "      <th>property_type_Cottage</th>\n",
              "      <th>property_type_Farm stay</th>\n",
              "      <th>property_type_Guest suite</th>\n",
              "      <th>property_type_Guesthouse</th>\n",
              "      <th>property_type_Hostel</th>\n",
              "      <th>property_type_Hotel</th>\n",
              "      <th>property_type_House</th>\n",
              "      <th>property_type_Loft</th>\n",
              "      <th>property_type_Other</th>\n",
              "      <th>property_type_Serviced apartment</th>\n",
              "      <th>property_type_Tent</th>\n",
              "      <th>property_type_Townhouse</th>\n",
              "      <th>property_type_Villa</th>\n",
              "      <th>room_type_Entire home/apt</th>\n",
              "      <th>room_type_Private room</th>\n",
              "      <th>room_type_Shared room</th>\n",
              "      <th>bed_type_Airbed</th>\n",
              "      <th>bed_type_Couch</th>\n",
              "      <th>bed_type_Futon</th>\n",
              "      <th>bed_type_Pull-out Sofa</th>\n",
              "      <th>bed_type_Real Bed</th>\n",
              "    </tr>\n",
              "  </thead>\n",
              "  <tbody>\n",
              "    <tr>\n",
              "      <th>0</th>\n",
              "      <td>-0.928504</td>\n",
              "      <td>-0.417308</td>\n",
              "      <td>-0.278515</td>\n",
              "      <td>-0.455501</td>\n",
              "      <td>-1.074139</td>\n",
              "      <td>-0.086082</td>\n",
              "      <td>-0.217928</td>\n",
              "      <td>-0.088189</td>\n",
              "      <td>-0.010982</td>\n",
              "      <td>-0.078663</td>\n",
              "      <td>-0.257584</td>\n",
              "      <td>-0.06603</td>\n",
              "      <td>-0.136642</td>\n",
              "      <td>-0.060255</td>\n",
              "      <td>-0.092264</td>\n",
              "      <td>-0.118584</td>\n",
              "      <td>-0.244834</td>\n",
              "      <td>-0.402863</td>\n",
              "      <td>-0.112144</td>\n",
              "      <td>-0.11806</td>\n",
              "      <td>-0.139813</td>\n",
              "      <td>-0.390853</td>\n",
              "      <td>-0.010982</td>\n",
              "      <td>-0.026908</td>\n",
              "      <td>-0.010982</td>\n",
              "      <td>-0.135262</td>\n",
              "      <td>-0.087492</td>\n",
              "      <td>-0.127668</td>\n",
              "      <td>-0.266259</td>\n",
              "      <td>-0.127668</td>\n",
              "      <td>-0.244834</td>\n",
              "      <td>-0.092927</td>\n",
              "      <td>-0.010982</td>\n",
              "      <td>-0.074685</td>\n",
              "      <td>-0.184499</td>\n",
              "      <td>-0.212716</td>\n",
              "      <td>-0.264697</td>\n",
              "      <td>-0.073864</td>\n",
              "      <td>-0.079435</td>\n",
              "      <td>-0.100547</td>\n",
              "      <td>...</td>\n",
              "      <td>-0.046639</td>\n",
              "      <td>-0.021967</td>\n",
              "      <td>-0.101157</td>\n",
              "      <td>-0.168517</td>\n",
              "      <td>-0.116475</td>\n",
              "      <td>-0.010982</td>\n",
              "      <td>-0.021967</td>\n",
              "      <td>10.838424</td>\n",
              "      <td>-0.073034</td>\n",
              "      <td>-0.041122</td>\n",
              "      <td>1.190412</td>\n",
              "      <td>-0.105332</td>\n",
              "      <td>-0.026908</td>\n",
              "      <td>-0.115407</td>\n",
              "      <td>-0.084649</td>\n",
              "      <td>-0.010982</td>\n",
              "      <td>-0.021967</td>\n",
              "      <td>-0.019023</td>\n",
              "      <td>-0.547393</td>\n",
              "      <td>-0.010982</td>\n",
              "      <td>-0.010982</td>\n",
              "      <td>-0.051574</td>\n",
              "      <td>-0.062238</td>\n",
              "      <td>-0.213026</td>\n",
              "      <td>-0.137099</td>\n",
              "      <td>-0.264958</td>\n",
              "      <td>-0.122192</td>\n",
              "      <td>-0.083923</td>\n",
              "      <td>-0.411717</td>\n",
              "      <td>-0.046639</td>\n",
              "      <td>-0.128155</td>\n",
              "      <td>-0.043967</td>\n",
              "      <td>-1.02875</td>\n",
              "      <td>1.146816</td>\n",
              "      <td>-0.238687</td>\n",
              "      <td>-0.021967</td>\n",
              "      <td>-0.031074</td>\n",
              "      <td>-0.036444</td>\n",
              "      <td>-0.036444</td>\n",
              "      <td>0.064162</td>\n",
              "    </tr>\n",
              "    <tr>\n",
              "      <th>1</th>\n",
              "      <td>-0.550363</td>\n",
              "      <td>-0.417308</td>\n",
              "      <td>-0.278515</td>\n",
              "      <td>-0.455501</td>\n",
              "      <td>-1.074139</td>\n",
              "      <td>-0.086082</td>\n",
              "      <td>-0.217928</td>\n",
              "      <td>-0.088189</td>\n",
              "      <td>-0.010982</td>\n",
              "      <td>-0.078663</td>\n",
              "      <td>-0.257584</td>\n",
              "      <td>-0.06603</td>\n",
              "      <td>7.318416</td>\n",
              "      <td>-0.060255</td>\n",
              "      <td>-0.092264</td>\n",
              "      <td>-0.118584</td>\n",
              "      <td>-0.244834</td>\n",
              "      <td>-0.402863</td>\n",
              "      <td>-0.112144</td>\n",
              "      <td>-0.11806</td>\n",
              "      <td>-0.139813</td>\n",
              "      <td>-0.390853</td>\n",
              "      <td>-0.010982</td>\n",
              "      <td>-0.026908</td>\n",
              "      <td>-0.010982</td>\n",
              "      <td>-0.135262</td>\n",
              "      <td>-0.087492</td>\n",
              "      <td>-0.127668</td>\n",
              "      <td>-0.266259</td>\n",
              "      <td>-0.127668</td>\n",
              "      <td>-0.244834</td>\n",
              "      <td>-0.092927</td>\n",
              "      <td>-0.010982</td>\n",
              "      <td>-0.074685</td>\n",
              "      <td>-0.184499</td>\n",
              "      <td>-0.212716</td>\n",
              "      <td>-0.264697</td>\n",
              "      <td>-0.073864</td>\n",
              "      <td>-0.079435</td>\n",
              "      <td>-0.100547</td>\n",
              "      <td>...</td>\n",
              "      <td>-0.046639</td>\n",
              "      <td>-0.021967</td>\n",
              "      <td>-0.101157</td>\n",
              "      <td>-0.168517</td>\n",
              "      <td>-0.116475</td>\n",
              "      <td>-0.010982</td>\n",
              "      <td>-0.021967</td>\n",
              "      <td>-0.092264</td>\n",
              "      <td>-0.073034</td>\n",
              "      <td>-0.041122</td>\n",
              "      <td>1.190412</td>\n",
              "      <td>-0.105332</td>\n",
              "      <td>-0.026908</td>\n",
              "      <td>-0.115407</td>\n",
              "      <td>-0.084649</td>\n",
              "      <td>-0.010982</td>\n",
              "      <td>-0.021967</td>\n",
              "      <td>-0.019023</td>\n",
              "      <td>-0.547393</td>\n",
              "      <td>-0.010982</td>\n",
              "      <td>-0.010982</td>\n",
              "      <td>-0.051574</td>\n",
              "      <td>-0.062238</td>\n",
              "      <td>-0.213026</td>\n",
              "      <td>-0.137099</td>\n",
              "      <td>-0.264958</td>\n",
              "      <td>-0.122192</td>\n",
              "      <td>-0.083923</td>\n",
              "      <td>-0.411717</td>\n",
              "      <td>-0.046639</td>\n",
              "      <td>-0.128155</td>\n",
              "      <td>-0.043967</td>\n",
              "      <td>-1.02875</td>\n",
              "      <td>1.146816</td>\n",
              "      <td>-0.238687</td>\n",
              "      <td>-0.021967</td>\n",
              "      <td>-0.031074</td>\n",
              "      <td>-0.036444</td>\n",
              "      <td>-0.036444</td>\n",
              "      <td>0.064162</td>\n",
              "    </tr>\n",
              "    <tr>\n",
              "      <th>2</th>\n",
              "      <td>-0.928504</td>\n",
              "      <td>-0.417308</td>\n",
              "      <td>-0.278515</td>\n",
              "      <td>-0.455501</td>\n",
              "      <td>-1.074139</td>\n",
              "      <td>-0.086082</td>\n",
              "      <td>-0.217928</td>\n",
              "      <td>-0.088189</td>\n",
              "      <td>-0.010982</td>\n",
              "      <td>-0.078663</td>\n",
              "      <td>-0.257584</td>\n",
              "      <td>-0.06603</td>\n",
              "      <td>-0.136642</td>\n",
              "      <td>-0.060255</td>\n",
              "      <td>-0.092264</td>\n",
              "      <td>-0.118584</td>\n",
              "      <td>-0.244834</td>\n",
              "      <td>-0.402863</td>\n",
              "      <td>-0.112144</td>\n",
              "      <td>-0.11806</td>\n",
              "      <td>-0.139813</td>\n",
              "      <td>-0.390853</td>\n",
              "      <td>-0.010982</td>\n",
              "      <td>-0.026908</td>\n",
              "      <td>-0.010982</td>\n",
              "      <td>-0.135262</td>\n",
              "      <td>-0.087492</td>\n",
              "      <td>-0.127668</td>\n",
              "      <td>-0.266259</td>\n",
              "      <td>-0.127668</td>\n",
              "      <td>-0.244834</td>\n",
              "      <td>-0.092927</td>\n",
              "      <td>-0.010982</td>\n",
              "      <td>-0.074685</td>\n",
              "      <td>-0.184499</td>\n",
              "      <td>-0.212716</td>\n",
              "      <td>-0.264697</td>\n",
              "      <td>-0.073864</td>\n",
              "      <td>-0.079435</td>\n",
              "      <td>-0.100547</td>\n",
              "      <td>...</td>\n",
              "      <td>-0.046639</td>\n",
              "      <td>-0.021967</td>\n",
              "      <td>-0.101157</td>\n",
              "      <td>-0.168517</td>\n",
              "      <td>-0.116475</td>\n",
              "      <td>-0.010982</td>\n",
              "      <td>-0.021967</td>\n",
              "      <td>10.838424</td>\n",
              "      <td>-0.073034</td>\n",
              "      <td>-0.041122</td>\n",
              "      <td>1.190412</td>\n",
              "      <td>-0.105332</td>\n",
              "      <td>-0.026908</td>\n",
              "      <td>-0.115407</td>\n",
              "      <td>-0.084649</td>\n",
              "      <td>-0.010982</td>\n",
              "      <td>-0.021967</td>\n",
              "      <td>-0.019023</td>\n",
              "      <td>-0.547393</td>\n",
              "      <td>-0.010982</td>\n",
              "      <td>-0.010982</td>\n",
              "      <td>-0.051574</td>\n",
              "      <td>-0.062238</td>\n",
              "      <td>-0.213026</td>\n",
              "      <td>-0.137099</td>\n",
              "      <td>-0.264958</td>\n",
              "      <td>-0.122192</td>\n",
              "      <td>-0.083923</td>\n",
              "      <td>-0.411717</td>\n",
              "      <td>-0.046639</td>\n",
              "      <td>-0.128155</td>\n",
              "      <td>-0.043967</td>\n",
              "      <td>-1.02875</td>\n",
              "      <td>1.146816</td>\n",
              "      <td>-0.238687</td>\n",
              "      <td>-0.021967</td>\n",
              "      <td>-0.031074</td>\n",
              "      <td>-0.036444</td>\n",
              "      <td>-0.036444</td>\n",
              "      <td>0.064162</td>\n",
              "    </tr>\n",
              "    <tr>\n",
              "      <th>3</th>\n",
              "      <td>0.962201</td>\n",
              "      <td>-0.417308</td>\n",
              "      <td>0.630110</td>\n",
              "      <td>0.423389</td>\n",
              "      <td>-0.989556</td>\n",
              "      <td>-0.086082</td>\n",
              "      <td>-0.217928</td>\n",
              "      <td>-0.088189</td>\n",
              "      <td>-0.010982</td>\n",
              "      <td>-0.078663</td>\n",
              "      <td>-0.257584</td>\n",
              "      <td>-0.06603</td>\n",
              "      <td>-0.136642</td>\n",
              "      <td>-0.060255</td>\n",
              "      <td>-0.092264</td>\n",
              "      <td>-0.118584</td>\n",
              "      <td>-0.244834</td>\n",
              "      <td>-0.402863</td>\n",
              "      <td>-0.112144</td>\n",
              "      <td>-0.11806</td>\n",
              "      <td>-0.139813</td>\n",
              "      <td>-0.390853</td>\n",
              "      <td>-0.010982</td>\n",
              "      <td>-0.026908</td>\n",
              "      <td>-0.010982</td>\n",
              "      <td>-0.135262</td>\n",
              "      <td>-0.087492</td>\n",
              "      <td>-0.127668</td>\n",
              "      <td>-0.266259</td>\n",
              "      <td>-0.127668</td>\n",
              "      <td>-0.244834</td>\n",
              "      <td>-0.092927</td>\n",
              "      <td>-0.010982</td>\n",
              "      <td>-0.074685</td>\n",
              "      <td>-0.184499</td>\n",
              "      <td>-0.212716</td>\n",
              "      <td>-0.264697</td>\n",
              "      <td>-0.073864</td>\n",
              "      <td>-0.079435</td>\n",
              "      <td>-0.100547</td>\n",
              "      <td>...</td>\n",
              "      <td>-0.046639</td>\n",
              "      <td>-0.021967</td>\n",
              "      <td>9.885656</td>\n",
              "      <td>-0.168517</td>\n",
              "      <td>-0.116475</td>\n",
              "      <td>-0.010982</td>\n",
              "      <td>-0.021967</td>\n",
              "      <td>-0.092264</td>\n",
              "      <td>-0.073034</td>\n",
              "      <td>-0.041122</td>\n",
              "      <td>-0.840046</td>\n",
              "      <td>-0.105332</td>\n",
              "      <td>-0.026908</td>\n",
              "      <td>-0.115407</td>\n",
              "      <td>-0.084649</td>\n",
              "      <td>-0.010982</td>\n",
              "      <td>-0.021967</td>\n",
              "      <td>-0.019023</td>\n",
              "      <td>-0.547393</td>\n",
              "      <td>-0.010982</td>\n",
              "      <td>-0.010982</td>\n",
              "      <td>-0.051574</td>\n",
              "      <td>-0.062238</td>\n",
              "      <td>-0.213026</td>\n",
              "      <td>-0.137099</td>\n",
              "      <td>-0.264958</td>\n",
              "      <td>-0.122192</td>\n",
              "      <td>-0.083923</td>\n",
              "      <td>-0.411717</td>\n",
              "      <td>-0.046639</td>\n",
              "      <td>-0.128155</td>\n",
              "      <td>22.744505</td>\n",
              "      <td>-1.02875</td>\n",
              "      <td>1.146816</td>\n",
              "      <td>-0.238687</td>\n",
              "      <td>-0.021967</td>\n",
              "      <td>-0.031074</td>\n",
              "      <td>-0.036444</td>\n",
              "      <td>-0.036444</td>\n",
              "      <td>0.064162</td>\n",
              "    </tr>\n",
              "    <tr>\n",
              "      <th>4</th>\n",
              "      <td>-0.172222</td>\n",
              "      <td>-0.805239</td>\n",
              "      <td>-0.278515</td>\n",
              "      <td>-0.455501</td>\n",
              "      <td>-0.989556</td>\n",
              "      <td>-0.086082</td>\n",
              "      <td>-0.217928</td>\n",
              "      <td>-0.088189</td>\n",
              "      <td>-0.010982</td>\n",
              "      <td>-0.078663</td>\n",
              "      <td>-0.257584</td>\n",
              "      <td>-0.06603</td>\n",
              "      <td>-0.136642</td>\n",
              "      <td>-0.060255</td>\n",
              "      <td>-0.092264</td>\n",
              "      <td>-0.118584</td>\n",
              "      <td>-0.244834</td>\n",
              "      <td>-0.402863</td>\n",
              "      <td>-0.112144</td>\n",
              "      <td>-0.11806</td>\n",
              "      <td>-0.139813</td>\n",
              "      <td>-0.390853</td>\n",
              "      <td>-0.010982</td>\n",
              "      <td>-0.026908</td>\n",
              "      <td>-0.010982</td>\n",
              "      <td>-0.135262</td>\n",
              "      <td>-0.087492</td>\n",
              "      <td>-0.127668</td>\n",
              "      <td>-0.266259</td>\n",
              "      <td>-0.127668</td>\n",
              "      <td>-0.244834</td>\n",
              "      <td>-0.092927</td>\n",
              "      <td>-0.010982</td>\n",
              "      <td>-0.074685</td>\n",
              "      <td>-0.184499</td>\n",
              "      <td>-0.212716</td>\n",
              "      <td>-0.264697</td>\n",
              "      <td>-0.073864</td>\n",
              "      <td>-0.079435</td>\n",
              "      <td>-0.100547</td>\n",
              "      <td>...</td>\n",
              "      <td>-0.046639</td>\n",
              "      <td>-0.021967</td>\n",
              "      <td>9.885656</td>\n",
              "      <td>-0.168517</td>\n",
              "      <td>-0.116475</td>\n",
              "      <td>-0.010982</td>\n",
              "      <td>-0.021967</td>\n",
              "      <td>-0.092264</td>\n",
              "      <td>-0.073034</td>\n",
              "      <td>-0.041122</td>\n",
              "      <td>-0.840046</td>\n",
              "      <td>-0.105332</td>\n",
              "      <td>-0.026908</td>\n",
              "      <td>-0.115407</td>\n",
              "      <td>-0.084649</td>\n",
              "      <td>-0.010982</td>\n",
              "      <td>-0.021967</td>\n",
              "      <td>-0.019023</td>\n",
              "      <td>-0.547393</td>\n",
              "      <td>-0.010982</td>\n",
              "      <td>-0.010982</td>\n",
              "      <td>-0.051574</td>\n",
              "      <td>-0.062238</td>\n",
              "      <td>-0.213026</td>\n",
              "      <td>-0.137099</td>\n",
              "      <td>3.774187</td>\n",
              "      <td>-0.122192</td>\n",
              "      <td>-0.083923</td>\n",
              "      <td>-0.411717</td>\n",
              "      <td>-0.046639</td>\n",
              "      <td>-0.128155</td>\n",
              "      <td>-0.043967</td>\n",
              "      <td>-1.02875</td>\n",
              "      <td>1.146816</td>\n",
              "      <td>-0.238687</td>\n",
              "      <td>-0.021967</td>\n",
              "      <td>-0.031074</td>\n",
              "      <td>-0.036444</td>\n",
              "      <td>-0.036444</td>\n",
              "      <td>0.064162</td>\n",
              "    </tr>\n",
              "  </tbody>\n",
              "</table>\n",
              "<p>5 rows × 81 columns</p>\n",
              "</div>"
            ],
            "text/plain": [
              "   accommodates  bathrooms  ...  bed_type_Pull-out Sofa  bed_type_Real Bed\n",
              "0     -0.928504  -0.417308  ...               -0.036444           0.064162\n",
              "1     -0.550363  -0.417308  ...               -0.036444           0.064162\n",
              "2     -0.928504  -0.417308  ...               -0.036444           0.064162\n",
              "3      0.962201  -0.417308  ...               -0.036444           0.064162\n",
              "4     -0.172222  -0.805239  ...               -0.036444           0.064162\n",
              "\n",
              "[5 rows x 81 columns]"
            ]
          },
          "metadata": {
            "tags": []
          },
          "execution_count": 87
        }
      ]
    },
    {
      "cell_type": "code",
      "metadata": {
        "id": "h078d6FUXW6C",
        "colab_type": "code",
        "colab": {}
      },
      "source": [
        "# after normalized the data then split into training and test sets\n",
        "X_train, X_test, y_train, y_test = train_test_split(x_scaled, y, test_size = 0.8, random_state=41)"
      ],
      "execution_count": 0,
      "outputs": []
    },
    {
      "cell_type": "code",
      "metadata": {
        "id": "lN5CBky0YWOv",
        "colab_type": "code",
        "colab": {}
      },
      "source": [
        "# Create a function to establish a training and testing pipeline \n",
        "\n",
        "def train_predict(learner, sample_size,X_train, y_train, X_test, y_test):\n",
        "    '''\n",
        "    inputs:\n",
        "       - learner: the learning algorithm to be trained and predicted\n",
        "       - sample_size: the size of samples\n",
        "       - X_train: features training set\n",
        "       - y_train: target training set\n",
        "       - X_test: features testing set\n",
        "       - y_test: target testing set\n",
        "    '''\n",
        "    result={}\n",
        "    # Fit the learner to training data\n",
        "    learner = learner.fit(X_train[:sample_size], y_train[:sample_size])\n",
        "    \n",
        "    # Get predictions in the first 300 training set and test set\n",
        "    predictions_train = learner.predict(X_train[:300])\n",
        "    predictions_test = learner.predict(X_test)\n",
        "   \n",
        "    # Compute accuracy in first 200 training set and test set\n",
        "    result['mse_train'] = mean_squared_error(y_train[:300], predictions_train)\n",
        "    result['mse_test'] = mean_squared_error(y_test, predictions_test)\n",
        "\n",
        "    print(\"{} trained on {} samples.\".format(learner.__class__.__name__, sample_size))\n",
        "    print('-'*90)\n",
        "    print(\"MSE_train: %.4f\" % result['mse_train'])\n",
        "    print(\"MSE_test: %.4f\" % result['mse_test'])\n",
        "    print(\"Training score:%.4f\" % learner.score(X_train,y_train))\n",
        "    print(\"Test score:%.4f\" % learner.score(X_test,y_test))\n",
        "    print(' '*90)\n",
        "    print(' '*90)\n",
        "\n",
        "    return results"
      ],
      "execution_count": 0,
      "outputs": []
    },
    {
      "cell_type": "code",
      "metadata": {
        "id": "sKB8nIemfQhE",
        "colab_type": "code",
        "outputId": "b8bd005c-6015-4ce8-d164-7b3033079f0f",
        "colab": {
          "base_uri": "https://localhost:8080/",
          "height": 1000
        }
      },
      "source": [
        "#Initialize the models\n",
        "clf1 = LinearRegression()\n",
        "clf2 = DecisionTreeRegressor(max_depth=10,min_samples_leaf=10,min_samples_split=10,max_leaf_nodes=8,random_state=71)\n",
        "clf3 = Lasso()\n",
        "clf4 = RidgeCV()\n",
        "clf5 = RandomForestClassifier()\n",
        "\n",
        "# Calculate the number of samples for 1% and 100% of the training data\n",
        "samples_100 = len(y_train)\n",
        "samples_1 = int(0.01*len(y_train))\n",
        "\n",
        "# Collect results on the learners\n",
        "results = {}\n",
        "for clf in [clf1, clf2, clf3, clf4, clf5]:\n",
        "    clf_name = clf.__class__.__name__\n",
        "    results[clf_name] = {}\n",
        "    for i, samples in enumerate([samples_1, samples_100]):\n",
        "        results[clf_name][i] = \\\n",
        "        train_predict(clf, samples, X_train, y_train, X_test, y_test)"
      ],
      "execution_count": 0,
      "outputs": [
        {
          "output_type": "stream",
          "text": [
            "LinearRegression trained on 16 samples.\n",
            "------------------------------------------------------------------------------------------\n",
            "MSE_train: 31543090597.8265\n",
            "MSE_test: 27016107520.0030\n",
            "Training score:-2.5225\n",
            "Test score:-2.2837\n",
            "                                                                                          \n",
            "                                                                                          \n",
            "LinearRegression trained on 1658 samples.\n",
            "------------------------------------------------------------------------------------------\n",
            "MSE_train: 7163204069.5767\n",
            "MSE_test: 160216630224501206426537380336893952.0000\n",
            "Training score:0.4874\n",
            "Test score:-19473795769778093112164352.0000\n",
            "                                                                                          \n",
            "                                                                                          \n",
            "DecisionTreeRegressor trained on 16 samples.\n",
            "------------------------------------------------------------------------------------------\n",
            "MSE_train: 4621424502.6518\n",
            "MSE_test: 8366286789.4751\n",
            "Training score:-0.0157\n",
            "Test score:-0.0169\n",
            "                                                                                          \n",
            "                                                                                          \n",
            "DecisionTreeRegressor trained on 1658 samples.\n",
            "------------------------------------------------------------------------------------------\n",
            "MSE_train: 3772425200.0556\n",
            "MSE_test: 5249583241.6800\n",
            "Training score:0.2392\n",
            "Test score:0.3619\n",
            "                                                                                          \n",
            "                                                                                          \n",
            "Lasso trained on 16 samples.\n",
            "------------------------------------------------------------------------------------------\n",
            "MSE_train: 30668089358.7469\n",
            "MSE_test: 26639723827.1620\n",
            "Training score:-2.4519\n",
            "Test score:-2.2380\n",
            "                                                                                          \n",
            "                                                                                          \n"
          ],
          "name": "stdout"
        },
        {
          "output_type": "stream",
          "text": [
            "/usr/local/lib/python3.6/dist-packages/sklearn/linear_model/coordinate_descent.py:475: ConvergenceWarning: Objective did not converge. You might want to increase the number of iterations. Duality gap: 1310590.540329361, tolerance: 392597.53989375004\n",
            "  positive)\n",
            "/usr/local/lib/python3.6/dist-packages/sklearn/linear_model/coordinate_descent.py:475: ConvergenceWarning: Objective did not converge. You might want to increase the number of iterations. Duality gap: 125099010815.21387, tolerance: 1652513176.5377011\n",
            "  positive)\n"
          ],
          "name": "stderr"
        },
        {
          "output_type": "stream",
          "text": [
            "Lasso trained on 1658 samples.\n",
            "------------------------------------------------------------------------------------------\n",
            "MSE_train: 7163566061.2640\n",
            "MSE_test: 3981345648.4458\n",
            "Training score:0.4875\n",
            "Test score:0.5161\n",
            "                                                                                          \n",
            "                                                                                          \n",
            "RidgeCV trained on 16 samples.\n",
            "------------------------------------------------------------------------------------------\n",
            "MSE_train: 4602128145.1532\n",
            "MSE_test: 8402439173.6739\n",
            "Training score:-0.0181\n",
            "Test score:-0.0213\n",
            "                                                                                          \n",
            "                                                                                          \n",
            "RidgeCV trained on 1658 samples.\n",
            "------------------------------------------------------------------------------------------\n",
            "MSE_train: 7127576175.8253\n",
            "MSE_test: 3986000277.1535\n",
            "Training score:0.4875\n",
            "Test score:0.5155\n",
            "                                                                                          \n",
            "                                                                                          \n",
            "RandomForestClassifier trained on 16 samples.\n",
            "------------------------------------------------------------------------------------------\n",
            "MSE_train: 4906033261.1000\n",
            "MSE_test: 8686556932.0711\n",
            "Training score:0.0440\n",
            "Test score:0.0240\n",
            "                                                                                          \n",
            "                                                                                          \n"
          ],
          "name": "stdout"
        },
        {
          "output_type": "stream",
          "text": [
            "/usr/local/lib/python3.6/dist-packages/sklearn/ensemble/forest.py:245: FutureWarning: The default value of n_estimators will change from 10 in version 0.20 to 100 in 0.22.\n",
            "  \"10 in version 0.20 to 100 in 0.22.\", FutureWarning)\n"
          ],
          "name": "stderr"
        },
        {
          "output_type": "stream",
          "text": [
            "RandomForestClassifier trained on 1658 samples.\n",
            "------------------------------------------------------------------------------------------\n",
            "MSE_train: 56138754.5933\n",
            "MSE_test: 8352260603.4261\n",
            "Training score:0.9119\n",
            "Test score:0.0815\n",
            "                                                                                          \n",
            "                                                                                          \n"
          ],
          "name": "stdout"
        }
      ]
    },
    {
      "cell_type": "code",
      "metadata": {
        "id": "x4ofm7Icl9B5",
        "colab_type": "code",
        "colab": {}
      },
      "source": [
        "# Extract the feature importance from the decision tree regressor model\n",
        "feature_importances = pd.DataFrame(clf3.feature_importances_,\n",
        "                                   index = X_train.columns,\n",
        "                                    columns=['coefficient']).sort_values('coefficient', ascending=False)\n",
        "\n",
        "# The features ranked in order of importance per the decision tree regressor can be found below.\n",
        "feature_importances.sort_values(by= 'coefficient', ascending=False)\n",
        "\n",
        "# Admittedly the models can be improved, though this provides us with a good starting point to provide preliminary recommendations to buyers and owners."
      ],
      "execution_count": 0,
      "outputs": []
    },
    {
      "cell_type": "code",
      "metadata": {
        "id": "uyMuFQgNj3jT",
        "colab_type": "code",
        "outputId": "f43e1372-fcfd-41eb-d516-1dd2008cb960",
        "colab": {
          "base_uri": "https://localhost:8080/",
          "height": 305
        }
      },
      "source": [
        "plt.plot(clf3.coef_,alpha=0.7,linestyle='none',marker='*',markersize=5,color='red',label=r'Lasso; $\\alpha = 1$',zorder=7) # alpha here is for transparency\n",
        "\n",
        "plt.xlabel('Coefficient Index',fontsize=16)\n",
        "plt.ylabel('Coefficient Magnitude',fontsize=16)\n",
        "plt.legend(fontsize=13,loc=4)"
      ],
      "execution_count": 0,
      "outputs": [
        {
          "output_type": "execute_result",
          "data": {
            "text/plain": [
              "<matplotlib.legend.Legend at 0x7fda35d455f8>"
            ]
          },
          "metadata": {
            "tags": []
          },
          "execution_count": 159
        },
        {
          "output_type": "display_data",
          "data": {
            "image/png": "[encoded data removed]",
            "text/plain": [
              "<Figure size 432x288 with 1 Axes>"
            ]
          },
          "metadata": {
            "tags": []
          }
        }
      ]
    },
    {
      "cell_type": "code",
      "metadata": {
        "id": "-H-E_dCNz7oT",
        "colab_type": "code",
        "colab": {}
      },
      "source": [
        "coefficient = clf3.coef_"
      ],
      "execution_count": 0,
      "outputs": []
    },
    {
      "cell_type": "code",
      "metadata": {
        "id": "RD12_NmH0NL-",
        "colab_type": "code",
        "outputId": "c974264a-1bb4-441b-e6fb-b759b5eb56de",
        "colab": {
          "base_uri": "https://localhost:8080/",
          "height": 34
        }
      },
      "source": [
        "coefficient.shape"
      ],
      "execution_count": 0,
      "outputs": [
        {
          "output_type": "execute_result",
          "data": {
            "text/plain": [
              "(81,)"
            ]
          },
          "metadata": {
            "tags": []
          },
          "execution_count": 169
        }
      ]
    },
    {
      "cell_type": "code",
      "metadata": {
        "id": "EZvpU98Y0QHW",
        "colab_type": "code",
        "outputId": "40a1406d-052a-41cc-9b3d-5c978670e77b",
        "colab": {
          "base_uri": "https://localhost:8080/",
          "height": 34
        }
      },
      "source": [
        "x_scaled.shape"
      ],
      "execution_count": 0,
      "outputs": [
        {
          "output_type": "execute_result",
          "data": {
            "text/plain": [
              "(8293, 81)"
            ]
          },
          "metadata": {
            "tags": []
          },
          "execution_count": 170
        }
      ]
    },
    {
      "cell_type": "code",
      "metadata": {
        "id": "tqdpSbLfyPyV",
        "colab_type": "code",
        "outputId": "cc81c92f-4d97-464b-a776-f731474ab740",
        "colab": {
          "base_uri": "https://localhost:8080/",
          "height": 374
        }
      },
      "source": [
        "print(coefficient)\n",
        "coefficient"
      ],
      "execution_count": 0,
      "outputs": [
        {
          "output_type": "stream",
          "text": [
            "[ 5.87483623e+04 -3.49883641e+03  1.81486549e+02 -1.52408242e+03\n",
            "  9.86677674e+02  1.42540888e+03  2.80770570e+03  6.64019983e+02\n",
            "  2.11868980e+02  1.33822703e+02  2.66835405e+02  1.01638852e+04\n",
            "  2.12796953e+03  1.66192498e+01 -6.54709543e+02 -6.68577398e+02\n",
            " -9.61971088e+02 -1.24861235e+03 -1.57446193e+03  7.65358582e+02\n",
            " -1.23860214e+02 -6.10062760e+01 -0.00000000e+00  0.00000000e+00\n",
            " -0.00000000e+00  1.77800179e+03  5.59154869e+00  1.26293214e+03\n",
            "  0.00000000e+00 -2.76424061e+02 -2.20471653e+03  5.20165921e+00\n",
            " -4.84260429e+01  5.93746063e+02  7.60320362e+02  7.73895760e+02\n",
            " -4.08168307e+02 -3.12364078e+02 -4.19409821e+02  3.03341331e+02\n",
            " -8.40900153e+02 -1.32943031e+04  3.13745408e+02  4.99023617e+02\n",
            "  1.63865432e+03  3.61754448e+02 -0.00000000e+00  1.81811827e+02\n",
            " -1.12186248e+02 -3.22449488e+02 -1.61767448e+03  3.45343678e+03\n",
            "  4.94416608e+02  1.69073925e+03 -1.61108015e+03  3.83502204e+02\n",
            " -0.00000000e+00 -8.49047629e+01 -0.00000000e+00  2.35784254e+02\n",
            " -0.00000000e+00 -0.00000000e+00  7.41758285e+01  1.59938457e+03\n",
            "  1.19143715e+03  1.96942814e+03 -2.38633726e+03  1.11696436e+03\n",
            "  1.06375483e+02 -4.60924034e+03  6.22661466e+02  1.70256486e+03\n",
            " -4.40179736e+02  1.02387904e+03 -0.00000000e+00 -7.50771714e+02\n",
            "  1.63561552e+02 -9.35946809e+02  5.69874595e+02  0.00000000e+00\n",
            " -0.00000000e+00]\n"
          ],
          "name": "stdout"
        }
      ]
    },
    {
      "cell_type": "code",
      "metadata": {
        "id": "gkd8HVgZ5wHX",
        "colab_type": "code",
        "outputId": "fb7ff24a-b0a6-47b1-c42f-cc5518eff447",
        "colab": {
          "base_uri": "https://localhost:8080/",
          "height": 34
        }
      },
      "source": [
        "coeff_used = np.sum(coefficient!=0)\n",
        "print(\"number of features used: \", coeff_used)\n"
      ],
      "execution_count": 0,
      "outputs": [
        {
          "output_type": "stream",
          "text": [
            "number of features used:  69\n"
          ],
          "name": "stdout"
        }
      ]
    },
    {
      "cell_type": "code",
      "metadata": {
        "id": "R--6U4zLz2iN",
        "colab_type": "code",
        "outputId": "8c3fc94f-a132-43b3-825a-59eb62d43931",
        "colab": {
          "base_uri": "https://localhost:8080/",
          "height": 34
        }
      },
      "source": [
        "coe = coefficient.reshape((-1, 1))\n",
        "coe1 = coe.T\n",
        "coe1.shape"
      ],
      "execution_count": 0,
      "outputs": [
        {
          "output_type": "execute_result",
          "data": {
            "text/plain": [
              "(1, 81)"
            ]
          },
          "metadata": {
            "tags": []
          },
          "execution_count": 187
        }
      ]
    },
    {
      "cell_type": "code",
      "metadata": {
        "id": "pdfB7tV_0wha",
        "colab_type": "code",
        "colab": {}
      },
      "source": [
        "coefficient_df = pd.DataFrame(coe1, columns=x_scaled.columns)"
      ],
      "execution_count": 0,
      "outputs": []
    },
    {
      "cell_type": "code",
      "metadata": {
        "id": "eJWXB_YV3br2",
        "colab_type": "code",
        "colab": {}
      },
      "source": [
        "coefficient_dft = coefficient_df.T"
      ],
      "execution_count": 0,
      "outputs": []
    },
    {
      "cell_type": "code",
      "metadata": {
        "id": "2dt-8Ovh4pnE",
        "colab_type": "code",
        "outputId": "28f53459-4b14-4dfb-b0e6-5ad37337e799",
        "colab": {
          "base_uri": "https://localhost:8080/",
          "height": 1000
        }
      },
      "source": [
        "coefficient_dft.head"
      ],
      "execution_count": 0,
      "outputs": [
        {
          "output_type": "execute_result",
          "data": {
            "text/plain": [
              "<bound method NDFrame.head of                                                            0\n",
              "price                                           58748.362282\n",
              "accommodates                                    -3498.836414\n",
              "bathrooms                                         181.486549\n",
              "bedrooms                                        -1524.082420\n",
              "beds                                              986.677674\n",
              "neighbourhood_cleansed_Ang Mo Kio                1425.408876\n",
              "neighbourhood_cleansed_Bedok                     2807.705704\n",
              "neighbourhood_cleansed_Bishan                     664.019983\n",
              "neighbourhood_cleansed_Boon Lay                   211.868980\n",
              "neighbourhood_cleansed_Bukit Batok                133.822703\n",
              "neighbourhood_cleansed_Bukit Merah                266.835405\n",
              "neighbourhood_cleansed_Bukit Panjang            10163.885221\n",
              "neighbourhood_cleansed_Bukit Timah               2127.969533\n",
              "neighbourhood_cleansed_Central Water Catchment     16.619250\n",
              "neighbourhood_cleansed_Choa Chu Kang             -654.709543\n",
              "neighbourhood_cleansed_Clementi                  -668.577398\n",
              "neighbourhood_cleansed_Downtown Core             -961.971088\n",
              "neighbourhood_cleansed_Geylang                  -1248.612353\n",
              "neighbourhood_cleansed_Hougang                  -1574.461932\n",
              "neighbourhood_cleansed_Jurong East                765.358582\n",
              "neighbourhood_cleansed_Jurong West               -123.860214\n",
              "neighbourhood_cleansed_Kallang                    -61.006276\n",
              "neighbourhood_cleansed_Lim Chu Kang                -0.000000\n",
              "neighbourhood_cleansed_Mandai                       0.000000\n",
              "neighbourhood_cleansed_Marina South                -0.000000\n",
              "neighbourhood_cleansed_Marine Parade             1778.001785\n",
              "neighbourhood_cleansed_Museum                       5.591549\n",
              "neighbourhood_cleansed_Newton                    1262.932142\n",
              "neighbourhood_cleansed_Novena                       0.000000\n",
              "neighbourhood_cleansed_Orchard                   -276.424061\n",
              "...                                                      ...\n",
              "property_type_Apartment                          3453.436778\n",
              "property_type_Bed and breakfast                   494.416608\n",
              "property_type_Boat                               1690.739250\n",
              "property_type_Boutique hotel                    -1611.080148\n",
              "property_type_Bungalow                            383.502204\n",
              "property_type_Cabin                                -0.000000\n",
              "property_type_Campsite                            -84.904763\n",
              "property_type_Chalet                               -0.000000\n",
              "property_type_Condominium                         235.784254\n",
              "property_type_Cottage                              -0.000000\n",
              "property_type_Farm stay                            -0.000000\n",
              "property_type_Guest suite                          74.175829\n",
              "property_type_Guesthouse                         1599.384569\n",
              "property_type_Hostel                             1191.437154\n",
              "property_type_Hotel                              1969.428138\n",
              "property_type_House                             -2386.337264\n",
              "property_type_Loft                               1116.964358\n",
              "property_type_Other                               106.375483\n",
              "property_type_Serviced apartment                -4609.240337\n",
              "property_type_Tent                                622.661466\n",
              "property_type_Townhouse                          1702.564862\n",
              "property_type_Villa                              -440.179736\n",
              "room_type_Entire home/apt                        1023.879041\n",
              "room_type_Private room                             -0.000000\n",
              "room_type_Shared room                            -750.771714\n",
              "bed_type_Airbed                                   163.561552\n",
              "bed_type_Couch                                   -935.946809\n",
              "bed_type_Futon                                    569.874595\n",
              "bed_type_Pull-out Sofa                              0.000000\n",
              "bed_type_Real Bed                                  -0.000000\n",
              "\n",
              "[81 rows x 1 columns]>"
            ]
          },
          "metadata": {
            "tags": []
          },
          "execution_count": 198
        }
      ]
    },
    {
      "cell_type": "code",
      "metadata": {
        "id": "IQORBdfY5LNq",
        "colab_type": "code",
        "outputId": "5d8366aa-cd52-41d1-9559-0bfb0ae1abd3",
        "colab": {
          "base_uri": "https://localhost:8080/",
          "height": 631
        }
      },
      "source": [
        "# Plot the coefficients\n",
        "plt.figure(figsize=(18, 6))\n",
        "plt.plot(coefficient_dft)\n",
        "plt.xticks(range(len(coefficient_df.columns)), coefficient_df.columns.values, rotation=90) \n",
        "plt.show()\n",
        "\n",
        "'''\n",
        "# Alternate Plot the coefficients without transpose the coefficient_df\n",
        "plt.figure(figsize=(18, 6))\n",
        "plt.plot(range(len(coefficient_df.columns)), coefficient)\n",
        "plt.xticks(range(len(coefficient_df.columns)), coefficient_df.columns.values, rotation=90) \n",
        "plt.show()\n",
        "'''"
      ],
      "execution_count": 0,
      "outputs": [
        {
          "output_type": "display_data",
          "data": {
            "image/png": "[encoded data removed]",
            "text/plain": [
              "<Figure size 1296x432 with 1 Axes>"
            ]
          },
          "metadata": {
            "tags": []
          }
        }
      ]
    },
    {
      "cell_type": "code",
      "metadata": {
        "id": "ct6GrPyBzHmZ",
        "colab_type": "code",
        "outputId": "4a31ee16-e63e-4f2a-bdfa-e9349f145131",
        "colab": {
          "base_uri": "https://localhost:8080/",
          "height": 34
        }
      },
      "source": [
        "coefficient_dft.columns"
      ],
      "execution_count": 0,
      "outputs": [
        {
          "output_type": "execute_result",
          "data": {
            "text/plain": [
              "RangeIndex(start=0, stop=1, step=1)"
            ]
          },
          "metadata": {
            "tags": []
          },
          "execution_count": 217
        }
      ]
    },
    {
      "cell_type": "code",
      "metadata": {
        "id": "DifJk9ZQ6fcR",
        "colab_type": "code",
        "colab": {}
      },
      "source": [
        "coefficient_dft.columns = ['coefficient']"
      ],
      "execution_count": 0,
      "outputs": []
    },
    {
      "cell_type": "code",
      "metadata": {
        "id": "Z5eNLRDm7TzK",
        "colab_type": "code",
        "outputId": "309669d5-b44a-4724-afbe-78a61bedb095",
        "colab": {
          "base_uri": "https://localhost:8080/",
          "height": 204
        }
      },
      "source": [
        "coefficient_dft.head()"
      ],
      "execution_count": 0,
      "outputs": [
        {
          "output_type": "execute_result",
          "data": {
            "text/html": [
              "<div>\n",
              "<style scoped>\n",
              "    .dataframe tbody tr th:only-of-type {\n",
              "        vertical-align: middle;\n",
              "    }\n",
              "\n",
              "    .dataframe tbody tr th {\n",
              "        vertical-align: top;\n",
              "    }\n",
              "\n",
              "    .dataframe thead th {\n",
              "        text-align: right;\n",
              "    }\n",
              "</style>\n",
              "<table border=\"1\" class=\"dataframe\">\n",
              "  <thead>\n",
              "    <tr style=\"text-align: right;\">\n",
              "      <th></th>\n",
              "      <th>coefficient</th>\n",
              "    </tr>\n",
              "  </thead>\n",
              "  <tbody>\n",
              "    <tr>\n",
              "      <th>price</th>\n",
              "      <td>58748.362282</td>\n",
              "    </tr>\n",
              "    <tr>\n",
              "      <th>accommodates</th>\n",
              "      <td>-3498.836414</td>\n",
              "    </tr>\n",
              "    <tr>\n",
              "      <th>bathrooms</th>\n",
              "      <td>181.486549</td>\n",
              "    </tr>\n",
              "    <tr>\n",
              "      <th>bedrooms</th>\n",
              "      <td>-1524.082420</td>\n",
              "    </tr>\n",
              "    <tr>\n",
              "      <th>beds</th>\n",
              "      <td>986.677674</td>\n",
              "    </tr>\n",
              "  </tbody>\n",
              "</table>\n",
              "</div>"
            ],
            "text/plain": [
              "               coefficient\n",
              "price         58748.362282\n",
              "accommodates  -3498.836414\n",
              "bathrooms       181.486549\n",
              "bedrooms      -1524.082420\n",
              "beds            986.677674"
            ]
          },
          "metadata": {
            "tags": []
          },
          "execution_count": 220
        }
      ]
    },
    {
      "cell_type": "code",
      "metadata": {
        "id": "mu_RKlY_8VEK",
        "colab_type": "code",
        "outputId": "6ff52ffa-c438-438f-8d12-0702f0b56c91",
        "colab": {
          "base_uri": "https://localhost:8080/",
          "height": 34
        }
      },
      "source": [
        "coefficient_dftd = coefficient_dft[coefficient_dft['coefficient']!=0]\n",
        "coefficient_dftd.shape"
      ],
      "execution_count": 0,
      "outputs": [
        {
          "output_type": "execute_result",
          "data": {
            "text/plain": [
              "(69, 1)"
            ]
          },
          "metadata": {
            "tags": []
          },
          "execution_count": 226
        }
      ]
    },
    {
      "cell_type": "code",
      "metadata": {
        "id": "XyOEjafn8Z5D",
        "colab_type": "code",
        "outputId": "6e3234b5-6418-4430-fa38-8f0e5f1caf30",
        "colab": {
          "base_uri": "https://localhost:8080/",
          "height": 631
        }
      },
      "source": [
        "# Plot the non zero coefficients\n",
        "plt.figure(figsize=(18, 6))\n",
        "plt.plot(coefficient_dftd)\n",
        "plt.xticks(range(len(coefficient_dftd.T.columns)), coefficient_dftd.T.columns.values, rotation=90) \n",
        "plt.show()"
      ],
      "execution_count": 0,
      "outputs": [
        {
          "output_type": "display_data",
          "data": {
            "image/png": "[encoded data removed]",
            "text/plain": [
              "<Figure size 1296x432 with 1 Axes>"
            ]
          },
          "metadata": {
            "tags": []
          }
        }
      ]
    },
    {
      "cell_type": "markdown",
      "metadata": {
        "colab_type": "text",
        "id": "B6lmtslfVEFC"
      },
      "source": [
        "## Evaluation\n",
        "Five important property characteristics give higher revenues:<p>\n",
        "Price <p>\n",
        "neighbourhood_cleansed_Bukit Panjang <p>\n",
        "neighbourhood_cleansed_Southern Islands <p>\n",
        "property_type_Serviced apartment <p>\n",
        "property_type_Apartment\n"
      ]
    },
    {
      "cell_type": "markdown",
      "metadata": {
        "id": "ps0XxVkhQ2Xy",
        "colab_type": "text"
      },
      "source": [
        "# References\n",
        "https://www.kaggle.com/airbnb/seattle/data <p>\n",
        "https://towardsdatascience.com/ridge-and-lasso-regression-a-complete-guide-with-python-scikit-learn-e20e34bcbf0b <p>\n",
        "https://www.kaggle.com/jmataya/regularization-with-lasso-and-ridge"
      ]
    }
  ]
}